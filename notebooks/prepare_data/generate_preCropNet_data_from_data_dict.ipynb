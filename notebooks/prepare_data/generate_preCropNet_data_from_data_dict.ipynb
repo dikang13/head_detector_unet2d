{
 "cells": [
  {
   "cell_type": "code",
   "execution_count": 1,
   "id": "c7cb43dd",
   "metadata": {},
   "outputs": [
    {
     "name": "stderr",
     "output_type": "stream",
     "text": [
      "\u001b[33m\u001b[1m┌ \u001b[22m\u001b[39m\u001b[33m\u001b[1mWarning: \u001b[22m\u001b[39mYou are using a non-official build of Julia. This may cause issues with CUDA.jl.\n",
      "\u001b[33m\u001b[1m│ \u001b[22m\u001b[39mPlease consider using an official build from https://julialang.org/downloads/.\n",
      "\u001b[33m\u001b[1m└ \u001b[22m\u001b[39m\u001b[90m@ CUDA ~/.julia/packages/CUDA/75aiI/src/initialization.jl:180\u001b[39m\n"
     ]
    },
    {
     "data": {
      "application/vnd.webio.node+json": {
       "children": [],
       "instanceArgs": {
        "namespace": "html",
        "tag": "div"
       },
       "nodeType": "DOM",
       "props": {},
       "type": "node"
      },
      "text/html": [
       "<div style=\"padding: 1em; background-color: #f8d6da; border: 1px solid #f5c6cb; font-weight: bold;\">\n",
       "<p>The WebIO Jupyter extension was not detected. See the\n",
       "<a href=\"https://juliagizmos.github.io/WebIO.jl/latest/providers/ijulia/\" target=\"_blank\">\n",
       "    WebIO Jupyter integration documentation\n",
       "</a>\n",
       "for more information.\n",
       "</div>\n"
      ],
      "text/plain": [
       "WebIO._IJuliaInit()"
      ]
     },
     "metadata": {},
     "output_type": "display_data"
    }
   ],
   "source": [
    "using JLD2, FlavellBase, ImageDataIO, SegmentationTools, PyPlot, BehaviorDataNIR, HDF5, UNet2D, ProgressMeter, Random, Plots, NRRDIO, Statistics, StatsBase"
   ]
  },
  {
   "cell_type": "markdown",
   "id": "4e84d062-bd8a-4312-a4d0-7f997a749cc3",
   "metadata": {},
   "source": [
    "### Pre-CropNet datasets"
   ]
  },
  {
   "cell_type": "code",
   "execution_count": 48,
   "id": "17bc2cf8-4735-4aac-8f7a-891738b1783c",
   "metadata": {},
   "outputs": [
    {
     "data": {
      "text/plain": [
       "Dict{String, String} with 188 entries:\n",
       "  \"2024-04-15-03\" => \"/store1/prj_rim/data_processed/2024-04-15-03_output\"\n",
       "  \"2023-08-23-02\" => \"/store1/prj_rim/data_processed/2023-08-23-02_output\"\n",
       "  \"2023-08-23-23\" => \"/store1/prj_rim/data_processed/2023-08-23-23_output\"\n",
       "  \"2023-06-24-28\" => \"/store1/prj_rim/data_processed/2023-06-24-28_output\"\n",
       "  \"2022-07-26-38\" => \"/data3/prj_5ht/published_data/data_processed_neuropal/202…\n",
       "  \"2023-07-14-08\" => \"/data1/prj_aversion/data_processed/2023-07-14-08_output\"\n",
       "  \"2023-10-06-07\" => \"/data1/prj_starvation/data_processed/2023-10-06-07_output\"\n",
       "  \"2023-08-02-10\" => \"/data1/prj_starvation/data_processed/2023-08-02-10_output\"\n",
       "  \"2023-06-05-01\" => \"/data1/prj_starvation/data_processed/2023-06-05-01_output\"\n",
       "  \"2022-07-27-31\" => \"/data3/prj_5ht/published_data/data_processed_neuropal/202…\n",
       "  \"2023-07-07-18\" => \"/store1/prj_rim/data_processed/2023-07-07-18_output\"\n",
       "  \"2023-07-28-04\" => \"/store1/prj_rim/data_processed/2023-07-28-04_output\"\n",
       "  \"2023-08-22-08\" => \"/store1/prj_rim/data_processed/2023-08-22-08_output\"\n",
       "  \"2023-06-23-08\" => \"/data1/prj_aversion/data_processed/2023-06-23-08_output\"\n",
       "  \"2023-05-04-01\" => \"/data1/prj_starvation/data_processed/2023-05-04-01_output\"\n",
       "  \"2023-07-25-11\" => \"/data1/prj_starvation/data_processed/2023-07-25-11_output\"\n",
       "  \"2023-01-10-07\" => \"/store1//prj_neuropal/data_processed/2023-01-10-07_output\"\n",
       "  \"2023-08-02-01\" => \"/data1/prj_starvation/data_processed/2023-08-02-01_output\"\n",
       "  \"2023-10-03-02\" => \"/store1/prj_rim/data_processed/2023-10-03-02_output\"\n",
       "  \"2023-06-29-01\" => \"/data1/prj_aversion/data_processed/2023-06-29-01_output\"\n",
       "  \"2022-06-14-13\" => \"/store1//prj_neuropal/data_processed/2022-06-14-13_output\"\n",
       "  \"2023-10-09-07\" => \"/data1/prj_starvation/data_processed/2023-10-09-07_output\"\n",
       "  \"2023-09-29-01\" => \"/data1/prj_starvation/data_processed/2023-09-29-01_output\"\n",
       "  \"2023-10-13-20\" => \"/data1/prj_starvation/data_processed/2023-10-13-20_output\"\n",
       "  \"2023-07-08-06\" => \"/store1/prj_rim/data_processed/2023-07-08-06_output\"\n",
       "  ⋮               => ⋮"
      ]
     },
     "execution_count": 48,
     "metadata": {},
     "output_type": "execute_result"
    }
   ],
   "source": [
    "# Define base project directories\n",
    "prj_5ht_dir = \"/data3/prj_5ht/published_data/data_processed_neuropal\"\n",
    "prj_starvation_dir = \"/data1/prj_starvation/data_processed\"\n",
    "prj_neuropal_dir = \"/store1//prj_neuropal/data_processed\"\n",
    "prj_rim_dir = \"/store1/prj_rim/data_processed\"\n",
    "prj_aversion_dir = \"/data1/prj_aversion/data_processed\"\n",
    "prj_kfc_dir = \"/data1/prj_kfc/data_processed\"\n",
    "\n",
    "# Create the dataset paths dictionary\n",
    "dataset_paths = Dict(\n",
    "    # prj_5ht datasets\n",
    "    \"2022-07-26-38\" => \"$(prj_5ht_dir)/2022-07-26-38_output\",\n",
    "    \"2022-07-27-45\" => \"$(prj_5ht_dir)/2022-07-27-45_output\",\n",
    "    \"2022-08-02-31\" => \"$(prj_5ht_dir)/2022-08-02-31_output\",\n",
    "    \"2022-07-26-31\" => \"$(prj_5ht_dir)/2022-07-26-31_output\",\n",
    "    \"2022-07-27-31\" => \"$(prj_5ht_dir)/2022-07-27-31_output\",\n",
    "    \"2022-07-27-52\" => \"$(prj_5ht_dir)/2022-07-27-52_output\",\n",
    "    \"2022-08-02-38\" => \"$(prj_5ht_dir)/2022-08-02-38_output\",\n",
    "    \"2022-08-02-45\" => \"$(prj_5ht_dir)/2022-08-02-45_output\",\n",
    "    \"2022-08-03-31\" => \"$(prj_5ht_dir)/2022-08-03-31_output\",\n",
    "    \"2022-08-03-38\" => \"$(prj_5ht_dir)/2022-08-03-38_output\",\n",
    "\n",
    "    # prj_starvation datasets\n",
    "    \"2023-09-13-02\" => \"$(prj_starvation_dir)/2023-09-13-02_output\",\n",
    "    \"2023-09-29-01\" => \"$(prj_starvation_dir)/2023-09-29-01_output\",\n",
    "    \"2023-07-24-20\" => \"$(prj_starvation_dir)/2023-07-24-20_output\",\n",
    "    \"2023-07-25-01\" => \"$(prj_starvation_dir)/2023-07-25-01_output\",\n",
    "    \"2023-08-01-01\" => \"$(prj_starvation_dir)/2023-08-01-01_output\",\n",
    "    \"2023-09-06-01\" => \"$(prj_starvation_dir)/2023-09-06-01_output\",\n",
    "    \"2023-09-19-01\" => \"$(prj_starvation_dir)/2023-09-19-01_output\",\n",
    "    \"2023-09-27-14\" => \"$(prj_starvation_dir)/2023-09-27-14_output\",\n",
    "    \"2023-05-04-01\" => \"$(prj_starvation_dir)/2023-05-04-01_output\",\n",
    "    \"2023-05-04-07\" => \"$(prj_starvation_dir)/2023-05-04-07_output\",\n",
    "    \"2023-05-25-01\" => \"$(prj_starvation_dir)/2023-05-25-01_output\",\n",
    "    \"2023-05-25-08\" => \"$(prj_starvation_dir)/2023-05-25-08_output\",\n",
    "    \"2023-05-26-01\" => \"$(prj_starvation_dir)/2023-05-26-01_output\",\n",
    "    \"2023-05-26-08\" => \"$(prj_starvation_dir)/2023-05-26-08_output\",\n",
    "    \"2023-05-26-19\" => \"$(prj_starvation_dir)/2023-05-26-19_output\",\n",
    "    \"2023-05-30-01\" => \"$(prj_starvation_dir)/2023-05-30-01_output\",\n",
    "    \"2023-05-30-14\" => \"$(prj_starvation_dir)/2023-05-30-14_output\",\n",
    "    \"2023-05-31-01\" => \"$(prj_starvation_dir)/2023-05-31-01_output\",\n",
    "    \"2023-06-04-02\" => \"$(prj_starvation_dir)/2023-06-04-02_output\",\n",
    "    \"2023-06-04-13\" => \"$(prj_starvation_dir)/2023-06-04-13_output\",\n",
    "    \"2023-06-05-01\" => \"$(prj_starvation_dir)/2023-06-05-01_output\",\n",
    "    \"2023-06-05-10\" => \"$(prj_starvation_dir)/2023-06-05-10_output\",\n",
    "    \"2023-06-05-27\" => \"$(prj_starvation_dir)/2023-06-05-27_output\",\n",
    "    \"2023-07-24-01\" => \"$(prj_starvation_dir)/2023-07-24-01_output\",\n",
    "    \"2023-07-24-12\" => \"$(prj_starvation_dir)/2023-07-24-12_output\",\n",
    "    \"2023-07-24-27\" => \"$(prj_starvation_dir)/2023-07-24-27_output\",\n",
    "    \"2023-07-25-10\" => \"$(prj_starvation_dir)/2023-07-25-10_output\",\n",
    "    \"2023-07-25-11\" => \"$(prj_starvation_dir)/2023-07-25-11_output\",\n",
    "    \"2023-07-25-18\" => \"$(prj_starvation_dir)/2023-07-25-18_output\",\n",
    "    \"2023-07-31-01\" => \"$(prj_starvation_dir)/2023-07-31-01_output\",\n",
    "    \"2023-07-31-09\" => \"$(prj_starvation_dir)/2023-07-31-09_output\",\n",
    "    \"2023-08-02-01\" => \"$(prj_starvation_dir)/2023-08-02-01_output\",\n",
    "    \"2023-08-02-10\" => \"$(prj_starvation_dir)/2023-08-02-10_output\",\n",
    "    \"2023-08-02-17\" => \"$(prj_starvation_dir)/2023-08-02-17_output\",\n",
    "    \"2023-09-05-01\" => \"$(prj_starvation_dir)/2023-09-05-01_output\",\n",
    "    \"2023-09-05-07\" => \"$(prj_starvation_dir)/2023-09-05-07_output\",\n",
    "    \"2023-09-05-13\" => \"$(prj_starvation_dir)/2023-09-05-13_output\",\n",
    "    \"2023-09-06-12\" => \"$(prj_starvation_dir)/2023-09-06-12_output\",\n",
    "    \"2023-09-06-19\" => \"$(prj_starvation_dir)/2023-09-06-19_output\",\n",
    "    \"2023-09-12-01\" => \"$(prj_starvation_dir)/2023-09-12-01_output\",\n",
    "    \"2023-09-12-12\" => \"$(prj_starvation_dir)/2023-09-12-12_output\",\n",
    "    \"2023-09-13-09\" => \"$(prj_starvation_dir)/2023-09-13-09_output\",\n",
    "    \"2023-09-27-01\" => \"$(prj_starvation_dir)/2023-09-27-01_output\",\n",
    "    \"2023-09-27-08\" => \"$(prj_starvation_dir)/2023-09-27-08_output\",\n",
    "    \"2023-09-29-19\" => \"$(prj_starvation_dir)/2023-09-29-19_output\",\n",
    "    \"2023-10-06-01\" => \"$(prj_starvation_dir)/2023-10-06-01_output\",\n",
    "    \"2023-10-06-07\" => \"$(prj_starvation_dir)/2023-10-06-07_output\",\n",
    "    \"2023-10-06-14\" => \"$(prj_starvation_dir)/2023-10-06-14_output\",\n",
    "    \"2023-10-09-01\" => \"$(prj_starvation_dir)/2023-10-09-01_output\",\n",
    "    \"2023-10-09-07\" => \"$(prj_starvation_dir)/2023-10-09-07_output\",\n",
    "    \"2023-10-09-17\" => \"$(prj_starvation_dir)/2023-10-09-17_output\",\n",
    "    \"2023-10-09-23\" => \"$(prj_starvation_dir)/2023-10-09-23_output\",\n",
    "    \"2023-10-11-01\" => \"$(prj_starvation_dir)/2023-10-11-01_output\",\n",
    "    \"2023-10-11-07\" => \"$(prj_starvation_dir)/2023-10-11-07_output\",\n",
    "    \"2023-10-11-16\" => \"$(prj_starvation_dir)/2023-10-11-16_output\",\n",
    "    \"2023-10-13-01\" => \"$(prj_starvation_dir)/2023-10-13-01_output\",\n",
    "    \"2023-10-13-08\" => \"$(prj_starvation_dir)/2023-10-13-08_output\",\n",
    "    \"2023-10-13-13\" => \"$(prj_starvation_dir)/2023-10-13-13_output\",\n",
    "    \"2023-10-13-20\" => \"$(prj_starvation_dir)/2023-10-13-20_output\",\n",
    "\n",
    "    # prj_neuropal datasets\n",
    "    \"2022-06-14-07\" => \"$(prj_neuropal_dir)/2022-06-14-07_output\",\n",
    "    \"2022-08-02-01\" => \"$(prj_neuropal_dir)/2022-08-02-01_output\",\n",
    "    \"2023-01-23-08\" => \"$(prj_neuropal_dir)/2023-01-23-08_output\",\n",
    "    \"2023-03-07-01\" => \"$(prj_neuropal_dir)/2023-03-07-01_output\",\n",
    "    \"2022-01-06-01\" => \"$(prj_neuropal_dir)/2022-01-06-01_output\",\n",
    "    \"2022-05-17-01\" => \"$(prj_neuropal_dir)/2022-05-17-01_output\",\n",
    "    \"2022-05-17-06\" => \"$(prj_neuropal_dir)/2022-05-17-06_output\",\n",
    "    \"2022-05-25-02\" => \"$(prj_neuropal_dir)/2022-05-25-02_output\",\n",
    "    \"2022-06-14-01\" => \"$(prj_neuropal_dir)/2022-06-14-01_output\",\n",
    "    \"2022-06-14-13\" => \"$(prj_neuropal_dir)/2022-06-14-13_output\",\n",
    "    \"2022-06-28-01\" => \"$(prj_neuropal_dir)/2022-06-28-01_output\",\n",
    "    \"2022-06-28-07\" => \"$(prj_neuropal_dir)/2022-06-28-07_output\",\n",
    "    \"2022-07-12-13\" => \"$(prj_neuropal_dir)/2022-07-12-13_output\",\n",
    "    \"2022-07-15-06\" => \"$(prj_neuropal_dir)/2022-07-15-06_output\",\n",
    "    \"2022-07-15-12\" => \"$(prj_neuropal_dir)/2022-07-15-12_output\",\n",
    "    \"2022-07-19-01\" => \"$(prj_neuropal_dir)/2022-07-19-01_output\",\n",
    "    \"2022-07-20-01\" => \"$(prj_neuropal_dir)/2022-07-20-01_output\",\n",
    "    \"2022-07-26-01\" => \"$(prj_neuropal_dir)/2022-07-26-01_output\",\n",
    "    \"2022-07-29-01\" => \"$(prj_neuropal_dir)/2022-07-29-01_output\",\n",
    "    \"2022-07-29-08\" => \"$(prj_neuropal_dir)/2022-07-29-08_output\",\n",
    "    \"2022-12-21-06\" => \"$(prj_neuropal_dir)/2022-12-21-06_output\",\n",
    "    \"2023-01-05-01\" => \"$(prj_neuropal_dir)/2023-01-05-01_output\",\n",
    "    \"2023-01-05-10\" => \"$(prj_neuropal_dir)/2023-01-05-10_output\",\n",
    "    \"2023-01-05-18\" => \"$(prj_neuropal_dir)/2023-01-05-18_output\",\n",
    "    \"2023-01-06-01\" => \"$(prj_neuropal_dir)/2023-01-06-01_output\",\n",
    "    \"2023-01-06-08\" => \"$(prj_neuropal_dir)/2023-01-06-08_output\",\n",
    "    \"2023-01-06-15\" => \"$(prj_neuropal_dir)/2023-01-06-15_output\",\n",
    "    \"2023-01-09-01\" => \"$(prj_neuropal_dir)/2023-01-09-01_output\",\n",
    "    \"2023-01-09-08\" => \"$(prj_neuropal_dir)/2023-01-09-08_output\",\n",
    "    \"2023-01-09-15\" => \"$(prj_neuropal_dir)/2023-01-09-15_output\",\n",
    "    \"2023-01-09-22\" => \"$(prj_neuropal_dir)/2023-01-09-22_output\",\n",
    "    \"2023-01-09-28\" => \"$(prj_neuropal_dir)/2023-01-09-28_output\",\n",
    "    \"2023-01-10-01\" => \"$(prj_neuropal_dir)/2023-01-10-01_output\",\n",
    "    \"2023-01-10-07\" => \"$(prj_neuropal_dir)/2023-01-10-07_output\",\n",
    "    \"2023-01-10-14\" => \"$(prj_neuropal_dir)/2023-01-10-14_output\",\n",
    "    \"2023-01-13-01\" => \"$(prj_neuropal_dir)/2023-01-13-01_output\",\n",
    "    \"2023-01-13-07\" => \"$(prj_neuropal_dir)/2023-01-13-07_output\",\n",
    "    \"2023-01-16-01\" => \"$(prj_neuropal_dir)/2023-01-16-01_output\",\n",
    "    \"2023-01-16-08\" => \"$(prj_neuropal_dir)/2023-01-16-08_output\",\n",
    "\n",
    "    # prj_rim datasets\n",
    "    \"2023-06-09-01\" => \"$(prj_rim_dir)/2023-06-09-01_output\",\n",
    "    \"2023-06-09-10\" => \"$(prj_rim_dir)/2023-06-09-10_output\",\n",
    "    \"2023-06-24-02\" => \"$(prj_rim_dir)/2023-06-24-02_output\",\n",
    "    \"2023-06-24-11\" => \"$(prj_rim_dir)/2023-06-24-11_output\",\n",
    "    \"2023-06-24-19\" => \"$(prj_rim_dir)/2023-06-24-19_output\",\n",
    "    \"2023-06-24-28\" => \"$(prj_rim_dir)/2023-06-24-28_output\",\n",
    "    \"2023-07-01-01\" => \"$(prj_rim_dir)/2023-07-01-01_output\",\n",
    "    \"2023-07-01-09\" => \"$(prj_rim_dir)/2023-07-01-09_output\",\n",
    "    \"2023-07-01-23\" => \"$(prj_rim_dir)/2023-07-01-23_output\",\n",
    "    \"2023-07-01-30\" => \"$(prj_rim_dir)/2023-07-01-30_output\",\n",
    "    \"2023-07-07-01\" => \"$(prj_rim_dir)/2023-07-07-01_output\",\n",
    "    \"2023-07-07-11\" => \"$(prj_rim_dir)/2023-07-07-11_output\",\n",
    "    \"2023-07-07-18\" => \"$(prj_rim_dir)/2023-07-07-18_output\",\n",
    "    \"2023-07-08-06\" => \"$(prj_rim_dir)/2023-07-08-06_output\",\n",
    "    \"2023-07-11-02\" => \"$(prj_rim_dir)/2023-07-11-02_output\",\n",
    "    \"2023-07-12-01\" => \"$(prj_rim_dir)/2023-07-12-01_output\",\n",
    "    \"2023-07-13-01\" => \"$(prj_rim_dir)/2023-07-13-01_output\",\n",
    "    \"2023-07-13-09\" => \"$(prj_rim_dir)/2023-07-13-09_output\",\n",
    "    \"2023-07-13-17\" => \"$(prj_rim_dir)/2023-07-13-17_output\",\n",
    "    \"2023-07-16-02\" => \"$(prj_rim_dir)/2023-07-16-02_output\",\n",
    "    \"2023-07-28-04\" => \"$(prj_rim_dir)/2023-07-28-04_output\",\n",
    "    \"2023-08-07-08\" => \"$(prj_rim_dir)/2023-08-07-08_output\",\n",
    "    \"2023-08-07-16\" => \"$(prj_rim_dir)/2023-08-07-16_output\",\n",
    "    \"2023-08-18-11\" => \"$(prj_rim_dir)/2023-08-18-11_output\",\n",
    "    \"2023-08-18-18\" => \"$(prj_rim_dir)/2023-08-18-18_output\",\n",
    "    \"2023-08-19-01\" => \"$(prj_rim_dir)/2023-08-19-01_output\",\n",
    "    \"2023-08-22-01\" => \"$(prj_rim_dir)/2023-08-22-01_output\",\n",
    "    \"2023-08-22-08\" => \"$(prj_rim_dir)/2023-08-22-08_output\",\n",
    "    \"2023-08-23-02\" => \"$(prj_rim_dir)/2023-08-23-02_output\",\n",
    "    \"2023-08-23-09\" => \"$(prj_rim_dir)/2023-08-23-09_output\",\n",
    "    \"2023-08-23-23\" => \"$(prj_rim_dir)/2023-08-23-23_output\",\n",
    "    \"2023-08-24-03\" => \"$(prj_rim_dir)/2023-08-24-03_output\",\n",
    "    \"2023-08-25-02\" => \"$(prj_rim_dir)/2023-08-25-02_output\",\n",
    "    \"2023-08-25-09\" => \"$(prj_rim_dir)/2023-08-25-09_output\",\n",
    "    \"2023-08-31-03\" => \"$(prj_rim_dir)/2023-08-31-03_output\",\n",
    "    \"2023-09-01-01\" => \"$(prj_rim_dir)/2023-09-01-01_output\",\n",
    "    \"2023-09-02-10\" => \"$(prj_rim_dir)/2023-09-02-10_output\",\n",
    "    \"2023-09-15-01\" => \"$(prj_rim_dir)/2023-09-15-01_output\",\n",
    "    \"2023-09-15-08\" => \"$(prj_rim_dir)/2023-09-15-08_output\",\n",
    "    \"2023-10-03-02\" => \"$(prj_rim_dir)/2023-10-03-02_output\",\n",
    "    \"2023-10-15-18\" => \"$(prj_rim_dir)/2023-10-15-18_output\",\n",
    "    \"2024-04-12-04\" => \"$(prj_rim_dir)/2024-04-12-04_output\",\n",
    "    \"2024-04-14-06\" => \"$(prj_rim_dir)/2024-04-14-06_output\",\n",
    "    \"2024-04-14-15\" => \"$(prj_rim_dir)/2024-04-14-15_output\",\n",
    "    \"2024-04-15-03\" => \"$(prj_rim_dir)/2024-04-15-03_output\",\n",
    "    \"2024-04-21-05\" => \"$(prj_rim_dir)/2024-04-21-05_output\",\n",
    "    \"2024-04-25-07\" => \"$(prj_rim_dir)/2024-04-25-07_output\",\n",
    "    \"2024-05-02-04\" => \"$(prj_rim_dir)/2024-05-02-04_output\",\n",
    "    \"2024-05-02-13\" => \"$(prj_rim_dir)/2024-05-02-13_output\",\n",
    "    \"2024-05-03-09\" => \"$(prj_rim_dir)/2024-05-03-09_output\",\n",
    "    \"2024-05-09-13\" => \"$(prj_rim_dir)/2024-05-09-13_output\",\n",
    "\n",
    "    # prj_aversion datasets\n",
    "    \"2023-03-30-01\" => \"$(prj_aversion_dir)/2023-03-30-01_output\",\n",
    "    \"2023-06-21-01\" => \"$(prj_aversion_dir)/2023-06-21-01_output\",\n",
    "    \"2023-06-23-08\" => \"$(prj_aversion_dir)/2023-06-23-08_output\",\n",
    "    \"2023-06-29-01\" => \"$(prj_aversion_dir)/2023-06-29-01_output\",\n",
    "    \"2023-06-29-13\" => \"$(prj_aversion_dir)/2023-06-29-13_output\",\n",
    "    \"2023-07-14-08\" => \"$(prj_aversion_dir)/2023-07-14-08_output\",\n",
    "    \"2023-07-14-14\" => \"$(prj_aversion_dir)/2023-07-14-14_output\",\n",
    "    \"2023-07-27-01\" => \"$(prj_aversion_dir)/2023-07-27-01_output\",\n",
    "    \"2023-07-27-08\" => \"$(prj_aversion_dir)/2023-07-27-08_output\",\n",
    "    \"2023-08-08-07\" => \"$(prj_aversion_dir)/2023-08-08-07_output\",\n",
    "    \"2023-08-14-01\" => \"$(prj_aversion_dir)/2023-08-14-01_output\",\n",
    "    \"2023-08-15-01\" => \"$(prj_aversion_dir)/2023-08-15-01_output\",\n",
    "    \"2023-08-16-01\" => \"$(prj_aversion_dir)/2023-08-16-01_output\",\n",
    "    \"2023-08-21-01\" => \"$(prj_aversion_dir)/2023-08-21-01_output\",\n",
    "    \"2023-09-07-01\" => \"$(prj_aversion_dir)/2023-09-07-01_output\",\n",
    "    \"2023-09-14-01\" => \"$(prj_aversion_dir)/2023-09-14-01_output\",\n",
    "    \"2023-09-25-01\" => \"$(prj_aversion_dir)/2023-09-25-01_output\",\n",
    "    \"2023-10-05-01\" => \"$(prj_aversion_dir)/2023-10-05-01_output\",\n",
    "    \"2023-12-11-01\" => \"$(prj_aversion_dir)/2023-12-11-01_output\",\n",
    "    \"2024-02-01-07\" => \"$(prj_aversion_dir)/2024-02-01-07_output\",\n",
    "    \"2024-05-22-15\" => \"$(prj_aversion_dir)/2024-05-22-15_output\",\n",
    "    \"2024-05-22-21\" => \"$(prj_aversion_dir)/2024-05-22-21_output\",\n",
    "    \"2024-05-28-02\" => \"$(prj_aversion_dir)/2024-05-28-02_output\",\n",
    "    \"2024-06-18-01\" => \"$(prj_aversion_dir)/2024-06-18-01_output\",\n",
    "\n",
    "    ### 7 animals used in adam's round of training in 2022/06\n",
    "    \"2022-01-07-03\"=>\"$(prj_kfc_dir)/2022-01-07-03_output\",\n",
    "    \"2022-01-07-04\"=>\"$(prj_kfc_dir)/2022-01-07-04_output\",\n",
    "    \"2022-03-25-01\"=>\"$(prj_kfc_dir)/2022-03-25-01_output\",\n",
    "    \"2022-03-16-01\"=>\"$(prj_kfc_dir)/2022-03-16-01_output\",\n",
    "    \"2022-03-16-02\"=>\"$(prj_kfc_dir)/2022-03-16-02_output\",\n",
    "    \"2022-05-17-01\"=>\"$(prj_kfc_dir)/2022-05-17-01-neuropal_output\",\n",
    "    \"2022-05-17-06\"=>\"$(prj_kfc_dir)/2022-05-17-animal2-all_output/2022-05-17-06-SWF702-animal2-baseline-570LP\"\n",
    ")"
   ]
  },
  {
   "cell_type": "code",
   "execution_count": 49,
   "id": "38189056",
   "metadata": {
    "scrolled": true
   },
   "outputs": [
    {
     "name": "stderr",
     "output_type": "stream",
     "text": [
      "\u001b[33m\u001b[1m┌ \u001b[22m\u001b[39m\u001b[33m\u001b[1mWarning: \u001b[22m\u001b[39mtype MultivariateStats.PCA{Float64} does not exist in workspace; reconstructing\n",
      "\u001b[33m\u001b[1m└ \u001b[22m\u001b[39m\u001b[90m@ JLD2 ~/.julia/packages/JLD2/twZ5D/src/data/reconstructing_datatypes.jl:621\u001b[39m\n"
     ]
    },
    {
     "name": "stdout",
     "output_type": "stream",
     "text": [
      "2024-04-15-03 included \n"
     ]
    },
    {
     "name": "stderr",
     "output_type": "stream",
     "text": [
      "\u001b[33m\u001b[1m┌ \u001b[22m\u001b[39m\u001b[33m\u001b[1mWarning: \u001b[22m\u001b[39mtype MultivariateStats.PCA{Float64} does not exist in workspace; reconstructing\n",
      "\u001b[33m\u001b[1m└ \u001b[22m\u001b[39m\u001b[90m@ JLD2 ~/.julia/packages/JLD2/twZ5D/src/data/reconstructing_datatypes.jl:621\u001b[39m\n"
     ]
    },
    {
     "name": "stdout",
     "output_type": "stream",
     "text": [
      "2023-08-23-02 included \n"
     ]
    },
    {
     "name": "stderr",
     "output_type": "stream",
     "text": [
      "\u001b[33m\u001b[1m┌ \u001b[22m\u001b[39m\u001b[33m\u001b[1mWarning: \u001b[22m\u001b[39mtype MultivariateStats.PCA{Float64} does not exist in workspace; reconstructing\n",
      "\u001b[33m\u001b[1m└ \u001b[22m\u001b[39m\u001b[90m@ JLD2 ~/.julia/packages/JLD2/twZ5D/src/data/reconstructing_datatypes.jl:621\u001b[39m\n"
     ]
    },
    {
     "name": "stdout",
     "output_type": "stream",
     "text": [
      "2023-08-23-23 included \n"
     ]
    },
    {
     "name": "stderr",
     "output_type": "stream",
     "text": [
      "\u001b[33m\u001b[1m┌ \u001b[22m\u001b[39m\u001b[33m\u001b[1mWarning: \u001b[22m\u001b[39mtype MultivariateStats.PCA{Float64} does not exist in workspace; reconstructing\n",
      "\u001b[33m\u001b[1m└ \u001b[22m\u001b[39m\u001b[90m@ JLD2 ~/.julia/packages/JLD2/twZ5D/src/data/reconstructing_datatypes.jl:621\u001b[39m\n"
     ]
    },
    {
     "name": "stdout",
     "output_type": "stream",
     "text": [
      "2023-06-24-28 included \n"
     ]
    },
    {
     "name": "stderr",
     "output_type": "stream",
     "text": [
      "\u001b[33m\u001b[1m┌ \u001b[22m\u001b[39m\u001b[33m\u001b[1mWarning: \u001b[22m\u001b[39mtype MultivariateStats.PCA{Float64} does not exist in workspace; reconstructing\n",
      "\u001b[33m\u001b[1m└ \u001b[22m\u001b[39m\u001b[90m@ JLD2 ~/.julia/packages/JLD2/twZ5D/src/data/reconstructing_datatypes.jl:621\u001b[39m\n"
     ]
    },
    {
     "name": "stdout",
     "output_type": "stream",
     "text": [
      "2022-07-26-38 included \n"
     ]
    },
    {
     "name": "stderr",
     "output_type": "stream",
     "text": [
      "\u001b[33m\u001b[1m┌ \u001b[22m\u001b[39m\u001b[33m\u001b[1mWarning: \u001b[22m\u001b[39mtype MultivariateStats.PCA{Float64} does not exist in workspace; reconstructing\n",
      "\u001b[33m\u001b[1m└ \u001b[22m\u001b[39m\u001b[90m@ JLD2 ~/.julia/packages/JLD2/twZ5D/src/data/reconstructing_datatypes.jl:621\u001b[39m\n"
     ]
    },
    {
     "name": "stdout",
     "output_type": "stream",
     "text": [
      "2023-07-14-08 included \n"
     ]
    },
    {
     "name": "stderr",
     "output_type": "stream",
     "text": [
      "\u001b[33m\u001b[1m┌ \u001b[22m\u001b[39m\u001b[33m\u001b[1mWarning: \u001b[22m\u001b[39mtype MultivariateStats.PCA{Float64} does not exist in workspace; reconstructing\n",
      "\u001b[33m\u001b[1m└ \u001b[22m\u001b[39m\u001b[90m@ JLD2 ~/.julia/packages/JLD2/twZ5D/src/data/reconstructing_datatypes.jl:621\u001b[39m\n"
     ]
    },
    {
     "name": "stdout",
     "output_type": "stream",
     "text": [
      "2023-10-06-07 included \n"
     ]
    },
    {
     "name": "stderr",
     "output_type": "stream",
     "text": [
      "\u001b[33m\u001b[1m┌ \u001b[22m\u001b[39m\u001b[33m\u001b[1mWarning: \u001b[22m\u001b[39mtype MultivariateStats.PCA{Float64} does not exist in workspace; reconstructing\n",
      "\u001b[33m\u001b[1m└ \u001b[22m\u001b[39m\u001b[90m@ JLD2 ~/.julia/packages/JLD2/twZ5D/src/data/reconstructing_datatypes.jl:621\u001b[39m\n"
     ]
    },
    {
     "name": "stdout",
     "output_type": "stream",
     "text": [
      "2023-08-02-10 excluded: KeyError(\"dict_param_crop_rot\")\n",
      "2023-08-02-10 included \n"
     ]
    },
    {
     "name": "stderr",
     "output_type": "stream",
     "text": [
      "\u001b[33m\u001b[1m┌ \u001b[22m\u001b[39m\u001b[33m\u001b[1mWarning: \u001b[22m\u001b[39mtype MultivariateStats.PCA{Float64} does not exist in workspace; reconstructing\n",
      "\u001b[33m\u001b[1m└ \u001b[22m\u001b[39m\u001b[90m@ JLD2 ~/.julia/packages/JLD2/twZ5D/src/data/reconstructing_datatypes.jl:621\u001b[39m\n"
     ]
    },
    {
     "name": "stdout",
     "output_type": "stream",
     "text": [
      "2023-06-05-01 included \n"
     ]
    },
    {
     "name": "stderr",
     "output_type": "stream",
     "text": [
      "\u001b[33m\u001b[1m┌ \u001b[22m\u001b[39m\u001b[33m\u001b[1mWarning: \u001b[22m\u001b[39mtype MultivariateStats.PCA{Float64} does not exist in workspace; reconstructing\n",
      "\u001b[33m\u001b[1m└ \u001b[22m\u001b[39m\u001b[90m@ JLD2 ~/.julia/packages/JLD2/twZ5D/src/data/reconstructing_datatypes.jl:621\u001b[39m\n"
     ]
    },
    {
     "name": "stdout",
     "output_type": "stream",
     "text": [
      "2022-07-27-31 included \n"
     ]
    },
    {
     "name": "stderr",
     "output_type": "stream",
     "text": [
      "\u001b[33m\u001b[1m┌ \u001b[22m\u001b[39m\u001b[33m\u001b[1mWarning: \u001b[22m\u001b[39mtype MultivariateStats.PCA{Float64} does not exist in workspace; reconstructing\n",
      "\u001b[33m\u001b[1m└ \u001b[22m\u001b[39m\u001b[90m@ JLD2 ~/.julia/packages/JLD2/twZ5D/src/data/reconstructing_datatypes.jl:621\u001b[39m\n"
     ]
    },
    {
     "name": "stdout",
     "output_type": "stream",
     "text": [
      "2023-07-07-18 included \n"
     ]
    },
    {
     "name": "stderr",
     "output_type": "stream",
     "text": [
      "\u001b[33m\u001b[1m┌ \u001b[22m\u001b[39m\u001b[33m\u001b[1mWarning: \u001b[22m\u001b[39mtype MultivariateStats.PCA{Float64} does not exist in workspace; reconstructing\n",
      "\u001b[33m\u001b[1m└ \u001b[22m\u001b[39m\u001b[90m@ JLD2 ~/.julia/packages/JLD2/twZ5D/src/data/reconstructing_datatypes.jl:621\u001b[39m\n"
     ]
    },
    {
     "name": "stdout",
     "output_type": "stream",
     "text": [
      "2023-07-28-04 included \n"
     ]
    },
    {
     "name": "stderr",
     "output_type": "stream",
     "text": [
      "\u001b[33m\u001b[1m┌ \u001b[22m\u001b[39m\u001b[33m\u001b[1mWarning: \u001b[22m\u001b[39mtype MultivariateStats.PCA{Float64} does not exist in workspace; reconstructing\n",
      "\u001b[33m\u001b[1m└ \u001b[22m\u001b[39m\u001b[90m@ JLD2 ~/.julia/packages/JLD2/twZ5D/src/data/reconstructing_datatypes.jl:621\u001b[39m\n"
     ]
    },
    {
     "name": "stdout",
     "output_type": "stream",
     "text": [
      "2023-08-22-08 included \n"
     ]
    },
    {
     "name": "stderr",
     "output_type": "stream",
     "text": [
      "\u001b[33m\u001b[1m┌ \u001b[22m\u001b[39m\u001b[33m\u001b[1mWarning: \u001b[22m\u001b[39mtype MultivariateStats.PCA{Float64} does not exist in workspace; reconstructing\n",
      "\u001b[33m\u001b[1m└ \u001b[22m\u001b[39m\u001b[90m@ JLD2 ~/.julia/packages/JLD2/twZ5D/src/data/reconstructing_datatypes.jl:621\u001b[39m\n"
     ]
    },
    {
     "name": "stdout",
     "output_type": "stream",
     "text": [
      "2023-06-23-08 included \n"
     ]
    },
    {
     "name": "stderr",
     "output_type": "stream",
     "text": [
      "\u001b[33m\u001b[1m┌ \u001b[22m\u001b[39m\u001b[33m\u001b[1mWarning: \u001b[22m\u001b[39mtype MultivariateStats.PCA{Float64} does not exist in workspace; reconstructing\n",
      "\u001b[33m\u001b[1m└ \u001b[22m\u001b[39m\u001b[90m@ JLD2 ~/.julia/packages/JLD2/twZ5D/src/data/reconstructing_datatypes.jl:621\u001b[39m\n"
     ]
    },
    {
     "name": "stdout",
     "output_type": "stream",
     "text": [
      "2023-05-04-01 included \n"
     ]
    },
    {
     "name": "stderr",
     "output_type": "stream",
     "text": [
      "\u001b[33m\u001b[1m┌ \u001b[22m\u001b[39m\u001b[33m\u001b[1mWarning: \u001b[22m\u001b[39mtype MultivariateStats.PCA{Float64} does not exist in workspace; reconstructing\n",
      "\u001b[33m\u001b[1m└ \u001b[22m\u001b[39m\u001b[90m@ JLD2 ~/.julia/packages/JLD2/twZ5D/src/data/reconstructing_datatypes.jl:621\u001b[39m\n"
     ]
    },
    {
     "name": "stdout",
     "output_type": "stream",
     "text": [
      "2023-07-25-11 included \n"
     ]
    },
    {
     "name": "stderr",
     "output_type": "stream",
     "text": [
      "\u001b[33m\u001b[1m┌ \u001b[22m\u001b[39m\u001b[33m\u001b[1mWarning: \u001b[22m\u001b[39mtype MultivariateStats.PCA{Float64} does not exist in workspace; reconstructing\n",
      "\u001b[33m\u001b[1m└ \u001b[22m\u001b[39m\u001b[90m@ JLD2 ~/.julia/packages/JLD2/twZ5D/src/data/reconstructing_datatypes.jl:621\u001b[39m\n"
     ]
    },
    {
     "name": "stdout",
     "output_type": "stream",
     "text": [
      "2023-01-10-07 included \n"
     ]
    },
    {
     "name": "stderr",
     "output_type": "stream",
     "text": [
      "\u001b[33m\u001b[1m┌ \u001b[22m\u001b[39m\u001b[33m\u001b[1mWarning: \u001b[22m\u001b[39mtype MultivariateStats.PCA{Float64} does not exist in workspace; reconstructing\n",
      "\u001b[33m\u001b[1m└ \u001b[22m\u001b[39m\u001b[90m@ JLD2 ~/.julia/packages/JLD2/twZ5D/src/data/reconstructing_datatypes.jl:621\u001b[39m\n"
     ]
    },
    {
     "name": "stdout",
     "output_type": "stream",
     "text": [
      "2023-08-02-01 included \n"
     ]
    },
    {
     "name": "stderr",
     "output_type": "stream",
     "text": [
      "\u001b[33m\u001b[1m┌ \u001b[22m\u001b[39m\u001b[33m\u001b[1mWarning: \u001b[22m\u001b[39mtype MultivariateStats.PCA{Float64} does not exist in workspace; reconstructing\n",
      "\u001b[33m\u001b[1m└ \u001b[22m\u001b[39m\u001b[90m@ JLD2 ~/.julia/packages/JLD2/twZ5D/src/data/reconstructing_datatypes.jl:621\u001b[39m\n"
     ]
    },
    {
     "name": "stdout",
     "output_type": "stream",
     "text": [
      "2023-10-03-02 included \n"
     ]
    },
    {
     "name": "stderr",
     "output_type": "stream",
     "text": [
      "\u001b[33m\u001b[1m┌ \u001b[22m\u001b[39m\u001b[33m\u001b[1mWarning: \u001b[22m\u001b[39mtype MultivariateStats.PCA{Float64} does not exist in workspace; reconstructing\n",
      "\u001b[33m\u001b[1m└ \u001b[22m\u001b[39m\u001b[90m@ JLD2 ~/.julia/packages/JLD2/twZ5D/src/data/reconstructing_datatypes.jl:621\u001b[39m\n"
     ]
    },
    {
     "name": "stdout",
     "output_type": "stream",
     "text": [
      "2023-06-29-01 included \n"
     ]
    },
    {
     "name": "stderr",
     "output_type": "stream",
     "text": [
      "\u001b[33m\u001b[1m┌ \u001b[22m\u001b[39m\u001b[33m\u001b[1mWarning: \u001b[22m\u001b[39mtype MultivariateStats.PCA{Float64} does not exist in workspace; reconstructing\n",
      "\u001b[33m\u001b[1m└ \u001b[22m\u001b[39m\u001b[90m@ JLD2 ~/.julia/packages/JLD2/twZ5D/src/data/reconstructing_datatypes.jl:621\u001b[39m\n"
     ]
    },
    {
     "name": "stdout",
     "output_type": "stream",
     "text": [
      "2022-06-14-13 included \n"
     ]
    },
    {
     "name": "stderr",
     "output_type": "stream",
     "text": [
      "\u001b[33m\u001b[1m┌ \u001b[22m\u001b[39m\u001b[33m\u001b[1mWarning: \u001b[22m\u001b[39mtype MultivariateStats.PCA{Float64} does not exist in workspace; reconstructing\n",
      "\u001b[33m\u001b[1m└ \u001b[22m\u001b[39m\u001b[90m@ JLD2 ~/.julia/packages/JLD2/twZ5D/src/data/reconstructing_datatypes.jl:621\u001b[39m\n"
     ]
    },
    {
     "name": "stdout",
     "output_type": "stream",
     "text": [
      "2023-10-09-07 included \n"
     ]
    },
    {
     "name": "stderr",
     "output_type": "stream",
     "text": [
      "\u001b[33m\u001b[1m┌ \u001b[22m\u001b[39m\u001b[33m\u001b[1mWarning: \u001b[22m\u001b[39mtype MultivariateStats.PCA{Float64} does not exist in workspace; reconstructing\n",
      "\u001b[33m\u001b[1m└ \u001b[22m\u001b[39m\u001b[90m@ JLD2 ~/.julia/packages/JLD2/twZ5D/src/data/reconstructing_datatypes.jl:621\u001b[39m\n"
     ]
    },
    {
     "name": "stdout",
     "output_type": "stream",
     "text": [
      "2023-09-29-01 included \n"
     ]
    },
    {
     "name": "stderr",
     "output_type": "stream",
     "text": [
      "\u001b[33m\u001b[1m┌ \u001b[22m\u001b[39m\u001b[33m\u001b[1mWarning: \u001b[22m\u001b[39mtype MultivariateStats.PCA{Float64} does not exist in workspace; reconstructing\n",
      "\u001b[33m\u001b[1m└ \u001b[22m\u001b[39m\u001b[90m@ JLD2 ~/.julia/packages/JLD2/twZ5D/src/data/reconstructing_datatypes.jl:621\u001b[39m\n"
     ]
    },
    {
     "name": "stdout",
     "output_type": "stream",
     "text": [
      "2023-10-13-20 included \n"
     ]
    },
    {
     "name": "stderr",
     "output_type": "stream",
     "text": [
      "\u001b[33m\u001b[1m┌ \u001b[22m\u001b[39m\u001b[33m\u001b[1mWarning: \u001b[22m\u001b[39mtype MultivariateStats.PCA{Float64} does not exist in workspace; reconstructing\n",
      "\u001b[33m\u001b[1m└ \u001b[22m\u001b[39m\u001b[90m@ JLD2 ~/.julia/packages/JLD2/twZ5D/src/data/reconstructing_datatypes.jl:621\u001b[39m\n"
     ]
    },
    {
     "name": "stdout",
     "output_type": "stream",
     "text": [
      "2023-07-08-06 included \n"
     ]
    },
    {
     "name": "stderr",
     "output_type": "stream",
     "text": [
      "\u001b[33m\u001b[1m┌ \u001b[22m\u001b[39m\u001b[33m\u001b[1mWarning: \u001b[22m\u001b[39mtype MultivariateStats.PCA{Float64} does not exist in workspace; reconstructing\n",
      "\u001b[33m\u001b[1m└ \u001b[22m\u001b[39m\u001b[90m@ JLD2 ~/.julia/packages/JLD2/twZ5D/src/data/reconstructing_datatypes.jl:621\u001b[39m\n"
     ]
    },
    {
     "name": "stdout",
     "output_type": "stream",
     "text": [
      "2023-07-01-30 included \n"
     ]
    },
    {
     "name": "stderr",
     "output_type": "stream",
     "text": [
      "\u001b[33m\u001b[1m┌ \u001b[22m\u001b[39m\u001b[33m\u001b[1mWarning: \u001b[22m\u001b[39mtype MultivariateStats.PCA{Float64} does not exist in workspace; reconstructing\n",
      "\u001b[33m\u001b[1m└ \u001b[22m\u001b[39m\u001b[90m@ JLD2 ~/.julia/packages/JLD2/twZ5D/src/data/reconstructing_datatypes.jl:621\u001b[39m\n"
     ]
    },
    {
     "name": "stdout",
     "output_type": "stream",
     "text": [
      "2024-02-01-07 included \n"
     ]
    },
    {
     "name": "stderr",
     "output_type": "stream",
     "text": [
      "\u001b[33m\u001b[1m┌ \u001b[22m\u001b[39m\u001b[33m\u001b[1mWarning: \u001b[22m\u001b[39mtype MultivariateStats.PCA{Float64} does not exist in workspace; reconstructing\n",
      "\u001b[33m\u001b[1m└ \u001b[22m\u001b[39m\u001b[90m@ JLD2 ~/.julia/packages/JLD2/twZ5D/src/data/reconstructing_datatypes.jl:621\u001b[39m\n"
     ]
    },
    {
     "name": "stdout",
     "output_type": "stream",
     "text": [
      "2022-06-28-01 included \n"
     ]
    },
    {
     "name": "stderr",
     "output_type": "stream",
     "text": [
      "\u001b[33m\u001b[1m┌ \u001b[22m\u001b[39m\u001b[33m\u001b[1mWarning: \u001b[22m\u001b[39mtype MultivariateStats.PCA{Float64} does not exist in workspace; reconstructing\n",
      "\u001b[33m\u001b[1m└ \u001b[22m\u001b[39m\u001b[90m@ JLD2 ~/.julia/packages/JLD2/twZ5D/src/data/reconstructing_datatypes.jl:621\u001b[39m\n"
     ]
    },
    {
     "name": "stdout",
     "output_type": "stream",
     "text": [
      "2023-09-13-02 included \n"
     ]
    },
    {
     "name": "stderr",
     "output_type": "stream",
     "text": [
      "\u001b[33m\u001b[1m┌ \u001b[22m\u001b[39m\u001b[33m\u001b[1mWarning: \u001b[22m\u001b[39mtype MultivariateStats.PCA{Float64} does not exist in workspace; reconstructing\n",
      "\u001b[33m\u001b[1m└ \u001b[22m\u001b[39m\u001b[90m@ JLD2 ~/.julia/packages/JLD2/twZ5D/src/data/reconstructing_datatypes.jl:621\u001b[39m\n"
     ]
    },
    {
     "name": "stdout",
     "output_type": "stream",
     "text": [
      "2023-07-16-02 included \n",
      "2022-01-06-01 excluded: no data_dict or param_path\n",
      "2024-04-14-15 excluded: no data_dict or param_path\n"
     ]
    },
    {
     "name": "stderr",
     "output_type": "stream",
     "text": [
      "\u001b[33m\u001b[1m┌ \u001b[22m\u001b[39m\u001b[33m\u001b[1mWarning: \u001b[22m\u001b[39mtype MultivariateStats.PCA{Float64} does not exist in workspace; reconstructing\n",
      "\u001b[33m\u001b[1m└ \u001b[22m\u001b[39m\u001b[90m@ JLD2 ~/.julia/packages/JLD2/twZ5D/src/data/reconstructing_datatypes.jl:621\u001b[39m\n"
     ]
    },
    {
     "name": "stdout",
     "output_type": "stream",
     "text": [
      "2023-07-24-12 included \n"
     ]
    },
    {
     "name": "stderr",
     "output_type": "stream",
     "text": [
      "\u001b[33m\u001b[1m┌ \u001b[22m\u001b[39m\u001b[33m\u001b[1mWarning: \u001b[22m\u001b[39mtype MultivariateStats.PCA{Float64} does not exist in workspace; reconstructing\n",
      "\u001b[33m\u001b[1m└ \u001b[22m\u001b[39m\u001b[90m@ JLD2 ~/.julia/packages/JLD2/twZ5D/src/data/reconstructing_datatypes.jl:621\u001b[39m\n"
     ]
    },
    {
     "name": "stdout",
     "output_type": "stream",
     "text": [
      "2023-01-09-22 included \n"
     ]
    },
    {
     "name": "stderr",
     "output_type": "stream",
     "text": [
      "\u001b[33m\u001b[1m┌ \u001b[22m\u001b[39m\u001b[33m\u001b[1mWarning: \u001b[22m\u001b[39mtype MultivariateStats.PCA{Float64} does not exist in workspace; reconstructing\n",
      "\u001b[33m\u001b[1m└ \u001b[22m\u001b[39m\u001b[90m@ JLD2 ~/.julia/packages/JLD2/twZ5D/src/data/reconstructing_datatypes.jl:621\u001b[39m\n"
     ]
    },
    {
     "name": "stdout",
     "output_type": "stream",
     "text": [
      "2024-05-03-09 included \n"
     ]
    },
    {
     "name": "stderr",
     "output_type": "stream",
     "text": [
      "\u001b[33m\u001b[1m┌ \u001b[22m\u001b[39m\u001b[33m\u001b[1mWarning: \u001b[22m\u001b[39mtype MultivariateStats.PCA{Float64} does not exist in workspace; reconstructing\n",
      "\u001b[33m\u001b[1m└ \u001b[22m\u001b[39m\u001b[90m@ JLD2 ~/.julia/packages/JLD2/twZ5D/src/data/reconstructing_datatypes.jl:621\u001b[39m\n"
     ]
    },
    {
     "name": "stdout",
     "output_type": "stream",
     "text": [
      "2023-08-18-18 included \n"
     ]
    },
    {
     "name": "stderr",
     "output_type": "stream",
     "text": [
      "\u001b[33m\u001b[1m┌ \u001b[22m\u001b[39m\u001b[33m\u001b[1mWarning: \u001b[22m\u001b[39mtype MultivariateStats.PCA{Float64} does not exist in workspace; reconstructing\n",
      "\u001b[33m\u001b[1m└ \u001b[22m\u001b[39m\u001b[90m@ JLD2 ~/.julia/packages/JLD2/twZ5D/src/data/reconstructing_datatypes.jl:621\u001b[39m\n"
     ]
    },
    {
     "name": "stdout",
     "output_type": "stream",
     "text": [
      "2024-05-02-04 included \n"
     ]
    },
    {
     "name": "stderr",
     "output_type": "stream",
     "text": [
      "\u001b[33m\u001b[1m┌ \u001b[22m\u001b[39m\u001b[33m\u001b[1mWarning: \u001b[22m\u001b[39mtype MultivariateStats.PCA{Float64} does not exist in workspace; reconstructing\n",
      "\u001b[33m\u001b[1m└ \u001b[22m\u001b[39m\u001b[90m@ JLD2 ~/.julia/packages/JLD2/twZ5D/src/data/reconstructing_datatypes.jl:621\u001b[39m\n"
     ]
    },
    {
     "name": "stdout",
     "output_type": "stream",
     "text": [
      "2023-10-11-16 included \n"
     ]
    },
    {
     "name": "stderr",
     "output_type": "stream",
     "text": [
      "\u001b[33m\u001b[1m┌ \u001b[22m\u001b[39m\u001b[33m\u001b[1mWarning: \u001b[22m\u001b[39mtype MultivariateStats.PCA{Float64} does not exist in workspace; reconstructing\n",
      "\u001b[33m\u001b[1m└ \u001b[22m\u001b[39m\u001b[90m@ JLD2 ~/.julia/packages/JLD2/twZ5D/src/data/reconstructing_datatypes.jl:621\u001b[39m\n"
     ]
    },
    {
     "name": "stdout",
     "output_type": "stream",
     "text": [
      "2023-01-13-07 included \n"
     ]
    },
    {
     "name": "stderr",
     "output_type": "stream",
     "text": [
      "\u001b[33m\u001b[1m┌ \u001b[22m\u001b[39m\u001b[33m\u001b[1mWarning: \u001b[22m\u001b[39mtype MultivariateStats.PCA{Float64} does not exist in workspace; reconstructing\n",
      "\u001b[33m\u001b[1m└ \u001b[22m\u001b[39m\u001b[90m@ JLD2 ~/.julia/packages/JLD2/twZ5D/src/data/reconstructing_datatypes.jl:621\u001b[39m\n"
     ]
    },
    {
     "name": "stdout",
     "output_type": "stream",
     "text": [
      "2022-08-03-31 included \n",
      "2022-05-17-06 excluded: no data_dict or param_path\n"
     ]
    },
    {
     "name": "stderr",
     "output_type": "stream",
     "text": [
      "\u001b[33m\u001b[1m┌ \u001b[22m\u001b[39m\u001b[33m\u001b[1mWarning: \u001b[22m\u001b[39mtype MultivariateStats.PCA{Float64} does not exist in workspace; reconstructing\n",
      "\u001b[33m\u001b[1m└ \u001b[22m\u001b[39m\u001b[90m@ JLD2 ~/.julia/packages/JLD2/twZ5D/src/data/reconstructing_datatypes.jl:621\u001b[39m\n"
     ]
    },
    {
     "name": "stdout",
     "output_type": "stream",
     "text": [
      "2023-06-24-02 included \n"
     ]
    },
    {
     "name": "stderr",
     "output_type": "stream",
     "text": [
      "\u001b[33m\u001b[1m┌ \u001b[22m\u001b[39m\u001b[33m\u001b[1mWarning: \u001b[22m\u001b[39mtype MultivariateStats.PCA{Float64} does not exist in workspace; reconstructing\n",
      "\u001b[33m\u001b[1m└ \u001b[22m\u001b[39m\u001b[90m@ JLD2 ~/.julia/packages/JLD2/twZ5D/src/data/reconstructing_datatypes.jl:621\u001b[39m\n"
     ]
    },
    {
     "name": "stdout",
     "output_type": "stream",
     "text": [
      "2023-09-27-14 included \n"
     ]
    },
    {
     "name": "stderr",
     "output_type": "stream",
     "text": [
      "\u001b[33m\u001b[1m┌ \u001b[22m\u001b[39m\u001b[33m\u001b[1mWarning: \u001b[22m\u001b[39mtype MultivariateStats.PCA{Float64} does not exist in workspace; reconstructing\n",
      "\u001b[33m\u001b[1m└ \u001b[22m\u001b[39m\u001b[90m@ JLD2 ~/.julia/packages/JLD2/twZ5D/src/data/reconstructing_datatypes.jl:621\u001b[39m\n"
     ]
    },
    {
     "name": "stdout",
     "output_type": "stream",
     "text": [
      "2023-09-12-12 included \n"
     ]
    },
    {
     "name": "stderr",
     "output_type": "stream",
     "text": [
      "\u001b[33m\u001b[1m┌ \u001b[22m\u001b[39m\u001b[33m\u001b[1mWarning: \u001b[22m\u001b[39mtype MultivariateStats.PCA{Float64} does not exist in workspace; reconstructing\n",
      "\u001b[33m\u001b[1m└ \u001b[22m\u001b[39m\u001b[90m@ JLD2 ~/.julia/packages/JLD2/twZ5D/src/data/reconstructing_datatypes.jl:621\u001b[39m\n"
     ]
    },
    {
     "name": "stdout",
     "output_type": "stream",
     "text": [
      "2023-09-14-01 included \n"
     ]
    },
    {
     "name": "stderr",
     "output_type": "stream",
     "text": [
      "\u001b[33m\u001b[1m┌ \u001b[22m\u001b[39m\u001b[33m\u001b[1mWarning: \u001b[22m\u001b[39mtype MultivariateStats.PCA{Float64} does not exist in workspace; reconstructing\n",
      "\u001b[33m\u001b[1m└ \u001b[22m\u001b[39m\u001b[90m@ JLD2 ~/.julia/packages/JLD2/twZ5D/src/data/reconstructing_datatypes.jl:621\u001b[39m\n"
     ]
    },
    {
     "name": "stdout",
     "output_type": "stream",
     "text": [
      "2023-07-13-09 included \n"
     ]
    },
    {
     "name": "stderr",
     "output_type": "stream",
     "text": [
      "\u001b[33m\u001b[1m┌ \u001b[22m\u001b[39m\u001b[33m\u001b[1mWarning: \u001b[22m\u001b[39mtype MultivariateStats.PCA{Float64} does not exist in workspace; reconstructing\n",
      "\u001b[33m\u001b[1m└ \u001b[22m\u001b[39m\u001b[90m@ JLD2 ~/.julia/packages/JLD2/twZ5D/src/data/reconstructing_datatypes.jl:621\u001b[39m\n"
     ]
    },
    {
     "name": "stdout",
     "output_type": "stream",
     "text": [
      "2023-09-15-08 included \n"
     ]
    },
    {
     "name": "stderr",
     "output_type": "stream",
     "text": [
      "\u001b[33m\u001b[1m┌ \u001b[22m\u001b[39m\u001b[33m\u001b[1mWarning: \u001b[22m\u001b[39mtype MultivariateStats.PCA{Float64} does not exist in workspace; reconstructing\n",
      "\u001b[33m\u001b[1m└ \u001b[22m\u001b[39m\u001b[90m@ JLD2 ~/.julia/packages/JLD2/twZ5D/src/data/reconstructing_datatypes.jl:621\u001b[39m\n"
     ]
    },
    {
     "name": "stdout",
     "output_type": "stream",
     "text": [
      "2023-01-23-08 included \n"
     ]
    },
    {
     "name": "stderr",
     "output_type": "stream",
     "text": [
      "\u001b[33m\u001b[1m┌ \u001b[22m\u001b[39m\u001b[33m\u001b[1mWarning: \u001b[22m\u001b[39mtype MultivariateStats.PCA{Float64} does not exist in workspace; reconstructing\n",
      "\u001b[33m\u001b[1m└ \u001b[22m\u001b[39m\u001b[90m@ JLD2 ~/.julia/packages/JLD2/twZ5D/src/data/reconstructing_datatypes.jl:621\u001b[39m\n"
     ]
    },
    {
     "name": "stdout",
     "output_type": "stream",
     "text": [
      "2023-07-01-09 included \n"
     ]
    },
    {
     "name": "stderr",
     "output_type": "stream",
     "text": [
      "\u001b[33m\u001b[1m┌ \u001b[22m\u001b[39m\u001b[33m\u001b[1mWarning: \u001b[22m\u001b[39mtype MultivariateStats.PCA{Float64} does not exist in workspace; reconstructing\n",
      "\u001b[33m\u001b[1m└ \u001b[22m\u001b[39m\u001b[90m@ JLD2 ~/.julia/packages/JLD2/twZ5D/src/data/reconstructing_datatypes.jl:621\u001b[39m\n"
     ]
    },
    {
     "name": "stdout",
     "output_type": "stream",
     "text": [
      "2023-08-01-01 included \n"
     ]
    },
    {
     "name": "stderr",
     "output_type": "stream",
     "text": [
      "\u001b[33m\u001b[1m┌ \u001b[22m\u001b[39m\u001b[33m\u001b[1mWarning: \u001b[22m\u001b[39mtype MultivariateStats.PCA{Float64} does not exist in workspace; reconstructing\n",
      "\u001b[33m\u001b[1m└ \u001b[22m\u001b[39m\u001b[90m@ JLD2 ~/.julia/packages/JLD2/twZ5D/src/data/reconstructing_datatypes.jl:621\u001b[39m\n"
     ]
    },
    {
     "name": "stdout",
     "output_type": "stream",
     "text": [
      "2022-08-02-01 included \n"
     ]
    },
    {
     "name": "stderr",
     "output_type": "stream",
     "text": [
      "\u001b[33m\u001b[1m┌ \u001b[22m\u001b[39m\u001b[33m\u001b[1mWarning: \u001b[22m\u001b[39mtype MultivariateStats.PCA{Float64} does not exist in workspace; reconstructing\n",
      "\u001b[33m\u001b[1m└ \u001b[22m\u001b[39m\u001b[90m@ JLD2 ~/.julia/packages/JLD2/twZ5D/src/data/reconstructing_datatypes.jl:621\u001b[39m\n"
     ]
    },
    {
     "name": "stdout",
     "output_type": "stream",
     "text": [
      "2023-06-09-01 included \n"
     ]
    },
    {
     "name": "stderr",
     "output_type": "stream",
     "text": [
      "\u001b[33m\u001b[1m┌ \u001b[22m\u001b[39m\u001b[33m\u001b[1mWarning: \u001b[22m\u001b[39mtype MultivariateStats.PCA{Float64} does not exist in workspace; reconstructing\n",
      "\u001b[33m\u001b[1m└ \u001b[22m\u001b[39m\u001b[90m@ JLD2 ~/.julia/packages/JLD2/twZ5D/src/data/reconstructing_datatypes.jl:621\u001b[39m\n"
     ]
    },
    {
     "name": "stdout",
     "output_type": "stream",
     "text": [
      "2023-05-25-08 included \n"
     ]
    },
    {
     "name": "stderr",
     "output_type": "stream",
     "text": [
      "\u001b[33m\u001b[1m┌ \u001b[22m\u001b[39m\u001b[33m\u001b[1mWarning: \u001b[22m\u001b[39mtype MultivariateStats.PCA{Float64} does not exist in workspace; reconstructing\n",
      "\u001b[33m\u001b[1m└ \u001b[22m\u001b[39m\u001b[90m@ JLD2 ~/.julia/packages/JLD2/twZ5D/src/data/reconstructing_datatypes.jl:621\u001b[39m\n"
     ]
    },
    {
     "name": "stdout",
     "output_type": "stream",
     "text": [
      "2023-09-06-19 included \n"
     ]
    },
    {
     "name": "stderr",
     "output_type": "stream",
     "text": [
      "\u001b[33m\u001b[1m┌ \u001b[22m\u001b[39m\u001b[33m\u001b[1mWarning: \u001b[22m\u001b[39mtype MultivariateStats.PCA{Float64} does not exist in workspace; reconstructing\n",
      "\u001b[33m\u001b[1m└ \u001b[22m\u001b[39m\u001b[90m@ JLD2 ~/.julia/packages/JLD2/twZ5D/src/data/reconstructing_datatypes.jl:621\u001b[39m\n"
     ]
    },
    {
     "name": "stdout",
     "output_type": "stream",
     "text": [
      "2023-06-05-27 included \n"
     ]
    },
    {
     "name": "stderr",
     "output_type": "stream",
     "text": [
      "\u001b[33m\u001b[1m┌ \u001b[22m\u001b[39m\u001b[33m\u001b[1mWarning: \u001b[22m\u001b[39mtype MultivariateStats.PCA{Float64} does not exist in workspace; reconstructing\n",
      "\u001b[33m\u001b[1m└ \u001b[22m\u001b[39m\u001b[90m@ JLD2 ~/.julia/packages/JLD2/twZ5D/src/data/reconstructing_datatypes.jl:621\u001b[39m\n"
     ]
    },
    {
     "name": "stdout",
     "output_type": "stream",
     "text": [
      "2023-01-16-01 included \n"
     ]
    },
    {
     "name": "stderr",
     "output_type": "stream",
     "text": [
      "\u001b[33m\u001b[1m┌ \u001b[22m\u001b[39m\u001b[33m\u001b[1mWarning: \u001b[22m\u001b[39mtype MultivariateStats.PCA{Float64} does not exist in workspace; reconstructing\n",
      "\u001b[33m\u001b[1m└ \u001b[22m\u001b[39m\u001b[90m@ JLD2 ~/.julia/packages/JLD2/twZ5D/src/data/reconstructing_datatypes.jl:621\u001b[39m\n"
     ]
    },
    {
     "name": "stdout",
     "output_type": "stream",
     "text": [
      "2023-07-12-01 included \n"
     ]
    },
    {
     "name": "stderr",
     "output_type": "stream",
     "text": [
      "\u001b[33m\u001b[1m┌ \u001b[22m\u001b[39m\u001b[33m\u001b[1mWarning: \u001b[22m\u001b[39mtype MultivariateStats.PCA{Float64} does not exist in workspace; reconstructing\n",
      "\u001b[33m\u001b[1m└ \u001b[22m\u001b[39m\u001b[90m@ JLD2 ~/.julia/packages/JLD2/twZ5D/src/data/reconstructing_datatypes.jl:621\u001b[39m\n"
     ]
    },
    {
     "name": "stdout",
     "output_type": "stream",
     "text": [
      "2023-07-24-20 included \n"
     ]
    },
    {
     "name": "stderr",
     "output_type": "stream",
     "text": [
      "\u001b[33m\u001b[1m┌ \u001b[22m\u001b[39m\u001b[33m\u001b[1mWarning: \u001b[22m\u001b[39mtype MultivariateStats.PCA{Float64} does not exist in workspace; reconstructing\n",
      "\u001b[33m\u001b[1m└ \u001b[22m\u001b[39m\u001b[90m@ JLD2 ~/.julia/packages/JLD2/twZ5D/src/data/reconstructing_datatypes.jl:621\u001b[39m\n"
     ]
    },
    {
     "name": "stdout",
     "output_type": "stream",
     "text": [
      "2023-09-05-13 included \n"
     ]
    },
    {
     "name": "stderr",
     "output_type": "stream",
     "text": [
      "\u001b[33m\u001b[1m┌ \u001b[22m\u001b[39m\u001b[33m\u001b[1mWarning: \u001b[22m\u001b[39mtype MultivariateStats.PCA{Float64} does not exist in workspace; reconstructing\n",
      "\u001b[33m\u001b[1m└ \u001b[22m\u001b[39m\u001b[90m@ JLD2 ~/.julia/packages/JLD2/twZ5D/src/data/reconstructing_datatypes.jl:621\u001b[39m\n"
     ]
    },
    {
     "name": "stdout",
     "output_type": "stream",
     "text": [
      "2023-07-27-01 included \n"
     ]
    },
    {
     "name": "stderr",
     "output_type": "stream",
     "text": [
      "\u001b[33m\u001b[1m┌ \u001b[22m\u001b[39m\u001b[33m\u001b[1mWarning: \u001b[22m\u001b[39mtype MultivariateStats.PCA{Float64} does not exist in workspace; reconstructing\n",
      "\u001b[33m\u001b[1m└ \u001b[22m\u001b[39m\u001b[90m@ JLD2 ~/.julia/packages/JLD2/twZ5D/src/data/reconstructing_datatypes.jl:621\u001b[39m\n"
     ]
    },
    {
     "name": "stdout",
     "output_type": "stream",
     "text": [
      "2023-01-06-08 included \n"
     ]
    },
    {
     "name": "stderr",
     "output_type": "stream",
     "text": [
      "\u001b[33m\u001b[1m┌ \u001b[22m\u001b[39m\u001b[33m\u001b[1mWarning: \u001b[22m\u001b[39mtype MultivariateStats.PCA{Float64} does not exist in workspace; reconstructing\n",
      "\u001b[33m\u001b[1m└ \u001b[22m\u001b[39m\u001b[90m@ JLD2 ~/.julia/packages/JLD2/twZ5D/src/data/reconstructing_datatypes.jl:621\u001b[39m\n"
     ]
    },
    {
     "name": "stdout",
     "output_type": "stream",
     "text": [
      "2023-08-18-11 included \n"
     ]
    },
    {
     "name": "stderr",
     "output_type": "stream",
     "text": [
      "\u001b[33m\u001b[1m┌ \u001b[22m\u001b[39m\u001b[33m\u001b[1mWarning: \u001b[22m\u001b[39mtype MultivariateStats.PCA{Float64} does not exist in workspace; reconstructing\n",
      "\u001b[33m\u001b[1m└ \u001b[22m\u001b[39m\u001b[90m@ JLD2 ~/.julia/packages/JLD2/twZ5D/src/data/reconstructing_datatypes.jl:621\u001b[39m\n"
     ]
    },
    {
     "name": "stdout",
     "output_type": "stream",
     "text": [
      "2023-01-06-01 included \n"
     ]
    },
    {
     "name": "stderr",
     "output_type": "stream",
     "text": [
      "\u001b[33m\u001b[1m┌ \u001b[22m\u001b[39m\u001b[33m\u001b[1mWarning: \u001b[22m\u001b[39mtype MultivariateStats.PCA{Float64} does not exist in workspace; reconstructing\n",
      "\u001b[33m\u001b[1m└ \u001b[22m\u001b[39m\u001b[90m@ JLD2 ~/.julia/packages/JLD2/twZ5D/src/data/reconstructing_datatypes.jl:621\u001b[39m\n"
     ]
    },
    {
     "name": "stdout",
     "output_type": "stream",
     "text": [
      "2023-07-31-09 included \n"
     ]
    },
    {
     "name": "stderr",
     "output_type": "stream",
     "text": [
      "\u001b[33m\u001b[1m┌ \u001b[22m\u001b[39m\u001b[33m\u001b[1mWarning: \u001b[22m\u001b[39mtype MultivariateStats.PCA{Float64} does not exist in workspace; reconstructing\n",
      "\u001b[33m\u001b[1m└ \u001b[22m\u001b[39m\u001b[90m@ JLD2 ~/.julia/packages/JLD2/twZ5D/src/data/reconstructing_datatypes.jl:621\u001b[39m\n"
     ]
    },
    {
     "name": "stdout",
     "output_type": "stream",
     "text": [
      "2022-12-21-06 included \n"
     ]
    },
    {
     "name": "stderr",
     "output_type": "stream",
     "text": [
      "\u001b[33m\u001b[1m┌ \u001b[22m\u001b[39m\u001b[33m\u001b[1mWarning: \u001b[22m\u001b[39mtype MultivariateStats.PCA{Float64} does not exist in workspace; reconstructing\n",
      "\u001b[33m\u001b[1m└ \u001b[22m\u001b[39m\u001b[90m@ JLD2 ~/.julia/packages/JLD2/twZ5D/src/data/reconstructing_datatypes.jl:621\u001b[39m\n"
     ]
    },
    {
     "name": "stdout",
     "output_type": "stream",
     "text": [
      "2023-08-07-16 included \n"
     ]
    },
    {
     "name": "stderr",
     "output_type": "stream",
     "text": [
      "\u001b[33m\u001b[1m┌ \u001b[22m\u001b[39m\u001b[33m\u001b[1mWarning: \u001b[22m\u001b[39mtype MultivariateStats.PCA{Float64} does not exist in workspace; reconstructing\n",
      "\u001b[33m\u001b[1m└ \u001b[22m\u001b[39m\u001b[90m@ JLD2 ~/.julia/packages/JLD2/twZ5D/src/data/reconstructing_datatypes.jl:621\u001b[39m\n"
     ]
    },
    {
     "name": "stdout",
     "output_type": "stream",
     "text": [
      "2023-10-05-01 included \n"
     ]
    },
    {
     "name": "stderr",
     "output_type": "stream",
     "text": [
      "\u001b[33m\u001b[1m┌ \u001b[22m\u001b[39m\u001b[33m\u001b[1mWarning: \u001b[22m\u001b[39mtype MultivariateStats.PCA{Float64} does not exist in workspace; reconstructing\n",
      "\u001b[33m\u001b[1m└ \u001b[22m\u001b[39m\u001b[90m@ JLD2 ~/.julia/packages/JLD2/twZ5D/src/data/reconstructing_datatypes.jl:621\u001b[39m\n"
     ]
    },
    {
     "name": "stdout",
     "output_type": "stream",
     "text": [
      "2022-07-27-45 included \n",
      "2022-05-17-01 excluded: no data_dict or param_path\n"
     ]
    },
    {
     "name": "stderr",
     "output_type": "stream",
     "text": [
      "\u001b[33m\u001b[1m┌ \u001b[22m\u001b[39m\u001b[33m\u001b[1mWarning: \u001b[22m\u001b[39mtype MultivariateStats.PCA{Float64} does not exist in workspace; reconstructing\n",
      "\u001b[33m\u001b[1m└ \u001b[22m\u001b[39m\u001b[90m@ JLD2 ~/.julia/packages/JLD2/twZ5D/src/data/reconstructing_datatypes.jl:621\u001b[39m\n"
     ]
    },
    {
     "name": "stdout",
     "output_type": "stream",
     "text": [
      "2023-06-09-10 included \n"
     ]
    },
    {
     "name": "stderr",
     "output_type": "stream",
     "text": [
      "\u001b[33m\u001b[1m┌ \u001b[22m\u001b[39m\u001b[33m\u001b[1mWarning: \u001b[22m\u001b[39mtype MultivariateStats.PCA{Float64} does not exist in workspace; reconstructing\n",
      "\u001b[33m\u001b[1m└ \u001b[22m\u001b[39m\u001b[90m@ JLD2 ~/.julia/packages/JLD2/twZ5D/src/data/reconstructing_datatypes.jl:621\u001b[39m\n"
     ]
    },
    {
     "name": "stdout",
     "output_type": "stream",
     "text": [
      "2023-08-08-07 included \n"
     ]
    },
    {
     "name": "stderr",
     "output_type": "stream",
     "text": [
      "\u001b[33m\u001b[1m┌ \u001b[22m\u001b[39m\u001b[33m\u001b[1mWarning: \u001b[22m\u001b[39mtype MultivariateStats.PCA{Float64} does not exist in workspace; reconstructing\n",
      "\u001b[33m\u001b[1m└ \u001b[22m\u001b[39m\u001b[90m@ JLD2 ~/.julia/packages/JLD2/twZ5D/src/data/reconstructing_datatypes.jl:621\u001b[39m\n"
     ]
    },
    {
     "name": "stdout",
     "output_type": "stream",
     "text": [
      "2023-09-06-12 included \n"
     ]
    },
    {
     "name": "stderr",
     "output_type": "stream",
     "text": [
      "\u001b[33m\u001b[1m┌ \u001b[22m\u001b[39m\u001b[33m\u001b[1mWarning: \u001b[22m\u001b[39mtype MultivariateStats.PCA{Float64} does not exist in workspace; reconstructing\n",
      "\u001b[33m\u001b[1m└ \u001b[22m\u001b[39m\u001b[90m@ JLD2 ~/.julia/packages/JLD2/twZ5D/src/data/reconstructing_datatypes.jl:621\u001b[39m\n"
     ]
    },
    {
     "name": "stdout",
     "output_type": "stream",
     "text": [
      "2024-05-09-13 included \n"
     ]
    },
    {
     "name": "stderr",
     "output_type": "stream",
     "text": [
      "\u001b[33m\u001b[1m┌ \u001b[22m\u001b[39m\u001b[33m\u001b[1mWarning: \u001b[22m\u001b[39mtype MultivariateStats.PCA{Float64} does not exist in workspace; reconstructing\n",
      "\u001b[33m\u001b[1m└ \u001b[22m\u001b[39m\u001b[90m@ JLD2 ~/.julia/packages/JLD2/twZ5D/src/data/reconstructing_datatypes.jl:621\u001b[39m\n"
     ]
    },
    {
     "name": "stdout",
     "output_type": "stream",
     "text": [
      "2023-08-16-01 included \n"
     ]
    },
    {
     "name": "stderr",
     "output_type": "stream",
     "text": [
      "\u001b[33m\u001b[1m┌ \u001b[22m\u001b[39m\u001b[33m\u001b[1mWarning: \u001b[22m\u001b[39mtype MultivariateStats.PCA{Float64} does not exist in workspace; reconstructing\n",
      "\u001b[33m\u001b[1m└ \u001b[22m\u001b[39m\u001b[90m@ JLD2 ~/.julia/packages/JLD2/twZ5D/src/data/reconstructing_datatypes.jl:621\u001b[39m\n"
     ]
    },
    {
     "name": "stdout",
     "output_type": "stream",
     "text": [
      "2022-08-02-31 included \n"
     ]
    },
    {
     "name": "stderr",
     "output_type": "stream",
     "text": [
      "\u001b[33m\u001b[1m┌ \u001b[22m\u001b[39m\u001b[33m\u001b[1mWarning: \u001b[22m\u001b[39mtype MultivariateStats.PCA{Float64} does not exist in workspace; reconstructing\n",
      "\u001b[33m\u001b[1m└ \u001b[22m\u001b[39m\u001b[90m@ JLD2 ~/.julia/packages/JLD2/twZ5D/src/data/reconstructing_datatypes.jl:621\u001b[39m\n"
     ]
    },
    {
     "name": "stdout",
     "output_type": "stream",
     "text": [
      "2024-05-28-02 included \n"
     ]
    },
    {
     "name": "stderr",
     "output_type": "stream",
     "text": [
      "\u001b[33m\u001b[1m┌ \u001b[22m\u001b[39m\u001b[33m\u001b[1mWarning: \u001b[22m\u001b[39mtype MultivariateStats.PCA{Float64} does not exist in workspace; reconstructing\n",
      "\u001b[33m\u001b[1m└ \u001b[22m\u001b[39m\u001b[90m@ JLD2 ~/.julia/packages/JLD2/twZ5D/src/data/reconstructing_datatypes.jl:621\u001b[39m\n"
     ]
    },
    {
     "name": "stdout",
     "output_type": "stream",
     "text": [
      "2023-07-27-08 included \n"
     ]
    },
    {
     "name": "stderr",
     "output_type": "stream",
     "text": [
      "\u001b[33m\u001b[1m┌ \u001b[22m\u001b[39m\u001b[33m\u001b[1mWarning: \u001b[22m\u001b[39mtype MultivariateStats.PCA{Float64} does not exist in workspace; reconstructing\n",
      "\u001b[33m\u001b[1m└ \u001b[22m\u001b[39m\u001b[90m@ JLD2 ~/.julia/packages/JLD2/twZ5D/src/data/reconstructing_datatypes.jl:621\u001b[39m\n"
     ]
    },
    {
     "name": "stdout",
     "output_type": "stream",
     "text": [
      "2023-01-05-18 included \n"
     ]
    },
    {
     "name": "stderr",
     "output_type": "stream",
     "text": [
      "\u001b[33m\u001b[1m┌ \u001b[22m\u001b[39m\u001b[33m\u001b[1mWarning: \u001b[22m\u001b[39mtype MultivariateStats.PCA{Float64} does not exist in workspace; reconstructing\n",
      "\u001b[33m\u001b[1m└ \u001b[22m\u001b[39m\u001b[90m@ JLD2 ~/.julia/packages/JLD2/twZ5D/src/data/reconstructing_datatypes.jl:621\u001b[39m\n"
     ]
    },
    {
     "name": "stdout",
     "output_type": "stream",
     "text": [
      "2023-08-25-02 included \n"
     ]
    },
    {
     "name": "stderr",
     "output_type": "stream",
     "text": [
      "\u001b[33m\u001b[1m┌ \u001b[22m\u001b[39m\u001b[33m\u001b[1mWarning: \u001b[22m\u001b[39mtype MultivariateStats.PCA{Float64} does not exist in workspace; reconstructing\n",
      "\u001b[33m\u001b[1m└ \u001b[22m\u001b[39m\u001b[90m@ JLD2 ~/.julia/packages/JLD2/twZ5D/src/data/reconstructing_datatypes.jl:621\u001b[39m\n"
     ]
    },
    {
     "name": "stdout",
     "output_type": "stream",
     "text": [
      "2023-07-25-01 included \n"
     ]
    },
    {
     "name": "stderr",
     "output_type": "stream",
     "text": [
      "\u001b[33m\u001b[1m┌ \u001b[22m\u001b[39m\u001b[33m\u001b[1mWarning: \u001b[22m\u001b[39mtype MultivariateStats.PCA{Float64} does not exist in workspace; reconstructing\n",
      "\u001b[33m\u001b[1m└ \u001b[22m\u001b[39m\u001b[90m@ JLD2 ~/.julia/packages/JLD2/twZ5D/src/data/reconstructing_datatypes.jl:621\u001b[39m\n"
     ]
    },
    {
     "name": "stdout",
     "output_type": "stream",
     "text": [
      "2023-05-26-01 included \n"
     ]
    },
    {
     "name": "stderr",
     "output_type": "stream",
     "text": [
      "\u001b[33m\u001b[1m┌ \u001b[22m\u001b[39m\u001b[33m\u001b[1mWarning: \u001b[22m\u001b[39mtype MultivariateStats.PCA{Float64} does not exist in workspace; reconstructing\n",
      "\u001b[33m\u001b[1m└ \u001b[22m\u001b[39m\u001b[90m@ JLD2 ~/.julia/packages/JLD2/twZ5D/src/data/reconstructing_datatypes.jl:621\u001b[39m\n"
     ]
    },
    {
     "name": "stdout",
     "output_type": "stream",
     "text": [
      "2023-07-24-27 included \n",
      "2023-06-04-02 included \n"
     ]
    },
    {
     "name": "stderr",
     "output_type": "stream",
     "text": [
      "\u001b[33m\u001b[1m┌ \u001b[22m\u001b[39m\u001b[33m\u001b[1mWarning: \u001b[22m\u001b[39mtype MultivariateStats.PCA{Float64} does not exist in workspace; reconstructing\n",
      "\u001b[33m\u001b[1m└ \u001b[22m\u001b[39m\u001b[90m@ JLD2 ~/.julia/packages/JLD2/twZ5D/src/data/reconstructing_datatypes.jl:621\u001b[39m\n"
     ]
    },
    {
     "name": "stdout",
     "output_type": "stream",
     "text": [
      "2022-07-26-31 included \n"
     ]
    },
    {
     "name": "stderr",
     "output_type": "stream",
     "text": [
      "\u001b[33m\u001b[1m┌ \u001b[22m\u001b[39m\u001b[33m\u001b[1mWarning: \u001b[22m\u001b[39mtype MultivariateStats.PCA{Float64} does not exist in workspace; reconstructing\n",
      "\u001b[33m\u001b[1m└ \u001b[22m\u001b[39m\u001b[90m@ JLD2 ~/.julia/packages/JLD2/twZ5D/src/data/reconstructing_datatypes.jl:621\u001b[39m\n"
     ]
    },
    {
     "name": "stdout",
     "output_type": "stream",
     "text": [
      "2023-05-30-01 included \n"
     ]
    },
    {
     "name": "stderr",
     "output_type": "stream",
     "text": [
      "\u001b[33m\u001b[1m┌ \u001b[22m\u001b[39m\u001b[33m\u001b[1mWarning: \u001b[22m\u001b[39mtype MultivariateStats.PCA{Float64} does not exist in workspace; reconstructing\n",
      "\u001b[33m\u001b[1m└ \u001b[22m\u001b[39m\u001b[90m@ JLD2 ~/.julia/packages/JLD2/twZ5D/src/data/reconstructing_datatypes.jl:621\u001b[39m\n"
     ]
    },
    {
     "name": "stdout",
     "output_type": "stream",
     "text": [
      "2023-08-25-09 included \n"
     ]
    },
    {
     "name": "stderr",
     "output_type": "stream",
     "text": [
      "\u001b[33m\u001b[1m┌ \u001b[22m\u001b[39m\u001b[33m\u001b[1mWarning: \u001b[22m\u001b[39mtype MultivariateStats.PCA{Float64} does not exist in workspace; reconstructing\n",
      "\u001b[33m\u001b[1m└ \u001b[22m\u001b[39m\u001b[90m@ JLD2 ~/.julia/packages/JLD2/twZ5D/src/data/reconstructing_datatypes.jl:621\u001b[39m\n"
     ]
    },
    {
     "name": "stdout",
     "output_type": "stream",
     "text": [
      "2023-06-24-11 included \n",
      "2022-01-07-04 excluded: no data_dict or param_path\n"
     ]
    },
    {
     "name": "stderr",
     "output_type": "stream",
     "text": [
      "\u001b[33m\u001b[1m┌ \u001b[22m\u001b[39m\u001b[33m\u001b[1mWarning: \u001b[22m\u001b[39mtype MultivariateStats.PCA{Float64} does not exist in workspace; reconstructing\n",
      "\u001b[33m\u001b[1m└ \u001b[22m\u001b[39m\u001b[90m@ JLD2 ~/.julia/packages/JLD2/twZ5D/src/data/reconstructing_datatypes.jl:621\u001b[39m\n"
     ]
    },
    {
     "name": "stdout",
     "output_type": "stream",
     "text": [
      "2023-12-11-01 included \n"
     ]
    },
    {
     "name": "stderr",
     "output_type": "stream",
     "text": [
      "\u001b[33m\u001b[1m┌ \u001b[22m\u001b[39m\u001b[33m\u001b[1mWarning: \u001b[22m\u001b[39mtype MultivariateStats.PCA{Float64} does not exist in workspace; reconstructing\n",
      "\u001b[33m\u001b[1m└ \u001b[22m\u001b[39m\u001b[90m@ JLD2 ~/.julia/packages/JLD2/twZ5D/src/data/reconstructing_datatypes.jl:621\u001b[39m\n"
     ]
    },
    {
     "name": "stdout",
     "output_type": "stream",
     "text": [
      "2024-04-21-05 included \n"
     ]
    },
    {
     "name": "stderr",
     "output_type": "stream",
     "text": [
      "\u001b[33m\u001b[1m┌ \u001b[22m\u001b[39m\u001b[33m\u001b[1mWarning: \u001b[22m\u001b[39mtype MultivariateStats.PCA{Float64} does not exist in workspace; reconstructing\n",
      "\u001b[33m\u001b[1m└ \u001b[22m\u001b[39m\u001b[90m@ JLD2 ~/.julia/packages/JLD2/twZ5D/src/data/reconstructing_datatypes.jl:621\u001b[39m\n"
     ]
    },
    {
     "name": "stdout",
     "output_type": "stream",
     "text": [
      "2022-07-26-01 included \n"
     ]
    },
    {
     "name": "stderr",
     "output_type": "stream",
     "text": [
      "\u001b[33m\u001b[1m┌ \u001b[22m\u001b[39m\u001b[33m\u001b[1mWarning: \u001b[22m\u001b[39mtype MultivariateStats.PCA{Float64} does not exist in workspace; reconstructing\n",
      "\u001b[33m\u001b[1m└ \u001b[22m\u001b[39m\u001b[90m@ JLD2 ~/.julia/packages/JLD2/twZ5D/src/data/reconstructing_datatypes.jl:621\u001b[39m\n"
     ]
    },
    {
     "name": "stdout",
     "output_type": "stream",
     "text": [
      "2023-08-21-01 included \n"
     ]
    },
    {
     "name": "stderr",
     "output_type": "stream",
     "text": [
      "\u001b[33m\u001b[1m┌ \u001b[22m\u001b[39m\u001b[33m\u001b[1mWarning: \u001b[22m\u001b[39mtype MultivariateStats.PCA{Float64} does not exist in workspace; reconstructing\n",
      "\u001b[33m\u001b[1m└ \u001b[22m\u001b[39m\u001b[90m@ JLD2 ~/.julia/packages/JLD2/twZ5D/src/data/reconstructing_datatypes.jl:621\u001b[39m\n"
     ]
    },
    {
     "name": "stdout",
     "output_type": "stream",
     "text": [
      "2023-01-06-15 included \n"
     ]
    },
    {
     "name": "stderr",
     "output_type": "stream",
     "text": [
      "\u001b[33m\u001b[1m┌ \u001b[22m\u001b[39m\u001b[33m\u001b[1mWarning: \u001b[22m\u001b[39mtype MultivariateStats.PCA{Float64} does not exist in workspace; reconstructing\n",
      "\u001b[33m\u001b[1m└ \u001b[22m\u001b[39m\u001b[90m@ JLD2 ~/.julia/packages/JLD2/twZ5D/src/data/reconstructing_datatypes.jl:621\u001b[39m\n"
     ]
    },
    {
     "name": "stdout",
     "output_type": "stream",
     "text": [
      "2023-08-07-08 included \n",
      "2023-01-05-10 excluded: no data_dict or param_path\n"
     ]
    },
    {
     "name": "stderr",
     "output_type": "stream",
     "text": [
      "\u001b[33m\u001b[1m┌ \u001b[22m\u001b[39m\u001b[33m\u001b[1mWarning: \u001b[22m\u001b[39mtype MultivariateStats.PCA{Float64} does not exist in workspace; reconstructing\n",
      "\u001b[33m\u001b[1m└ \u001b[22m\u001b[39m\u001b[90m@ JLD2 ~/.julia/packages/JLD2/twZ5D/src/data/reconstructing_datatypes.jl:621\u001b[39m\n"
     ]
    },
    {
     "name": "stdout",
     "output_type": "stream",
     "text": [
      "2023-08-31-03 included \n"
     ]
    },
    {
     "name": "stderr",
     "output_type": "stream",
     "text": [
      "\u001b[33m\u001b[1m┌ \u001b[22m\u001b[39m\u001b[33m\u001b[1mWarning: \u001b[22m\u001b[39mtype MultivariateStats.PCA{Float64} does not exist in workspace; reconstructing\n",
      "\u001b[33m\u001b[1m└ \u001b[22m\u001b[39m\u001b[90m@ JLD2 ~/.julia/packages/JLD2/twZ5D/src/data/reconstructing_datatypes.jl:621\u001b[39m\n"
     ]
    },
    {
     "name": "stdout",
     "output_type": "stream",
     "text": [
      "2023-06-04-13 included \n"
     ]
    },
    {
     "name": "stderr",
     "output_type": "stream",
     "text": [
      "\u001b[33m\u001b[1m┌ \u001b[22m\u001b[39m\u001b[33m\u001b[1mWarning: \u001b[22m\u001b[39mtype MultivariateStats.PCA{Float64} does not exist in workspace; reconstructing\n",
      "\u001b[33m\u001b[1m└ \u001b[22m\u001b[39m\u001b[90m@ JLD2 ~/.julia/packages/JLD2/twZ5D/src/data/reconstructing_datatypes.jl:621\u001b[39m\n"
     ]
    },
    {
     "name": "stdout",
     "output_type": "stream",
     "text": [
      "2022-05-25-02 included \n"
     ]
    },
    {
     "name": "stderr",
     "output_type": "stream",
     "text": [
      "\u001b[33m\u001b[1m┌ \u001b[22m\u001b[39m\u001b[33m\u001b[1mWarning: \u001b[22m\u001b[39mtype MultivariateStats.PCA{Float64} does not exist in workspace; reconstructing\n",
      "\u001b[33m\u001b[1m└ \u001b[22m\u001b[39m\u001b[90m@ JLD2 ~/.julia/packages/JLD2/twZ5D/src/data/reconstructing_datatypes.jl:621\u001b[39m\n"
     ]
    },
    {
     "name": "stdout",
     "output_type": "stream",
     "text": [
      "2023-10-11-01 included \n"
     ]
    },
    {
     "name": "stderr",
     "output_type": "stream",
     "text": [
      "\u001b[33m\u001b[1m┌ \u001b[22m\u001b[39m\u001b[33m\u001b[1mWarning: \u001b[22m\u001b[39mtype MultivariateStats.PCA{Float64} does not exist in workspace; reconstructing\n",
      "\u001b[33m\u001b[1m└ \u001b[22m\u001b[39m\u001b[90m@ JLD2 ~/.julia/packages/JLD2/twZ5D/src/data/reconstructing_datatypes.jl:621\u001b[39m\n"
     ]
    },
    {
     "name": "stdout",
     "output_type": "stream",
     "text": [
      "2023-05-26-19 included \n"
     ]
    },
    {
     "name": "stderr",
     "output_type": "stream",
     "text": [
      "\u001b[33m\u001b[1m┌ \u001b[22m\u001b[39m\u001b[33m\u001b[1mWarning: \u001b[22m\u001b[39mtype MultivariateStats.PCA{Float64} does not exist in workspace; reconstructing\n",
      "\u001b[33m\u001b[1m└ \u001b[22m\u001b[39m\u001b[90m@ JLD2 ~/.julia/packages/JLD2/twZ5D/src/data/reconstructing_datatypes.jl:621\u001b[39m\n"
     ]
    },
    {
     "name": "stdout",
     "output_type": "stream",
     "text": [
      "2023-09-29-19 included \n"
     ]
    },
    {
     "name": "stderr",
     "output_type": "stream",
     "text": [
      "\u001b[33m\u001b[1m┌ \u001b[22m\u001b[39m\u001b[33m\u001b[1mWarning: \u001b[22m\u001b[39mtype MultivariateStats.PCA{Float64} does not exist in workspace; reconstructing\n",
      "\u001b[33m\u001b[1m└ \u001b[22m\u001b[39m\u001b[90m@ JLD2 ~/.julia/packages/JLD2/twZ5D/src/data/reconstructing_datatypes.jl:621\u001b[39m\n"
     ]
    },
    {
     "name": "stdout",
     "output_type": "stream",
     "text": [
      "2023-08-23-09 included \n"
     ]
    },
    {
     "name": "stderr",
     "output_type": "stream",
     "text": [
      "\u001b[33m\u001b[1m┌ \u001b[22m\u001b[39m\u001b[33m\u001b[1mWarning: \u001b[22m\u001b[39mtype MultivariateStats.PCA{Float64} does not exist in workspace; reconstructing\n",
      "\u001b[33m\u001b[1m└ \u001b[22m\u001b[39m\u001b[90m@ JLD2 ~/.julia/packages/JLD2/twZ5D/src/data/reconstructing_datatypes.jl:621\u001b[39m\n"
     ]
    },
    {
     "name": "stdout",
     "output_type": "stream",
     "text": [
      "2024-04-14-06 included \n"
     ]
    },
    {
     "name": "stderr",
     "output_type": "stream",
     "text": [
      "\u001b[33m\u001b[1m┌ \u001b[22m\u001b[39m\u001b[33m\u001b[1mWarning: \u001b[22m\u001b[39mtype MultivariateStats.PCA{Float64} does not exist in workspace; reconstructing\n",
      "\u001b[33m\u001b[1m└ \u001b[22m\u001b[39m\u001b[90m@ JLD2 ~/.julia/packages/JLD2/twZ5D/src/data/reconstructing_datatypes.jl:621\u001b[39m\n"
     ]
    },
    {
     "name": "stdout",
     "output_type": "stream",
     "text": [
      "2024-04-25-07 included \n"
     ]
    },
    {
     "name": "stderr",
     "output_type": "stream",
     "text": [
      "\u001b[33m\u001b[1m┌ \u001b[22m\u001b[39m\u001b[33m\u001b[1mWarning: \u001b[22m\u001b[39mtype MultivariateStats.PCA{Float64} does not exist in workspace; reconstructing\n",
      "\u001b[33m\u001b[1m└ \u001b[22m\u001b[39m\u001b[90m@ JLD2 ~/.julia/packages/JLD2/twZ5D/src/data/reconstructing_datatypes.jl:621\u001b[39m\n"
     ]
    },
    {
     "name": "stdout",
     "output_type": "stream",
     "text": [
      "2023-09-27-08 included \n"
     ]
    },
    {
     "name": "stderr",
     "output_type": "stream",
     "text": [
      "\u001b[33m\u001b[1m┌ \u001b[22m\u001b[39m\u001b[33m\u001b[1mWarning: \u001b[22m\u001b[39mtype MultivariateStats.PCA{Float64} does not exist in workspace; reconstructing\n",
      "\u001b[33m\u001b[1m└ \u001b[22m\u001b[39m\u001b[90m@ JLD2 ~/.julia/packages/JLD2/twZ5D/src/data/reconstructing_datatypes.jl:621\u001b[39m\n"
     ]
    },
    {
     "name": "stdout",
     "output_type": "stream",
     "text": [
      "2023-09-15-01 included \n"
     ]
    },
    {
     "name": "stderr",
     "output_type": "stream",
     "text": [
      "\u001b[33m\u001b[1m┌ \u001b[22m\u001b[39m\u001b[33m\u001b[1mWarning: \u001b[22m\u001b[39mtype MultivariateStats.PCA{Float64} does not exist in workspace; reconstructing\n",
      "\u001b[33m\u001b[1m└ \u001b[22m\u001b[39m\u001b[90m@ JLD2 ~/.julia/packages/JLD2/twZ5D/src/data/reconstructing_datatypes.jl:621\u001b[39m\n"
     ]
    },
    {
     "name": "stdout",
     "output_type": "stream",
     "text": [
      "2023-08-19-01 included \n"
     ]
    },
    {
     "name": "stderr",
     "output_type": "stream",
     "text": [
      "\u001b[33m\u001b[1m┌ \u001b[22m\u001b[39m\u001b[33m\u001b[1mWarning: \u001b[22m\u001b[39mtype MultivariateStats.PCA{Float64} does not exist in workspace; reconstructing\n",
      "\u001b[33m\u001b[1m└ \u001b[22m\u001b[39m\u001b[90m@ JLD2 ~/.julia/packages/JLD2/twZ5D/src/data/reconstructing_datatypes.jl:621\u001b[39m\n"
     ]
    },
    {
     "name": "stdout",
     "output_type": "stream",
     "text": [
      "2024-05-22-15 included \n"
     ]
    },
    {
     "name": "stderr",
     "output_type": "stream",
     "text": [
      "\u001b[33m\u001b[1m┌ \u001b[22m\u001b[39m\u001b[33m\u001b[1mWarning: \u001b[22m\u001b[39mtype MultivariateStats.PCA{Float64} does not exist in workspace; reconstructing\n",
      "\u001b[33m\u001b[1m└ \u001b[22m\u001b[39m\u001b[90m@ JLD2 ~/.julia/packages/JLD2/twZ5D/src/data/reconstructing_datatypes.jl:621\u001b[39m\n"
     ]
    },
    {
     "name": "stdout",
     "output_type": "stream",
     "text": [
      "2022-07-29-01 excluded: KeyError(\"traces_array_quality\")\n",
      "2022-07-29-01 included \n"
     ]
    },
    {
     "name": "stderr",
     "output_type": "stream",
     "text": [
      "\u001b[33m\u001b[1m┌ \u001b[22m\u001b[39m\u001b[33m\u001b[1mWarning: \u001b[22m\u001b[39mtype MultivariateStats.PCA{Float64} does not exist in workspace; reconstructing\n",
      "\u001b[33m\u001b[1m└ \u001b[22m\u001b[39m\u001b[90m@ JLD2 ~/.julia/packages/JLD2/twZ5D/src/data/reconstructing_datatypes.jl:621\u001b[39m\n"
     ]
    },
    {
     "name": "stdout",
     "output_type": "stream",
     "text": [
      "2023-09-27-01 included \n"
     ]
    },
    {
     "name": "stderr",
     "output_type": "stream",
     "text": [
      "\u001b[33m\u001b[1m┌ \u001b[22m\u001b[39m\u001b[33m\u001b[1mWarning: \u001b[22m\u001b[39mtype MultivariateStats.PCA{Float64} does not exist in workspace; reconstructing\n",
      "\u001b[33m\u001b[1m└ \u001b[22m\u001b[39m\u001b[90m@ JLD2 ~/.julia/packages/JLD2/twZ5D/src/data/reconstructing_datatypes.jl:621\u001b[39m\n"
     ]
    },
    {
     "name": "stdout",
     "output_type": "stream",
     "text": [
      "2024-05-02-13 included \n"
     ]
    },
    {
     "name": "stderr",
     "output_type": "stream",
     "text": [
      "\u001b[33m\u001b[1m┌ \u001b[22m\u001b[39m\u001b[33m\u001b[1mWarning: \u001b[22m\u001b[39mtype MultivariateStats.PCA{Float64} does not exist in workspace; reconstructing\n",
      "\u001b[33m\u001b[1m└ \u001b[22m\u001b[39m\u001b[90m@ JLD2 ~/.julia/packages/JLD2/twZ5D/src/data/reconstructing_datatypes.jl:621\u001b[39m\n"
     ]
    },
    {
     "name": "stdout",
     "output_type": "stream",
     "text": [
      "2022-07-12-13 included \n"
     ]
    },
    {
     "name": "stderr",
     "output_type": "stream",
     "text": [
      "\u001b[33m\u001b[1m┌ \u001b[22m\u001b[39m\u001b[33m\u001b[1mWarning: \u001b[22m\u001b[39mtype MultivariateStats.PCA{Float64} does not exist in workspace; reconstructing\n",
      "\u001b[33m\u001b[1m└ \u001b[22m\u001b[39m\u001b[90m@ JLD2 ~/.julia/packages/JLD2/twZ5D/src/data/reconstructing_datatypes.jl:621\u001b[39m\n"
     ]
    },
    {
     "name": "stdout",
     "output_type": "stream",
     "text": [
      "2022-06-14-07 included \n"
     ]
    },
    {
     "name": "stderr",
     "output_type": "stream",
     "text": [
      "\u001b[33m\u001b[1m┌ \u001b[22m\u001b[39m\u001b[33m\u001b[1mWarning: \u001b[22m\u001b[39mtype MultivariateStats.PCA{Float64} does not exist in workspace; reconstructing\n",
      "\u001b[33m\u001b[1m└ \u001b[22m\u001b[39m\u001b[90m@ JLD2 ~/.julia/packages/JLD2/twZ5D/src/data/reconstructing_datatypes.jl:621\u001b[39m\n"
     ]
    },
    {
     "name": "stdout",
     "output_type": "stream",
     "text": [
      "2023-09-19-01 included \n"
     ]
    },
    {
     "name": "stderr",
     "output_type": "stream",
     "text": [
      "\u001b[33m\u001b[1m┌ \u001b[22m\u001b[39m\u001b[33m\u001b[1mWarning: \u001b[22m\u001b[39mtype MultivariateStats.PCA{Float64} does not exist in workspace; reconstructing\n",
      "\u001b[33m\u001b[1m└ \u001b[22m\u001b[39m\u001b[90m@ JLD2 ~/.julia/packages/JLD2/twZ5D/src/data/reconstructing_datatypes.jl:621\u001b[39m\n"
     ]
    },
    {
     "name": "stdout",
     "output_type": "stream",
     "text": [
      "2023-05-26-08 included \n",
      "2022-07-27-52 excluded: KeyError(\"traces_array_quality\")\n",
      "2022-07-27-52 included \n",
      "2022-08-02-45 excluded: no data_dict or param_path\n"
     ]
    },
    {
     "name": "stderr",
     "output_type": "stream",
     "text": [
      "\u001b[33m\u001b[1m┌ \u001b[22m\u001b[39m\u001b[33m\u001b[1mWarning: \u001b[22m\u001b[39mtype MultivariateStats.PCA{Float64} does not exist in workspace; reconstructing\n",
      "\u001b[33m\u001b[1m└ \u001b[22m\u001b[39m\u001b[90m@ JLD2 ~/.julia/packages/JLD2/twZ5D/src/data/reconstructing_datatypes.jl:621\u001b[39m\n"
     ]
    },
    {
     "name": "stdout",
     "output_type": "stream",
     "text": [
      "2022-08-02-38 included \n"
     ]
    },
    {
     "name": "stderr",
     "output_type": "stream",
     "text": [
      "\u001b[33m\u001b[1m┌ \u001b[22m\u001b[39m\u001b[33m\u001b[1mWarning: \u001b[22m\u001b[39mtype MultivariateStats.PCA{Float64} does not exist in workspace; reconstructing\n",
      "\u001b[33m\u001b[1m└ \u001b[22m\u001b[39m\u001b[90m@ JLD2 ~/.julia/packages/JLD2/twZ5D/src/data/reconstructing_datatypes.jl:621\u001b[39m\n"
     ]
    },
    {
     "name": "stdout",
     "output_type": "stream",
     "text": [
      "2023-07-31-01 included \n"
     ]
    },
    {
     "name": "stderr",
     "output_type": "stream",
     "text": [
      "\u001b[33m\u001b[1m┌ \u001b[22m\u001b[39m\u001b[33m\u001b[1mWarning: \u001b[22m\u001b[39mtype MultivariateStats.PCA{Float64} does not exist in workspace; reconstructing\n",
      "\u001b[33m\u001b[1m└ \u001b[22m\u001b[39m\u001b[90m@ JLD2 ~/.julia/packages/JLD2/twZ5D/src/data/reconstructing_datatypes.jl:621\u001b[39m\n"
     ]
    },
    {
     "name": "stdout",
     "output_type": "stream",
     "text": [
      "2023-01-10-14 included \n"
     ]
    },
    {
     "name": "stderr",
     "output_type": "stream",
     "text": [
      "\u001b[33m\u001b[1m┌ \u001b[22m\u001b[39m\u001b[33m\u001b[1mWarning: \u001b[22m\u001b[39mtype MultivariateStats.PCA{Float64} does not exist in workspace; reconstructing\n",
      "\u001b[33m\u001b[1m└ \u001b[22m\u001b[39m\u001b[90m@ JLD2 ~/.julia/packages/JLD2/twZ5D/src/data/reconstructing_datatypes.jl:621\u001b[39m\n"
     ]
    },
    {
     "name": "stdout",
     "output_type": "stream",
     "text": [
      "2023-08-24-03 included \n"
     ]
    },
    {
     "name": "stderr",
     "output_type": "stream",
     "text": [
      "\u001b[33m\u001b[1m┌ \u001b[22m\u001b[39m\u001b[33m\u001b[1mWarning: \u001b[22m\u001b[39mtype MultivariateStats.PCA{Float64} does not exist in workspace; reconstructing\n",
      "\u001b[33m\u001b[1m└ \u001b[22m\u001b[39m\u001b[90m@ JLD2 ~/.julia/packages/JLD2/twZ5D/src/data/reconstructing_datatypes.jl:621\u001b[39m\n"
     ]
    },
    {
     "name": "stdout",
     "output_type": "stream",
     "text": [
      "2023-10-13-08 included \n"
     ]
    },
    {
     "name": "stderr",
     "output_type": "stream",
     "text": [
      "\u001b[33m\u001b[1m┌ \u001b[22m\u001b[39m\u001b[33m\u001b[1mWarning: \u001b[22m\u001b[39mtype MultivariateStats.PCA{Float64} does not exist in workspace; reconstructing\n",
      "\u001b[33m\u001b[1m└ \u001b[22m\u001b[39m\u001b[90m@ JLD2 ~/.julia/packages/JLD2/twZ5D/src/data/reconstructing_datatypes.jl:621\u001b[39m\n"
     ]
    },
    {
     "name": "stdout",
     "output_type": "stream",
     "text": [
      "2023-07-01-23 included \n"
     ]
    },
    {
     "name": "stderr",
     "output_type": "stream",
     "text": [
      "\u001b[33m\u001b[1m┌ \u001b[22m\u001b[39m\u001b[33m\u001b[1mWarning: \u001b[22m\u001b[39mtype MultivariateStats.PCA{Float64} does not exist in workspace; reconstructing\n",
      "\u001b[33m\u001b[1m└ \u001b[22m\u001b[39m\u001b[90m@ JLD2 ~/.julia/packages/JLD2/twZ5D/src/data/reconstructing_datatypes.jl:621\u001b[39m\n"
     ]
    },
    {
     "name": "stdout",
     "output_type": "stream",
     "text": [
      "2023-07-07-11 included \n"
     ]
    },
    {
     "name": "stderr",
     "output_type": "stream",
     "text": [
      "\u001b[33m\u001b[1m┌ \u001b[22m\u001b[39m\u001b[33m\u001b[1mWarning: \u001b[22m\u001b[39mtype MultivariateStats.PCA{Float64} does not exist in workspace; reconstructing\n",
      "\u001b[33m\u001b[1m└ \u001b[22m\u001b[39m\u001b[90m@ JLD2 ~/.julia/packages/JLD2/twZ5D/src/data/reconstructing_datatypes.jl:621\u001b[39m\n"
     ]
    },
    {
     "name": "stdout",
     "output_type": "stream",
     "text": [
      "2023-10-15-18 included \n"
     ]
    },
    {
     "name": "stderr",
     "output_type": "stream",
     "text": [
      "\u001b[33m\u001b[1m┌ \u001b[22m\u001b[39m\u001b[33m\u001b[1mWarning: \u001b[22m\u001b[39mtype MultivariateStats.PCA{Float64} does not exist in workspace; reconstructing\n",
      "\u001b[33m\u001b[1m└ \u001b[22m\u001b[39m\u001b[90m@ JLD2 ~/.julia/packages/JLD2/twZ5D/src/data/reconstructing_datatypes.jl:621\u001b[39m\n"
     ]
    },
    {
     "name": "stdout",
     "output_type": "stream",
     "text": [
      "2023-10-11-07 included \n"
     ]
    },
    {
     "name": "stderr",
     "output_type": "stream",
     "text": [
      "\u001b[33m\u001b[1m┌ \u001b[22m\u001b[39m\u001b[33m\u001b[1mWarning: \u001b[22m\u001b[39mtype MultivariateStats.PCA{Float64} does not exist in workspace; reconstructing\n",
      "\u001b[33m\u001b[1m└ \u001b[22m\u001b[39m\u001b[90m@ JLD2 ~/.julia/packages/JLD2/twZ5D/src/data/reconstructing_datatypes.jl:621\u001b[39m\n"
     ]
    },
    {
     "name": "stdout",
     "output_type": "stream",
     "text": [
      "2023-05-30-14 included \n"
     ]
    },
    {
     "name": "stderr",
     "output_type": "stream",
     "text": [
      "\u001b[33m\u001b[1m┌ \u001b[22m\u001b[39m\u001b[33m\u001b[1mWarning: \u001b[22m\u001b[39mtype MultivariateStats.PCA{Float64} does not exist in workspace; reconstructing\n",
      "\u001b[33m\u001b[1m└ \u001b[22m\u001b[39m\u001b[90m@ JLD2 ~/.julia/packages/JLD2/twZ5D/src/data/reconstructing_datatypes.jl:621\u001b[39m\n"
     ]
    },
    {
     "name": "stdout",
     "output_type": "stream",
     "text": [
      "2023-09-01-01 included \n"
     ]
    },
    {
     "name": "stderr",
     "output_type": "stream",
     "text": [
      "\u001b[33m\u001b[1m┌ \u001b[22m\u001b[39m\u001b[33m\u001b[1mWarning: \u001b[22m\u001b[39mtype MultivariateStats.PCA{Float64} does not exist in workspace; reconstructing\n",
      "\u001b[33m\u001b[1m└ \u001b[22m\u001b[39m\u001b[90m@ JLD2 ~/.julia/packages/JLD2/twZ5D/src/data/reconstructing_datatypes.jl:621\u001b[39m\n"
     ]
    },
    {
     "name": "stdout",
     "output_type": "stream",
     "text": [
      "2024-06-18-01 included \n"
     ]
    },
    {
     "name": "stderr",
     "output_type": "stream",
     "text": [
      "\u001b[33m\u001b[1m┌ \u001b[22m\u001b[39m\u001b[33m\u001b[1mWarning: \u001b[22m\u001b[39mtype MultivariateStats.PCA{Float64} does not exist in workspace; reconstructing\n",
      "\u001b[33m\u001b[1m└ \u001b[22m\u001b[39m\u001b[90m@ JLD2 ~/.julia/packages/JLD2/twZ5D/src/data/reconstructing_datatypes.jl:621\u001b[39m\n"
     ]
    },
    {
     "name": "stdout",
     "output_type": "stream",
     "text": [
      "2023-10-06-14 included \n"
     ]
    },
    {
     "name": "stderr",
     "output_type": "stream",
     "text": [
      "\u001b[33m\u001b[1m┌ \u001b[22m\u001b[39m\u001b[33m\u001b[1mWarning: \u001b[22m\u001b[39mtype MultivariateStats.PCA{Float64} does not exist in workspace; reconstructing\n",
      "\u001b[33m\u001b[1m└ \u001b[22m\u001b[39m\u001b[90m@ JLD2 ~/.julia/packages/JLD2/twZ5D/src/data/reconstructing_datatypes.jl:621\u001b[39m\n"
     ]
    },
    {
     "name": "stdout",
     "output_type": "stream",
     "text": [
      "2023-09-05-07 included \n"
     ]
    },
    {
     "name": "stderr",
     "output_type": "stream",
     "text": [
      "\u001b[33m\u001b[1m┌ \u001b[22m\u001b[39m\u001b[33m\u001b[1mWarning: \u001b[22m\u001b[39mtype MultivariateStats.PCA{Float64} does not exist in workspace; reconstructing\n",
      "\u001b[33m\u001b[1m└ \u001b[22m\u001b[39m\u001b[90m@ JLD2 ~/.julia/packages/JLD2/twZ5D/src/data/reconstructing_datatypes.jl:621\u001b[39m\n"
     ]
    },
    {
     "name": "stdout",
     "output_type": "stream",
     "text": [
      "2023-06-21-01 included \n"
     ]
    },
    {
     "name": "stderr",
     "output_type": "stream",
     "text": [
      "\u001b[33m\u001b[1m┌ \u001b[22m\u001b[39m\u001b[33m\u001b[1mWarning: \u001b[22m\u001b[39mtype MultivariateStats.PCA{Float64} does not exist in workspace; reconstructing\n",
      "\u001b[33m\u001b[1m└ \u001b[22m\u001b[39m\u001b[90m@ JLD2 ~/.julia/packages/JLD2/twZ5D/src/data/reconstructing_datatypes.jl:621\u001b[39m\n"
     ]
    },
    {
     "name": "stdout",
     "output_type": "stream",
     "text": [
      "2023-08-02-17 included \n"
     ]
    },
    {
     "name": "stderr",
     "output_type": "stream",
     "text": [
      "\u001b[33m\u001b[1m┌ \u001b[22m\u001b[39m\u001b[33m\u001b[1mWarning: \u001b[22m\u001b[39mtype MultivariateStats.PCA{Float64} does not exist in workspace; reconstructing\n",
      "\u001b[33m\u001b[1m└ \u001b[22m\u001b[39m\u001b[90m@ JLD2 ~/.julia/packages/JLD2/twZ5D/src/data/reconstructing_datatypes.jl:621\u001b[39m\n"
     ]
    },
    {
     "name": "stdout",
     "output_type": "stream",
     "text": [
      "2023-06-29-13 included \n"
     ]
    },
    {
     "name": "stderr",
     "output_type": "stream",
     "text": [
      "\u001b[33m\u001b[1m┌ \u001b[22m\u001b[39m\u001b[33m\u001b[1mWarning: \u001b[22m\u001b[39mtype MultivariateStats.PCA{Float64} does not exist in workspace; reconstructing\n",
      "\u001b[33m\u001b[1m└ \u001b[22m\u001b[39m\u001b[90m@ JLD2 ~/.julia/packages/JLD2/twZ5D/src/data/reconstructing_datatypes.jl:621\u001b[39m\n"
     ]
    },
    {
     "name": "stdout",
     "output_type": "stream",
     "text": [
      "2023-08-15-01 included \n"
     ]
    },
    {
     "name": "stderr",
     "output_type": "stream",
     "text": [
      "\u001b[33m\u001b[1m┌ \u001b[22m\u001b[39m\u001b[33m\u001b[1mWarning: \u001b[22m\u001b[39mtype MultivariateStats.PCA{Float64} does not exist in workspace; reconstructing\n",
      "\u001b[33m\u001b[1m└ \u001b[22m\u001b[39m\u001b[90m@ JLD2 ~/.julia/packages/JLD2/twZ5D/src/data/reconstructing_datatypes.jl:621\u001b[39m\n"
     ]
    },
    {
     "name": "stdout",
     "output_type": "stream",
     "text": [
      "2022-07-20-01 included \n"
     ]
    },
    {
     "name": "stderr",
     "output_type": "stream",
     "text": [
      "\u001b[33m\u001b[1m┌ \u001b[22m\u001b[39m\u001b[33m\u001b[1mWarning: \u001b[22m\u001b[39mtype MultivariateStats.PCA{Float64} does not exist in workspace; reconstructing\n",
      "\u001b[33m\u001b[1m└ \u001b[22m\u001b[39m\u001b[90m@ JLD2 ~/.julia/packages/JLD2/twZ5D/src/data/reconstructing_datatypes.jl:621\u001b[39m\n"
     ]
    },
    {
     "name": "stdout",
     "output_type": "stream",
     "text": [
      "2023-06-24-19 included \n"
     ]
    },
    {
     "name": "stderr",
     "output_type": "stream",
     "text": [
      "\u001b[33m\u001b[1m┌ \u001b[22m\u001b[39m\u001b[33m\u001b[1mWarning: \u001b[22m\u001b[39mtype MultivariateStats.PCA{Float64} does not exist in workspace; reconstructing\n",
      "\u001b[33m\u001b[1m└ \u001b[22m\u001b[39m\u001b[90m@ JLD2 ~/.julia/packages/JLD2/twZ5D/src/data/reconstructing_datatypes.jl:621\u001b[39m\n"
     ]
    },
    {
     "name": "stdout",
     "output_type": "stream",
     "text": [
      "2022-07-29-08 included \n",
      "2022-07-19-01 excluded: no data_dict or param_path\n",
      "2022-01-07-03 excluded: no data_dict or param_path\n"
     ]
    },
    {
     "name": "stderr",
     "output_type": "stream",
     "text": [
      "\u001b[33m\u001b[1m┌ \u001b[22m\u001b[39m\u001b[33m\u001b[1mWarning: \u001b[22m\u001b[39mtype MultivariateStats.PCA{Float64} does not exist in workspace; reconstructing\n",
      "\u001b[33m\u001b[1m└ \u001b[22m\u001b[39m\u001b[90m@ JLD2 ~/.julia/packages/JLD2/twZ5D/src/data/reconstructing_datatypes.jl:621\u001b[39m\n"
     ]
    },
    {
     "name": "stdout",
     "output_type": "stream",
     "text": [
      "2023-01-09-08 included \n"
     ]
    },
    {
     "name": "stderr",
     "output_type": "stream",
     "text": [
      "\u001b[33m\u001b[1m┌ \u001b[22m\u001b[39m\u001b[33m\u001b[1mWarning: \u001b[22m\u001b[39mtype MultivariateStats.PCA{Float64} does not exist in workspace; reconstructing\n",
      "\u001b[33m\u001b[1m└ \u001b[22m\u001b[39m\u001b[90m@ JLD2 ~/.julia/packages/JLD2/twZ5D/src/data/reconstructing_datatypes.jl:621\u001b[39m\n"
     ]
    },
    {
     "name": "stdout",
     "output_type": "stream",
     "text": [
      "2022-06-28-07 included \n"
     ]
    },
    {
     "name": "stderr",
     "output_type": "stream",
     "text": [
      "\u001b[33m\u001b[1m┌ \u001b[22m\u001b[39m\u001b[33m\u001b[1mWarning: \u001b[22m\u001b[39mtype MultivariateStats.PCA{Float64} does not exist in workspace; reconstructing\n",
      "\u001b[33m\u001b[1m└ \u001b[22m\u001b[39m\u001b[90m@ JLD2 ~/.julia/packages/JLD2/twZ5D/src/data/reconstructing_datatypes.jl:621\u001b[39m\n"
     ]
    },
    {
     "name": "stdout",
     "output_type": "stream",
     "text": [
      "2023-05-25-01 included \n"
     ]
    },
    {
     "name": "stderr",
     "output_type": "stream",
     "text": [
      "\u001b[33m\u001b[1m┌ \u001b[22m\u001b[39m\u001b[33m\u001b[1mWarning: \u001b[22m\u001b[39mtype MultivariateStats.PCA{Float64} does not exist in workspace; reconstructing\n",
      "\u001b[33m\u001b[1m└ \u001b[22m\u001b[39m\u001b[90m@ JLD2 ~/.julia/packages/JLD2/twZ5D/src/data/reconstructing_datatypes.jl:621\u001b[39m\n"
     ]
    },
    {
     "name": "stdout",
     "output_type": "stream",
     "text": [
      "2023-09-05-01 included \n"
     ]
    },
    {
     "name": "stderr",
     "output_type": "stream",
     "text": [
      "\u001b[33m\u001b[1m┌ \u001b[22m\u001b[39m\u001b[33m\u001b[1mWarning: \u001b[22m\u001b[39mtype MultivariateStats.PCA{Float64} does not exist in workspace; reconstructing\n",
      "\u001b[33m\u001b[1m└ \u001b[22m\u001b[39m\u001b[90m@ JLD2 ~/.julia/packages/JLD2/twZ5D/src/data/reconstructing_datatypes.jl:621\u001b[39m\n"
     ]
    },
    {
     "name": "stdout",
     "output_type": "stream",
     "text": [
      "2023-07-01-01 included \n"
     ]
    },
    {
     "name": "stderr",
     "output_type": "stream",
     "text": [
      "\u001b[33m\u001b[1m┌ \u001b[22m\u001b[39m\u001b[33m\u001b[1mWarning: \u001b[22m\u001b[39mtype MultivariateStats.PCA{Float64} does not exist in workspace; reconstructing\n",
      "\u001b[33m\u001b[1m└ \u001b[22m\u001b[39m\u001b[90m@ JLD2 ~/.julia/packages/JLD2/twZ5D/src/data/reconstructing_datatypes.jl:621\u001b[39m\n"
     ]
    },
    {
     "name": "stdout",
     "output_type": "stream",
     "text": [
      "2023-07-11-02 included \n"
     ]
    },
    {
     "name": "stderr",
     "output_type": "stream",
     "text": [
      "\u001b[33m\u001b[1m┌ \u001b[22m\u001b[39m\u001b[33m\u001b[1mWarning: \u001b[22m\u001b[39mtype MultivariateStats.PCA{Float64} does not exist in workspace; reconstructing\n",
      "\u001b[33m\u001b[1m└ \u001b[22m\u001b[39m\u001b[90m@ JLD2 ~/.julia/packages/JLD2/twZ5D/src/data/reconstructing_datatypes.jl:621\u001b[39m\n"
     ]
    },
    {
     "name": "stdout",
     "output_type": "stream",
     "text": [
      "2023-10-09-01 included \n"
     ]
    },
    {
     "name": "stderr",
     "output_type": "stream",
     "text": [
      "\u001b[33m\u001b[1m┌ \u001b[22m\u001b[39m\u001b[33m\u001b[1mWarning: \u001b[22m\u001b[39mtype MultivariateStats.PCA{Float64} does not exist in workspace; reconstructing\n",
      "\u001b[33m\u001b[1m└ \u001b[22m\u001b[39m\u001b[90m@ JLD2 ~/.julia/packages/JLD2/twZ5D/src/data/reconstructing_datatypes.jl:621\u001b[39m\n"
     ]
    },
    {
     "name": "stdout",
     "output_type": "stream",
     "text": [
      "2023-08-14-01 included \n"
     ]
    },
    {
     "name": "stderr",
     "output_type": "stream",
     "text": [
      "\u001b[33m\u001b[1m┌ \u001b[22m\u001b[39m\u001b[33m\u001b[1mWarning: \u001b[22m\u001b[39mtype MultivariateStats.PCA{Float64} does not exist in workspace; reconstructing\n",
      "\u001b[33m\u001b[1m└ \u001b[22m\u001b[39m\u001b[90m@ JLD2 ~/.julia/packages/JLD2/twZ5D/src/data/reconstructing_datatypes.jl:621\u001b[39m\n"
     ]
    },
    {
     "name": "stdout",
     "output_type": "stream",
     "text": [
      "2023-10-09-23 included \n"
     ]
    },
    {
     "name": "stderr",
     "output_type": "stream",
     "text": [
      "\u001b[33m\u001b[1m┌ \u001b[22m\u001b[39m\u001b[33m\u001b[1mWarning: \u001b[22m\u001b[39mtype MultivariateStats.PCA{Float64} does not exist in workspace; reconstructing\n",
      "\u001b[33m\u001b[1m└ \u001b[22m\u001b[39m\u001b[90m@ JLD2 ~/.julia/packages/JLD2/twZ5D/src/data/reconstructing_datatypes.jl:621\u001b[39m\n"
     ]
    },
    {
     "name": "stdout",
     "output_type": "stream",
     "text": [
      "2023-01-09-01 included \n"
     ]
    },
    {
     "name": "stderr",
     "output_type": "stream",
     "text": [
      "\u001b[33m\u001b[1m┌ \u001b[22m\u001b[39m\u001b[33m\u001b[1mWarning: \u001b[22m\u001b[39mtype MultivariateStats.PCA{Float64} does not exist in workspace; reconstructing\n",
      "\u001b[33m\u001b[1m└ \u001b[22m\u001b[39m\u001b[90m@ JLD2 ~/.julia/packages/JLD2/twZ5D/src/data/reconstructing_datatypes.jl:621\u001b[39m\n"
     ]
    },
    {
     "name": "stdout",
     "output_type": "stream",
     "text": [
      "2023-09-06-01 included \n"
     ]
    },
    {
     "name": "stderr",
     "output_type": "stream",
     "text": [
      "\u001b[33m\u001b[1m┌ \u001b[22m\u001b[39m\u001b[33m\u001b[1mWarning: \u001b[22m\u001b[39mtype MultivariateStats.PCA{Float64} does not exist in workspace; reconstructing\n",
      "\u001b[33m\u001b[1m└ \u001b[22m\u001b[39m\u001b[90m@ JLD2 ~/.julia/packages/JLD2/twZ5D/src/data/reconstructing_datatypes.jl:621\u001b[39m\n"
     ]
    },
    {
     "name": "stdout",
     "output_type": "stream",
     "text": [
      "2023-10-13-13 included \n",
      "2022-08-03-38 excluded: KeyError(\"traces_array_quality\")\n",
      "2022-08-03-38 included \n",
      "2023-01-13-01 excluded: no data_dict or param_path\n"
     ]
    },
    {
     "name": "stderr",
     "output_type": "stream",
     "text": [
      "\u001b[33m\u001b[1m┌ \u001b[22m\u001b[39m\u001b[33m\u001b[1mWarning: \u001b[22m\u001b[39mtype MultivariateStats.PCA{Float64} does not exist in workspace; reconstructing\n",
      "\u001b[33m\u001b[1m└ \u001b[22m\u001b[39m\u001b[90m@ JLD2 ~/.julia/packages/JLD2/twZ5D/src/data/reconstructing_datatypes.jl:621\u001b[39m\n"
     ]
    },
    {
     "name": "stdout",
     "output_type": "stream",
     "text": [
      "2023-07-24-01 included \n"
     ]
    },
    {
     "name": "stderr",
     "output_type": "stream",
     "text": [
      "\u001b[33m\u001b[1m┌ \u001b[22m\u001b[39m\u001b[33m\u001b[1mWarning: \u001b[22m\u001b[39mtype MultivariateStats.PCA{Float64} does not exist in workspace; reconstructing\n",
      "\u001b[33m\u001b[1m└ \u001b[22m\u001b[39m\u001b[90m@ JLD2 ~/.julia/packages/JLD2/twZ5D/src/data/reconstructing_datatypes.jl:621\u001b[39m\n"
     ]
    },
    {
     "name": "stdout",
     "output_type": "stream",
     "text": [
      "2023-10-13-01 included \n"
     ]
    },
    {
     "name": "stderr",
     "output_type": "stream",
     "text": [
      "\u001b[33m\u001b[1m┌ \u001b[22m\u001b[39m\u001b[33m\u001b[1mWarning: \u001b[22m\u001b[39mtype MultivariateStats.PCA{Float64} does not exist in workspace; reconstructing\n",
      "\u001b[33m\u001b[1m└ \u001b[22m\u001b[39m\u001b[90m@ JLD2 ~/.julia/packages/JLD2/twZ5D/src/data/reconstructing_datatypes.jl:621\u001b[39m\n"
     ]
    },
    {
     "name": "stdout",
     "output_type": "stream",
     "text": [
      "2022-07-15-06 included \n"
     ]
    },
    {
     "name": "stderr",
     "output_type": "stream",
     "text": [
      "\u001b[33m\u001b[1m┌ \u001b[22m\u001b[39m\u001b[33m\u001b[1mWarning: \u001b[22m\u001b[39mtype MultivariateStats.PCA{Float64} does not exist in workspace; reconstructing\n",
      "\u001b[33m\u001b[1m└ \u001b[22m\u001b[39m\u001b[90m@ JLD2 ~/.julia/packages/JLD2/twZ5D/src/data/reconstructing_datatypes.jl:621\u001b[39m\n"
     ]
    },
    {
     "name": "stdout",
     "output_type": "stream",
     "text": [
      "2023-07-13-01 included \n"
     ]
    },
    {
     "name": "stderr",
     "output_type": "stream",
     "text": [
      "\u001b[33m\u001b[1m┌ \u001b[22m\u001b[39m\u001b[33m\u001b[1mWarning: \u001b[22m\u001b[39mtype MultivariateStats.PCA{Float64} does not exist in workspace; reconstructing\n",
      "\u001b[33m\u001b[1m└ \u001b[22m\u001b[39m\u001b[90m@ JLD2 ~/.julia/packages/JLD2/twZ5D/src/data/reconstructing_datatypes.jl:621\u001b[39m\n"
     ]
    },
    {
     "name": "stdout",
     "output_type": "stream",
     "text": [
      "2023-01-16-08 included \n"
     ]
    },
    {
     "name": "stderr",
     "output_type": "stream",
     "text": [
      "\u001b[33m\u001b[1m┌ \u001b[22m\u001b[39m\u001b[33m\u001b[1mWarning: \u001b[22m\u001b[39mtype MultivariateStats.PCA{Float64} does not exist in workspace; reconstructing\n",
      "\u001b[33m\u001b[1m└ \u001b[22m\u001b[39m\u001b[90m@ JLD2 ~/.julia/packages/JLD2/twZ5D/src/data/reconstructing_datatypes.jl:621\u001b[39m\n"
     ]
    },
    {
     "name": "stdout",
     "output_type": "stream",
     "text": [
      "2023-05-04-07 included \n",
      "2022-03-16-02 excluded: no data_dict or param_path\n",
      "2022-03-25-01 excluded: no data_dict or param_path\n"
     ]
    },
    {
     "name": "stderr",
     "output_type": "stream",
     "text": [
      "\u001b[33m\u001b[1m┌ \u001b[22m\u001b[39m\u001b[33m\u001b[1mWarning: \u001b[22m\u001b[39mtype MultivariateStats.PCA{Float64} does not exist in workspace; reconstructing\n",
      "\u001b[33m\u001b[1m└ \u001b[22m\u001b[39m\u001b[90m@ JLD2 ~/.julia/packages/JLD2/twZ5D/src/data/reconstructing_datatypes.jl:621\u001b[39m\n"
     ]
    },
    {
     "name": "stdout",
     "output_type": "stream",
     "text": [
      "2023-09-07-01 included \n"
     ]
    },
    {
     "name": "stderr",
     "output_type": "stream",
     "text": [
      "\u001b[33m\u001b[1m┌ \u001b[22m\u001b[39m\u001b[33m\u001b[1mWarning: \u001b[22m\u001b[39mtype MultivariateStats.PCA{Float64} does not exist in workspace; reconstructing\n",
      "\u001b[33m\u001b[1m└ \u001b[22m\u001b[39m\u001b[90m@ JLD2 ~/.julia/packages/JLD2/twZ5D/src/data/reconstructing_datatypes.jl:621\u001b[39m\n"
     ]
    },
    {
     "name": "stdout",
     "output_type": "stream",
     "text": [
      "2024-05-22-21 included \n"
     ]
    },
    {
     "name": "stderr",
     "output_type": "stream",
     "text": [
      "\u001b[33m\u001b[1m┌ \u001b[22m\u001b[39m\u001b[33m\u001b[1mWarning: \u001b[22m\u001b[39mtype MultivariateStats.PCA{Float64} does not exist in workspace; reconstructing\n",
      "\u001b[33m\u001b[1m└ \u001b[22m\u001b[39m\u001b[90m@ JLD2 ~/.julia/packages/JLD2/twZ5D/src/data/reconstructing_datatypes.jl:621\u001b[39m\n"
     ]
    },
    {
     "name": "stdout",
     "output_type": "stream",
     "text": [
      "2023-09-13-09 included \n"
     ]
    },
    {
     "name": "stderr",
     "output_type": "stream",
     "text": [
      "\u001b[33m\u001b[1m┌ \u001b[22m\u001b[39m\u001b[33m\u001b[1mWarning: \u001b[22m\u001b[39mtype MultivariateStats.PCA{Float64} does not exist in workspace; reconstructing\n",
      "\u001b[33m\u001b[1m└ \u001b[22m\u001b[39m\u001b[90m@ JLD2 ~/.julia/packages/JLD2/twZ5D/src/data/reconstructing_datatypes.jl:621\u001b[39m\n"
     ]
    },
    {
     "name": "stdout",
     "output_type": "stream",
     "text": [
      "2023-01-09-15 included \n"
     ]
    },
    {
     "name": "stderr",
     "output_type": "stream",
     "text": [
      "\u001b[33m\u001b[1m┌ \u001b[22m\u001b[39m\u001b[33m\u001b[1mWarning: \u001b[22m\u001b[39mtype MultivariateStats.PCA{Float64} does not exist in workspace; reconstructing\n",
      "\u001b[33m\u001b[1m└ \u001b[22m\u001b[39m\u001b[90m@ JLD2 ~/.julia/packages/JLD2/twZ5D/src/data/reconstructing_datatypes.jl:621\u001b[39m\n"
     ]
    },
    {
     "name": "stdout",
     "output_type": "stream",
     "text": [
      "2023-01-05-01 included \n",
      "2023-03-30-01 excluded: no data_dict or param_path\n",
      "2023-01-10-01 excluded: no data_dict or param_path\n"
     ]
    },
    {
     "name": "stderr",
     "output_type": "stream",
     "text": [
      "\u001b[33m\u001b[1m┌ \u001b[22m\u001b[39m\u001b[33m\u001b[1mWarning: \u001b[22m\u001b[39mtype MultivariateStats.PCA{Float64} does not exist in workspace; reconstructing\n",
      "\u001b[33m\u001b[1m└ \u001b[22m\u001b[39m\u001b[90m@ JLD2 ~/.julia/packages/JLD2/twZ5D/src/data/reconstructing_datatypes.jl:621\u001b[39m\n"
     ]
    },
    {
     "name": "stdout",
     "output_type": "stream",
     "text": [
      "2023-09-02-10 included \n"
     ]
    },
    {
     "name": "stderr",
     "output_type": "stream",
     "text": [
      "\u001b[33m\u001b[1m┌ \u001b[22m\u001b[39m\u001b[33m\u001b[1mWarning: \u001b[22m\u001b[39mtype MultivariateStats.PCA{Float64} does not exist in workspace; reconstructing\n",
      "\u001b[33m\u001b[1m└ \u001b[22m\u001b[39m\u001b[90m@ JLD2 ~/.julia/packages/JLD2/twZ5D/src/data/reconstructing_datatypes.jl:621\u001b[39m\n"
     ]
    },
    {
     "name": "stdout",
     "output_type": "stream",
     "text": [
      "2023-07-14-14 included \n"
     ]
    },
    {
     "name": "stderr",
     "output_type": "stream",
     "text": [
      "\u001b[33m\u001b[1m┌ \u001b[22m\u001b[39m\u001b[33m\u001b[1mWarning: \u001b[22m\u001b[39mtype MultivariateStats.PCA{Float64} does not exist in workspace; reconstructing\n",
      "\u001b[33m\u001b[1m└ \u001b[22m\u001b[39m\u001b[90m@ JLD2 ~/.julia/packages/JLD2/twZ5D/src/data/reconstructing_datatypes.jl:621\u001b[39m\n"
     ]
    },
    {
     "name": "stdout",
     "output_type": "stream",
     "text": [
      "2023-08-22-01 included \n"
     ]
    },
    {
     "name": "stderr",
     "output_type": "stream",
     "text": [
      "\u001b[33m\u001b[1m┌ \u001b[22m\u001b[39m\u001b[33m\u001b[1mWarning: \u001b[22m\u001b[39mtype MultivariateStats.PCA{Float64} does not exist in workspace; reconstructing\n",
      "\u001b[33m\u001b[1m└ \u001b[22m\u001b[39m\u001b[90m@ JLD2 ~/.julia/packages/JLD2/twZ5D/src/data/reconstructing_datatypes.jl:621\u001b[39m\n"
     ]
    },
    {
     "name": "stdout",
     "output_type": "stream",
     "text": [
      "2023-03-07-01 included \n"
     ]
    },
    {
     "name": "stderr",
     "output_type": "stream",
     "text": [
      "\u001b[33m\u001b[1m┌ \u001b[22m\u001b[39m\u001b[33m\u001b[1mWarning: \u001b[22m\u001b[39mtype MultivariateStats.PCA{Float64} does not exist in workspace; reconstructing\n",
      "\u001b[33m\u001b[1m└ \u001b[22m\u001b[39m\u001b[90m@ JLD2 ~/.julia/packages/JLD2/twZ5D/src/data/reconstructing_datatypes.jl:621\u001b[39m\n"
     ]
    },
    {
     "name": "stdout",
     "output_type": "stream",
     "text": [
      "2023-09-12-01 included \n"
     ]
    },
    {
     "name": "stderr",
     "output_type": "stream",
     "text": [
      "\u001b[33m\u001b[1m┌ \u001b[22m\u001b[39m\u001b[33m\u001b[1mWarning: \u001b[22m\u001b[39mtype MultivariateStats.PCA{Float64} does not exist in workspace; reconstructing\n",
      "\u001b[33m\u001b[1m└ \u001b[22m\u001b[39m\u001b[90m@ JLD2 ~/.julia/packages/JLD2/twZ5D/src/data/reconstructing_datatypes.jl:621\u001b[39m\n"
     ]
    },
    {
     "name": "stdout",
     "output_type": "stream",
     "text": [
      "2023-07-07-01 included \n"
     ]
    },
    {
     "name": "stderr",
     "output_type": "stream",
     "text": [
      "\u001b[33m\u001b[1m┌ \u001b[22m\u001b[39m\u001b[33m\u001b[1mWarning: \u001b[22m\u001b[39mtype MultivariateStats.PCA{Float64} does not exist in workspace; reconstructing\n",
      "\u001b[33m\u001b[1m└ \u001b[22m\u001b[39m\u001b[90m@ JLD2 ~/.julia/packages/JLD2/twZ5D/src/data/reconstructing_datatypes.jl:621\u001b[39m\n"
     ]
    },
    {
     "name": "stdout",
     "output_type": "stream",
     "text": [
      "2024-04-12-04 included \n"
     ]
    },
    {
     "name": "stderr",
     "output_type": "stream",
     "text": [
      "\u001b[33m\u001b[1m┌ \u001b[22m\u001b[39m\u001b[33m\u001b[1mWarning: \u001b[22m\u001b[39mtype MultivariateStats.PCA{Float64} does not exist in workspace; reconstructing\n",
      "\u001b[33m\u001b[1m└ \u001b[22m\u001b[39m\u001b[90m@ JLD2 ~/.julia/packages/JLD2/twZ5D/src/data/reconstructing_datatypes.jl:621\u001b[39m\n"
     ]
    },
    {
     "name": "stdout",
     "output_type": "stream",
     "text": [
      "2023-10-06-01 included \n"
     ]
    },
    {
     "name": "stderr",
     "output_type": "stream",
     "text": [
      "\u001b[33m\u001b[1m┌ \u001b[22m\u001b[39m\u001b[33m\u001b[1mWarning: \u001b[22m\u001b[39mtype MultivariateStats.PCA{Float64} does not exist in workspace; reconstructing\n",
      "\u001b[33m\u001b[1m└ \u001b[22m\u001b[39m\u001b[90m@ JLD2 ~/.julia/packages/JLD2/twZ5D/src/data/reconstructing_datatypes.jl:621\u001b[39m\n"
     ]
    },
    {
     "name": "stdout",
     "output_type": "stream",
     "text": [
      "2023-07-25-18 included \n"
     ]
    },
    {
     "name": "stderr",
     "output_type": "stream",
     "text": [
      "\u001b[33m\u001b[1m┌ \u001b[22m\u001b[39m\u001b[33m\u001b[1mWarning: \u001b[22m\u001b[39mtype MultivariateStats.PCA{Float64} does not exist in workspace; reconstructing\n",
      "\u001b[33m\u001b[1m└ \u001b[22m\u001b[39m\u001b[90m@ JLD2 ~/.julia/packages/JLD2/twZ5D/src/data/reconstructing_datatypes.jl:621\u001b[39m\n"
     ]
    },
    {
     "name": "stdout",
     "output_type": "stream",
     "text": [
      "2023-07-13-17 included \n"
     ]
    },
    {
     "name": "stderr",
     "output_type": "stream",
     "text": [
      "\u001b[33m\u001b[1m┌ \u001b[22m\u001b[39m\u001b[33m\u001b[1mWarning: \u001b[22m\u001b[39mtype MultivariateStats.PCA{Float64} does not exist in workspace; reconstructing\n",
      "\u001b[33m\u001b[1m└ \u001b[22m\u001b[39m\u001b[90m@ JLD2 ~/.julia/packages/JLD2/twZ5D/src/data/reconstructing_datatypes.jl:621\u001b[39m\n"
     ]
    },
    {
     "name": "stdout",
     "output_type": "stream",
     "text": [
      "2023-05-31-01 included \n",
      "2023-07-25-10 excluded: no data_dict or param_path\n"
     ]
    },
    {
     "name": "stderr",
     "output_type": "stream",
     "text": [
      "\u001b[33m\u001b[1m┌ \u001b[22m\u001b[39m\u001b[33m\u001b[1mWarning: \u001b[22m\u001b[39mtype MultivariateStats.PCA{Float64} does not exist in workspace; reconstructing\n",
      "\u001b[33m\u001b[1m└ \u001b[22m\u001b[39m\u001b[90m@ JLD2 ~/.julia/packages/JLD2/twZ5D/src/data/reconstructing_datatypes.jl:621\u001b[39m\n"
     ]
    },
    {
     "name": "stdout",
     "output_type": "stream",
     "text": [
      "2023-09-25-01 included \n"
     ]
    },
    {
     "name": "stderr",
     "output_type": "stream",
     "text": [
      "\u001b[33m\u001b[1m┌ \u001b[22m\u001b[39m\u001b[33m\u001b[1mWarning: \u001b[22m\u001b[39mtype MultivariateStats.PCA{Float64} does not exist in workspace; reconstructing\n",
      "\u001b[33m\u001b[1m└ \u001b[22m\u001b[39m\u001b[90m@ JLD2 ~/.julia/packages/JLD2/twZ5D/src/data/reconstructing_datatypes.jl:621\u001b[39m\n"
     ]
    },
    {
     "name": "stdout",
     "output_type": "stream",
     "text": [
      "2022-07-15-12 included \n"
     ]
    },
    {
     "name": "stderr",
     "output_type": "stream",
     "text": [
      "\u001b[33m\u001b[1m┌ \u001b[22m\u001b[39m\u001b[33m\u001b[1mWarning: \u001b[22m\u001b[39mtype MultivariateStats.PCA{Float64} does not exist in workspace; reconstructing\n",
      "\u001b[33m\u001b[1m└ \u001b[22m\u001b[39m\u001b[90m@ JLD2 ~/.julia/packages/JLD2/twZ5D/src/data/reconstructing_datatypes.jl:621\u001b[39m\n"
     ]
    },
    {
     "name": "stdout",
     "output_type": "stream",
     "text": [
      "2023-06-05-10 included \n",
      "2022-03-16-01 excluded: no data_dict or param_path\n"
     ]
    },
    {
     "name": "stderr",
     "output_type": "stream",
     "text": [
      "\u001b[33m\u001b[1m┌ \u001b[22m\u001b[39m\u001b[33m\u001b[1mWarning: \u001b[22m\u001b[39mtype MultivariateStats.PCA{Float64} does not exist in workspace; reconstructing\n",
      "\u001b[33m\u001b[1m└ \u001b[22m\u001b[39m\u001b[90m@ JLD2 ~/.julia/packages/JLD2/twZ5D/src/data/reconstructing_datatypes.jl:621\u001b[39m\n"
     ]
    },
    {
     "name": "stdout",
     "output_type": "stream",
     "text": [
      "2023-01-09-28 included \n"
     ]
    },
    {
     "name": "stderr",
     "output_type": "stream",
     "text": [
      "\u001b[33m\u001b[1m┌ \u001b[22m\u001b[39m\u001b[33m\u001b[1mWarning: \u001b[22m\u001b[39mtype MultivariateStats.PCA{Float64} does not exist in workspace; reconstructing\n",
      "\u001b[33m\u001b[1m└ \u001b[22m\u001b[39m\u001b[90m@ JLD2 ~/.julia/packages/JLD2/twZ5D/src/data/reconstructing_datatypes.jl:621\u001b[39m\n"
     ]
    },
    {
     "name": "stdout",
     "output_type": "stream",
     "text": [
      "2023-10-09-17 included \n"
     ]
    },
    {
     "name": "stderr",
     "output_type": "stream",
     "text": [
      "\u001b[33m\u001b[1m┌ \u001b[22m\u001b[39m\u001b[33m\u001b[1mWarning: \u001b[22m\u001b[39mtype MultivariateStats.PCA{Float64} does not exist in workspace; reconstructing\n",
      "\u001b[33m\u001b[1m└ \u001b[22m\u001b[39m\u001b[90m@ JLD2 ~/.julia/packages/JLD2/twZ5D/src/data/reconstructing_datatypes.jl:621\u001b[39m\n"
     ]
    },
    {
     "name": "stdout",
     "output_type": "stream",
     "text": [
      "2022-06-14-01 included \n"
     ]
    }
   ],
   "source": [
    "param_paths = Dict()\n",
    "data_dicts = Dict()\n",
    "cp_keys = [\"dict_param_crop_rot\", \"head_pos\", \"traces_array_quality\"]\n",
    "for dataset in keys(dataset_paths)\n",
    "    path_data_dict = joinpath(dataset_paths[dataset], \"data_dict.jld2\")\n",
    "    path_param_path = joinpath(dataset_paths[dataset], \"param_path.jld2\")\n",
    "    if !isfile(path_data_dict) || !isfile(path_param_path)\n",
    "        println(\"$(dataset) excluded: no data_dict or param_path\")\n",
    "        continue\n",
    "    end\n",
    "    f = JLD2.jldopen(path_data_dict)\n",
    "    data_dict = f[\"data_dict\"]\n",
    "    close(f)\n",
    "    data_dicts[dataset] = Dict()\n",
    "\n",
    "    try\n",
    "        for k in cp_keys\n",
    "            if k == \"traces_array_quality\" && dataset in [\"2023-09-29-01\", \"2023-07-25-01\", \"2022-05-17-02\", \"2022-05-17-03\", \"2022-05-17-04\", \"2022-05-17-05\", \"2022-05-17-07\", \"2022-05-17-08\", \"2022-05-17-09\", \"2022-05-17-10\"]\n",
    "                data_dicts[dataset][k] = ones(100,20)\n",
    "            else\n",
    "                data_dicts[dataset][k] = data_dict[k]\n",
    "            end\n",
    "        end\n",
    "    catch e\n",
    "        delete!(data_dicts, dataset)\n",
    "        println(\"$(dataset) excluded: $(e)\")\n",
    "    end\n",
    "    \n",
    "    f = JLD2.jldopen(path_param_path)\n",
    "    param_paths[dataset] = f[\"param_path\"]\n",
    "    close(f)\n",
    "    add_get_basename!(param_paths[dataset])\n",
    "\n",
    "    print(dataset, \" included \\n\")\n",
    "end"
   ]
  },
  {
   "cell_type": "code",
   "execution_count": 50,
   "id": "4a0c6950-4d30-4b60-b533-e5f00f729902",
   "metadata": {},
   "outputs": [
    {
     "data": {
      "text/plain": [
       "Dict{Any, Any} with 168 entries:\n",
       "  \"2022-06-14-01\" => Dict{Any, Any}(\"traces_array_quality\"=>[218.0 222.0 … 200.…\n",
       "  \"2023-08-23-02\" => Dict{Any, Any}(\"traces_array_quality\"=>[381.0 329.0 … 206.…\n",
       "  \"2023-08-23-23\" => Dict{Any, Any}(\"traces_array_quality\"=>[0.0 0.0 … 219.0 20…\n",
       "  \"2023-09-27-01\" => Dict{Any, Any}(\"traces_array_quality\"=>[814.0 745.0 … 472.…\n",
       "  \"2023-06-24-28\" => Dict{Any, Any}(\"traces_array_quality\"=>[217.0 0.0 … 0.0 16…\n",
       "  \"2024-05-02-13\" => Dict{Any, Any}(\"traces_array_quality\"=>[191.0 194.0 … 181.…\n",
       "  \"2022-07-12-13\" => Dict{Any, Any}(\"traces_array_quality\"=>[721.0 636.0 … 318.…\n",
       "  \"2022-07-26-38\" => Dict{Any, Any}(\"traces_array_quality\"=>[257.0 246.0 … 274.…\n",
       "  \"2023-07-14-08\" => Dict{Any, Any}(\"traces_array_quality\"=>[0.0 0.0 … 0.0 184.…\n",
       "  \"2023-10-06-07\" => Dict{Any, Any}(\"traces_array_quality\"=>[240.0 208.0 … 182.…\n",
       "  \"2022-06-14-07\" => Dict{Any, Any}(\"traces_array_quality\"=>[290.0 276.0 … 182.…\n",
       "  \"2023-06-05-01\" => Dict{Any, Any}(\"traces_array_quality\"=>[464.0 383.0 … 216.…\n",
       "  \"2022-07-27-31\" => Dict{Any, Any}(\"traces_array_quality\"=>[192.0 201.0 … 0.0 …\n",
       "  \"2023-07-07-18\" => Dict{Any, Any}(\"traces_array_quality\"=>[0.0 0.0 … 247.0 25…\n",
       "  \"2023-07-28-04\" => Dict{Any, Any}(\"traces_array_quality\"=>[415.0 350.0 … 249.…\n",
       "  \"2023-09-19-01\" => Dict{Any, Any}(\"traces_array_quality\"=>[187.0 207.0 … 202.…\n",
       "  \"2023-08-22-08\" => Dict{Any, Any}(\"traces_array_quality\"=>[0.0 0.0 … 0.0 510.…\n",
       "  \"2023-06-23-08\" => Dict{Any, Any}(\"traces_array_quality\"=>[937.0 864.0 … 641.…\n",
       "  \"2023-05-04-01\" => Dict{Any, Any}(\"traces_array_quality\"=>[368.0 325.0 … 0.0 …\n",
       "  \"2023-07-25-11\" => Dict{Any, Any}(\"traces_array_quality\"=>[0.0 0.0 … 167.0 16…\n",
       "  \"2023-01-10-07\" => Dict{Any, Any}(\"traces_array_quality\"=>[317.0 277.0 … 0.0 …\n",
       "  \"2023-08-02-01\" => Dict{Any, Any}(\"traces_array_quality\"=>[163.0 172.0 … 151.…\n",
       "  \"2023-10-03-02\" => Dict{Any, Any}(\"traces_array_quality\"=>[491.0 362.0 … 286.…\n",
       "  \"2023-06-29-01\" => Dict{Any, Any}(\"traces_array_quality\"=>[182.0 183.0 … 0.0 …\n",
       "  \"2023-05-26-08\" => Dict{Any, Any}(\"traces_array_quality\"=>[495.0 444.0 … 243.…\n",
       "  ⋮               => ⋮"
      ]
     },
     "execution_count": 50,
     "metadata": {},
     "output_type": "execute_result"
    }
   ],
   "source": [
    "data_dicts"
   ]
  },
  {
   "cell_type": "code",
   "execution_count": 73,
   "id": "7250e0a0-31b9-4fba-b8a7-7cab2d2395a7",
   "metadata": {},
   "outputs": [],
   "source": [
    "JLD2.@save(\"/store1/candy/prj_unet2d/data_dicts.jld2\", data_dicts)"
   ]
  },
  {
   "cell_type": "code",
   "execution_count": 74,
   "id": "cac747de-151b-4618-8d5a-406910c4ca9c",
   "metadata": {},
   "outputs": [],
   "source": [
    "JLD2.@save(\"/store1/candy/prj_unet2d/param_paths.jld2\", param_paths)"
   ]
  },
  {
   "cell_type": "code",
   "execution_count": 112,
   "id": "d6e29650-0545-4216-8e49-05c02e370c16",
   "metadata": {},
   "outputs": [
    {
     "data": {
      "text/plain": [
       "(180, 70)"
      ]
     },
     "execution_count": 112,
     "metadata": {},
     "output_type": "execute_result"
    }
   ],
   "source": [
    "### make a giant dictionary for the hard examples \n",
    "### make sure there's a rough 50/50 split between easy and hard\n",
    "### all manual_labels are coming from prj_5ht and prj_starvation even though the easy cases utilize data from many projects\n",
    "manual_labels = Dict() ### all head_pos labels below are in \"cropped\" coordinates, so I will uncrop them then recrop them later\n",
    "\n",
    "manual_labels[\"2023-09-13-02\"] = Dict()\n",
    "manual_labels[\"2023-09-13-02\"][59] = (180,60)\n",
    "manual_labels[\"2023-09-13-02\"][61] = (180,60)\n",
    "manual_labels[\"2023-09-13-02\"][288] = (190,60)\n",
    "manual_labels[\"2023-09-13-02\"][289] = (190,50)\n",
    "manual_labels[\"2023-09-13-02\"][313] = (190,60)\n",
    "manual_labels[\"2023-09-13-02\"][314] = (190,60)\n",
    "manual_labels[\"2023-09-13-02\"][315] = (20,40)\n",
    "manual_labels[\"2023-09-13-02\"][319] = (30,50)\n",
    "manual_labels[\"2023-09-13-02\"][320] = (180,70)\n",
    "manual_labels[\"2023-09-13-02\"][321] = (180,70)\n",
    "manual_labels[\"2023-09-13-02\"][322] = (180,70)\n",
    "manual_labels[\"2023-09-13-02\"][324] = (180,50)\n",
    "manual_labels[\"2023-09-13-02\"][325] = (180,50)\n",
    "manual_labels[\"2023-09-13-02\"][329] = (200,100)\n",
    "manual_labels[\"2023-09-13-02\"][334] = (200,80)\n",
    "manual_labels[\"2023-09-13-02\"][335] = (200,80)\n",
    "manual_labels[\"2023-09-13-02\"][336] = (200,80)\n",
    "manual_labels[\"2023-09-13-02\"][428] = (190,60)\n",
    "manual_labels[\"2023-09-13-02\"][450] = (180,70)\n",
    "manual_labels[\"2023-09-13-02\"][483] = (180,50)\n",
    "manual_labels[\"2023-09-13-02\"][485] = (40,40)\n",
    "manual_labels[\"2023-09-13-02\"][486] = (40,40)\n",
    "manual_labels[\"2023-09-13-02\"][488] = (20,30)\n",
    "manual_labels[\"2023-09-13-02\"][736] = (200,60)\n",
    "manual_labels[\"2023-09-13-02\"][739] = (200,60)\n",
    "manual_labels[\"2023-09-13-02\"][740] = (200,60)\n",
    "manual_labels[\"2023-09-13-02\"][824] = (180,60)\n",
    "manual_labels[\"2023-09-13-02\"][825] = (20,30)\n",
    "manual_labels[\"2023-09-13-02\"][826] = (200,60)\n",
    "manual_labels[\"2023-09-13-02\"][828] = (200,60)\n",
    "manual_labels[\"2023-09-13-02\"][829] = (200,60)\n",
    "manual_labels[\"2023-09-13-02\"][830] = (200,80)\n",
    "manual_labels[\"2023-09-13-02\"][831] = (200,80)\n",
    "manual_labels[\"2023-09-13-02\"][833] = (20,30)\n",
    "manual_labels[\"2023-09-13-02\"][834] = (180,60)\n",
    "manual_labels[\"2023-09-13-02\"][835] = (20,30)\n",
    "manual_labels[\"2023-09-13-02\"][836] = (200,60)\n",
    "manual_labels[\"2023-09-13-02\"][837] = (200,60)\n",
    "manual_labels[\"2023-09-13-02\"][838] = (200,60)\n",
    "manual_labels[\"2023-09-13-02\"][839] = (200,60)\n",
    "manual_labels[\"2023-09-13-02\"][840] = (20,40)\n",
    "manual_labels[\"2023-09-13-02\"][842] = (20,40)\n",
    "manual_labels[\"2023-09-13-02\"][843] = (200,60)\n",
    "manual_labels[\"2023-09-13-02\"][844] = (200,60)\n",
    "manual_labels[\"2023-09-13-02\"][845] = (200,60)\n",
    "manual_labels[\"2023-09-13-02\"][847] = (200,60)\n",
    "manual_labels[\"2023-09-13-02\"][850] = (200,60)\n",
    "manual_labels[\"2023-09-13-02\"][851] = (200,60)\n",
    "manual_labels[\"2023-09-13-02\"][852] = (200,60)\n",
    "manual_labels[\"2023-09-13-02\"][853] = (200,60)\n",
    "manual_labels[\"2023-09-13-02\"][857] = (200,60)\n",
    "manual_labels[\"2023-09-13-02\"][858] = (20,30)\n",
    "manual_labels[\"2023-09-13-02\"][859] = (200,60)\n",
    "manual_labels[\"2023-09-13-02\"][861] = (200,60)\n",
    "manual_labels[\"2023-09-13-02\"][862] = (200,60)\n",
    "manual_labels[\"2023-09-13-02\"][863] = (200,60)\n",
    "manual_labels[\"2023-09-13-02\"][864] = (200,60)\n",
    "manual_labels[\"2023-09-13-02\"][866] = (200,60)\n",
    "manual_labels[\"2023-09-13-02\"][868] = (200,60)\n",
    "manual_labels[\"2023-09-13-02\"][873] = (200,60)\n",
    "manual_labels[\"2023-09-13-02\"][878] = (200,60)\n",
    "manual_labels[\"2023-09-13-02\"][879] = (30,40)\n",
    "manual_labels[\"2023-09-13-02\"][882] = (200,60)\n",
    "manual_labels[\"2023-09-13-02\"][883] = (30,40)\n",
    "manual_labels[\"2023-09-13-02\"][884] = (30,40)\n",
    "manual_labels[\"2023-09-13-02\"][885] = (30,40)\n",
    "manual_labels[\"2023-09-13-02\"][886] = (200,60)\n",
    "manual_labels[\"2023-09-13-02\"][887] = (30,40)\n",
    "manual_labels[\"2023-09-13-02\"][909] = (200,60)\n",
    "manual_labels[\"2023-09-13-02\"][910] = (200,60)\n",
    "manual_labels[\"2023-09-13-02\"][911] = (30,40)\n",
    "manual_labels[\"2023-09-13-02\"][912] = (30,40)\n",
    "manual_labels[\"2023-09-13-02\"][920] = (200,60)\n",
    "manual_labels[\"2023-09-13-02\"][921] = (200,60)\n",
    "manual_labels[\"2023-09-13-02\"][922] = (200,60)\n",
    "manual_labels[\"2023-09-13-02\"][923] = (200,60)\n",
    "manual_labels[\"2023-09-13-02\"][924] = (200,60)\n",
    "manual_labels[\"2023-09-13-02\"][931] = (200,60)\n",
    "manual_labels[\"2023-09-13-02\"][932] = (30,40)\n",
    "manual_labels[\"2023-09-13-02\"][933] = (30,40)\n",
    "manual_labels[\"2023-09-13-02\"][934] = (200,60)\n",
    "manual_labels[\"2023-09-13-02\"][935] = (30,40)\n",
    "manual_labels[\"2023-09-13-02\"][936] = (30,40)\n",
    "manual_labels[\"2023-09-13-02\"][938] = (200,60)\n",
    "manual_labels[\"2023-09-13-02\"][939] = (200,60)\n",
    "manual_labels[\"2023-09-13-02\"][940] = (30,40)\n",
    "manual_labels[\"2023-09-13-02\"][941] = (30,40)\n",
    "manual_labels[\"2023-09-13-02\"][942] = (200,60)\n",
    "manual_labels[\"2023-09-13-02\"][943] = (30,40)\n",
    "manual_labels[\"2023-09-13-02\"][944] = (30,40)\n",
    "manual_labels[\"2023-09-13-02\"][945] = (30,40)\n",
    "manual_labels[\"2023-09-13-02\"][946] = (200,60)\n",
    "manual_labels[\"2023-09-13-02\"][947] = (200,60)\n",
    "manual_labels[\"2023-09-13-02\"][948] = (200,60)\n",
    "manual_labels[\"2023-09-13-02\"][949] = (200,60)\n",
    "manual_labels[\"2023-09-13-02\"][950] = (200,60)\n",
    "manual_labels[\"2023-09-13-02\"][951] = (200,60)\n",
    "manual_labels[\"2023-09-13-02\"][952] = (200,60)\n",
    "manual_labels[\"2023-09-13-02\"][953] = (200,60)\n",
    "manual_labels[\"2023-09-13-02\"][954] = (200,60)\n",
    "manual_labels[\"2023-09-13-02\"][955] = (200,60)\n",
    "manual_labels[\"2023-09-13-02\"][956] = (200,60)\n",
    "manual_labels[\"2023-09-13-02\"][957] = (200,60)\n",
    "manual_labels[\"2023-09-13-02\"][958] = (200,60)\n",
    "manual_labels[\"2023-09-13-02\"][960] = (200,60)\n",
    "manual_labels[\"2023-09-13-02\"][961] = (200,60)\n",
    "manual_labels[\"2023-09-13-02\"][963] = (200,60)\n",
    "manual_labels[\"2023-09-13-02\"][964] = (30,40)\n",
    "manual_labels[\"2023-09-13-02\"][965] = (30,40)\n",
    "manual_labels[\"2023-09-13-02\"][966] = (30,40)\n",
    "manual_labels[\"2023-09-13-02\"][968] = (200,60)\n",
    "manual_labels[\"2023-09-13-02\"][969] = (30,40)\n",
    "manual_labels[\"2023-09-13-02\"][971] = (200,60)\n",
    "\n",
    "manual_labels[\"2023-09-29-01\"] = Dict()\n",
    "manual_labels[\"2023-09-29-01\"][368] = (180,30)\n",
    "manual_labels[\"2023-09-29-01\"][500] = (200,10)\n",
    "manual_labels[\"2023-09-29-01\"][501] = (200,10)\n",
    "manual_labels[\"2023-09-29-01\"][759] = (200,90)\n",
    "manual_labels[\"2023-09-29-01\"][1100] = (200,90)\n",
    "manual_labels[\"2023-09-29-01\"][1102] = (200,90)\n",
    "manual_labels[\"2023-09-29-01\"][1103] = (200,130)\n",
    "manual_labels[\"2023-09-29-01\"][1409] = (30,240)\n",
    "\n",
    "manual_labels[\"2023-07-24-20\"] = Dict()\n",
    "manual_labels[\"2023-07-24-20\"][142] = (20,20)\n",
    "manual_labels[\"2023-07-24-20\"][143] = (180,80)\n",
    "manual_labels[\"2023-07-24-20\"][144] = (180,80)\n",
    "manual_labels[\"2023-07-24-20\"][145] = (180,80)\n",
    "manual_labels[\"2023-07-24-20\"][146] = (180,80)\n",
    "manual_labels[\"2023-07-24-20\"][147] = (180,80)\n",
    "manual_labels[\"2023-07-24-20\"][375] = (180,80)\n",
    "manual_labels[\"2023-07-24-20\"][489] = (180,70)\n",
    "manual_labels[\"2023-07-24-20\"][499] = (180,70)\n",
    "manual_labels[\"2023-07-24-20\"][501] = (180,70)\n",
    "manual_labels[\"2023-07-24-20\"][569] = (180,80)\n",
    "manual_labels[\"2023-07-24-20\"][570] = (180,80)\n",
    "manual_labels[\"2023-07-24-20\"][571] = (180,80)\n",
    "manual_labels[\"2023-07-24-20\"][884] = (180,70)\n",
    "manual_labels[\"2023-07-24-20\"][886] = (180,70)\n",
    "manual_labels[\"2023-07-24-20\"][960] = (180,70)\n",
    "manual_labels[\"2023-07-24-20\"][961] = (180,70)\n",
    "\n",
    "manual_labels[\"2023-07-25-01\"] = Dict()\n",
    "manual_labels[\"2023-07-25-01\"][579] = (200,50)\n",
    "manual_labels[\"2023-07-25-01\"][580] = (200,50)\n",
    "manual_labels[\"2023-07-25-01\"][631] = (220,70)\n",
    "manual_labels[\"2023-07-25-01\"][767] = (200,50)\n",
    "manual_labels[\"2023-07-25-01\"][791] = (200,50)\n",
    "manual_labels[\"2023-07-25-01\"][955] = (200,50)\n",
    "manual_labels[\"2023-07-25-01\"][1001] = (200,50)\n",
    "\n",
    "manual_labels[\"2023-08-01-01\"] = Dict()\n",
    "manual_labels[\"2023-08-01-01\"][168] = (180,70)\n",
    "manual_labels[\"2023-08-01-01\"][172] = (170,20)\n",
    "manual_labels[\"2023-08-01-01\"][171] = (220,40)\n",
    "manual_labels[\"2023-08-01-01\"][1295] = (170,40)\n",
    "manual_labels[\"2023-08-01-01\"][1321] = (40,50)\n",
    "manual_labels[\"2023-08-01-01\"][1324] = (40,50)\n",
    "manual_labels[\"2023-08-01-01\"][1326] = (150,50)\n",
    "manual_labels[\"2023-08-01-01\"][1341] = (20,40)\n",
    "manual_labels[\"2023-08-01-01\"][1340] = (160,40)\n",
    "manual_labels[\"2023-08-01-01\"][1342] = (160,40)\n",
    "manual_labels[\"2023-08-01-01\"][1354] = (160,40)\n",
    "manual_labels[\"2023-08-01-01\"][1359] = (20,40)\n",
    "\n",
    "manual_labels[\"2023-09-19-01\"] = Dict()\n",
    "manual_labels[\"2023-09-19-01\"][658] = (190,50)\n",
    "manual_labels[\"2023-09-19-01\"][659] = (180,45)\n",
    "manual_labels[\"2023-09-19-01\"][660] = (180,60)\n",
    "manual_labels[\"2023-09-19-01\"][661] = (50,40)\n",
    "manual_labels[\"2023-09-19-01\"][800] = (10,100)\n",
    "manual_labels[\"2023-09-19-01\"][1299] = (180,70)\n",
    "manual_labels[\"2023-09-19-01\"][1300] = (180,70)\n",
    "\n",
    "manual_labels[\"2023-09-27-14\"] = Dict()\n",
    "manual_labels[\"2023-09-27-14\"][276] = (180, 60)\n",
    "manual_labels[\"2023-09-27-14\"][277] = (180, 60)\n",
    "manual_labels[\"2023-09-27-14\"][278] = (180, 60)\n",
    "manual_labels[\"2023-09-27-14\"][891] = (100, 20)\n",
    "manual_labels[\"2023-09-27-14\"][892] = (170, 200)\n",
    "manual_labels[\"2023-09-27-14\"][893] = (170, 170)\n",
    "manual_labels[\"2023-09-27-14\"][894] = (250, 250)\n",
    "manual_labels[\"2023-09-27-14\"][895] = (150, 50)\n",
    "manual_labels[\"2023-09-27-14\"][896] = (150, 50)\n",
    "manual_labels[\"2023-09-27-14\"][897] = (150, 170)\n",
    "manual_labels[\"2023-09-27-14\"][1286] = (180, 70)"
   ]
  },
  {
   "cell_type": "markdown",
   "id": "cbd8c460-7e45-4c06-bac3-ee1177c03435",
   "metadata": {},
   "source": [
    "### Uncrop manual labels of head_pos, and visualize to confirm that it looks correct"
   ]
  },
  {
   "cell_type": "code",
   "execution_count": 113,
   "id": "f1acb7ad-8fd4-4eb1-8853-56e345ecde67",
   "metadata": {},
   "outputs": [
    {
     "data": {
      "text/plain": [
       "uncrop_single_point (generic function with 1 method)"
      ]
     },
     "execution_count": 113,
     "metadata": {},
     "output_type": "execute_result"
    }
   ],
   "source": [
    "function uncrop_single_point(dataset, param_paths, data_dicts, manual_labels, t; plot=false)\n",
    "\n",
    "    path_nrrd = joinpath(param_paths[dataset][\"path_dir_nrrd_crop\"], param_paths[dataset][\"get_basename\"](t,2) * \".nrrd\")\n",
    "    img = read_img(NRRD(path_nrrd))\n",
    "    img_crop = zeros(size(img))\n",
    "\n",
    "    hp_1 = manual_labels[dataset][t][1]\n",
    "    hp_2 = manual_labels[dataset][t][2]\n",
    "    img_crop[hp_1:hp_1+1, hp_2:hp_2+1, 10:30] .= 1.0\n",
    "    img_size = (322,210,77)\n",
    "    img_uncrop = uncrop_img_roi(img_crop, data_dicts[dataset][\"dict_param_crop_rot\"][t], img_size)\n",
    "    if plot\n",
    "        imshow(maxprj(img_uncrop,dims=3))\n",
    "    end\n",
    "    hp = findall(x->x == 1.0, maxprj(img_uncrop,dims=3))[1]\n",
    "\n",
    "    return hp\n",
    "end"
   ]
  },
  {
   "cell_type": "code",
   "execution_count": 114,
   "id": "46290c57-4ecf-4684-9f16-35a493199056",
   "metadata": {},
   "outputs": [
    {
     "name": "stdout",
     "output_type": "stream",
     "text": [
      "CartesianIndex(123, 104)"
     ]
    },
    {
     "data": {
      "image/png": "[encoded data removed]",
      "text/plain": [
       "Figure(PyObject <Figure size 640x480 with 3 Axes>)"
      ]
     },
     "metadata": {},
     "output_type": "display_data"
    }
   ],
   "source": [
    "let\n",
    "    dataset = \"2023-07-25-01\"\n",
    "    t = 1001\n",
    "\n",
    "    subplot(1,3,1)\n",
    "    img_raw = read_img(NRRD(joinpath(param_paths[dataset][\"path_dir_nrrd\"], param_paths[dataset][\"get_basename\"](t,2)*\".nrrd\")))\n",
    "    imshow(maxprj(img_raw,dims=3))\n",
    "\n",
    "    subplot(1,3,2)\n",
    "    img_raw = read_img(NRRD(joinpath(param_paths[dataset][\"path_dir_nrrd_crop\"], param_paths[dataset][\"get_basename\"](t,2)*\".nrrd\")))\n",
    "    img_size = (322,210,77)\n",
    "    img_uncrop = uncrop_img_roi(img_raw, data_dicts[dataset][\"dict_param_crop_rot\"][t], img_size)\n",
    "    imshow(maxprj(img_uncrop,dims=3))\n",
    "\n",
    "    subplot(1,3,3)\n",
    "    hp = uncrop_single_point(dataset, param_paths, data_dicts, manual_labels, t; plot=true)\n",
    "    print(hp)\n",
    "end"
   ]
  },
  {
   "cell_type": "markdown",
   "id": "7b565d1c-7e5e-4524-a828-79f24c7e77a2",
   "metadata": {},
   "source": [
    "### Sample hard cases from my manual inputs above"
   ]
  },
  {
   "cell_type": "code",
   "execution_count": 122,
   "id": "b5bc762e-0784-4c8d-bbcf-2b07213c68f2",
   "metadata": {
    "scrolled": true
   },
   "outputs": [
    {
     "name": "stdout",
     "output_type": "stream",
     "text": [
      "/data1/prj_starvation/data_processed/2023-07-25-01_output/NRRD_shearcorrect/2023-07-25-01_t0791_ch2.nrrd/data1/prj_starvation/data_processed/2023-07-25-01_output/NRRD_shearcorrect/2023-07-25-01_t1001_ch2.nrrd/data1/prj_starvation/data_processed/2023-07-25-01_output/NRRD_shearcorrect/2023-07-25-01_t0579_ch2.nrrd/data1/prj_starvation/data_processed/2023-07-25-01_output/NRRD_shearcorrect/2023-07-25-01_t0580_ch2.nrrd/data1/prj_starvation/data_processed/2023-07-25-01_output/NRRD_shearcorrect/2023-07-25-01_t0631_ch2.nrrd/data1/prj_starvation/data_processed/2023-07-25-01_output/NRRD_shearcorrect/2023-07-25-01_t0955_ch2.nrrd/data1/prj_starvation/data_processed/2023-07-25-01_output/NRRD_shearcorrect/2023-07-25-01_t0767_ch2.nrrd/data1/prj_starvation/data_processed/2023-09-13-02_output/NRRD_shearcorrect/2023-09-13-02_t0838_ch2.nrrd/data1/prj_starvation/data_processed/2023-09-13-02_output/NRRD_shearcorrect/2023-09-13-02_t0836_ch2.nrrd/data1/prj_starvation/data_processed/2023-09-13-02_output/NRRD_shearcorrect/2023-09-13-02_t0059_ch2.nrrd/data1/prj_starvation/data_processed/2023-09-13-02_output/NRRD_shearcorrect/2023-09-13-02_t0965_ch2.nrrd/data1/prj_starvation/data_processed/2023-09-13-02_output/NRRD_shearcorrect/2023-09-13-02_t0866_ch2.nrrd/data1/prj_starvation/data_processed/2023-09-13-02_output/NRRD_shearcorrect/2023-09-13-02_t0942_ch2.nrrd/data1/prj_starvation/data_processed/2023-09-13-02_output/NRRD_shearcorrect/2023-09-13-02_t0857_ch2.nrrd/data1/prj_starvation/data_processed/2023-09-13-02_output/NRRD_shearcorrect/2023-09-13-02_t0336_ch2.nrrd/data1/prj_starvation/data_processed/2023-09-13-02_output/NRRD_shearcorrect/2023-09-13-02_t0887_ch2.nrrd/data1/prj_starvation/data_processed/2023-09-13-02_output/NRRD_shearcorrect/2023-09-13-02_t0835_ch2.nrrd/data1/prj_starvation/data_processed/2023-09-13-02_output/NRRD_shearcorrect/2023-09-13-02_t0954_ch2.nrrd/data1/prj_starvation/data_processed/2023-09-13-02_output/NRRD_shearcorrect/2023-09-13-02_t0834_ch2.nrrd/data1/prj_starvation/data_processed/2023-09-13-02_output/NRRD_shearcorrect/2023-09-13-02_t0833_ch2.nrrd/data1/prj_starvation/data_processed/2023-09-13-02_output/NRRD_shearcorrect/2023-09-13-02_t0826_ch2.nrrd/data1/prj_starvation/data_processed/2023-09-13-02_output/NRRD_shearcorrect/2023-09-13-02_t0315_ch2.nrrd/data1/prj_starvation/data_processed/2023-09-13-02_output/NRRD_shearcorrect/2023-09-13-02_t0944_ch2.nrrd/data1/prj_starvation/data_processed/2023-09-13-02_output/NRRD_shearcorrect/2023-09-13-02_t0958_ch2.nrrd/data1/prj_starvation/data_processed/2023-09-13-02_output/NRRD_shearcorrect/2023-09-13-02_t0852_ch2.nrrd/data1/prj_starvation/data_processed/2023-09-13-02_output/NRRD_shearcorrect/2023-09-13-02_t0861_ch2.nrrd/data1/prj_starvation/data_processed/2023-09-13-02_output/NRRD_shearcorrect/2023-09-13-02_t0851_ch2.nrrd/data1/prj_starvation/data_processed/2023-09-13-02_output/NRRD_shearcorrect/2023-09-13-02_t0910_ch2.nrrd/data1/prj_starvation/data_processed/2023-09-13-02_output/NRRD_shearcorrect/2023-09-13-02_t0845_ch2.nrrd/data1/prj_starvation/data_processed/2023-09-13-02_output/NRRD_shearcorrect/2023-09-13-02_t0921_ch2.nrrd/data1/prj_starvation/data_processed/2023-09-13-02_output/NRRD_shearcorrect/2023-09-13-02_t0878_ch2.nrrd/data1/prj_starvation/data_processed/2023-09-13-02_output/NRRD_shearcorrect/2023-09-13-02_t0450_ch2.nrrd/data1/prj_starvation/data_processed/2023-09-13-02_output/NRRD_shearcorrect/2023-09-13-02_t0847_ch2.nrrd/data1/prj_starvation/data_processed/2023-09-13-02_output/NRRD_shearcorrect/2023-09-13-02_t0951_ch2.nrrd/data1/prj_starvation/data_processed/2023-09-13-02_output/NRRD_shearcorrect/2023-09-13-02_t0483_ch2.nrrd/data1/prj_starvation/data_processed/2023-09-13-02_output/NRRD_shearcorrect/2023-09-13-02_t0969_ch2.nrrd/data1/prj_starvation/data_processed/2023-09-13-02_output/NRRD_shearcorrect/2023-09-13-02_t0924_ch2.nrrd/data1/prj_starvation/data_processed/2023-09-13-02_output/NRRD_shearcorrect/2023-09-13-02_t0952_ch2.nrrd/data1/prj_starvation/data_processed/2023-09-13-02_output/NRRD_shearcorrect/2023-09-13-02_t0950_ch2.nrrd/data1/prj_starvation/data_processed/2023-09-13-02_output/NRRD_shearcorrect/2023-09-13-02_t0955_ch2.nrrd/data1/prj_starvation/data_processed/2023-09-13-02_output/NRRD_shearcorrect/2023-09-13-02_t0842_ch2.nrrd/data1/prj_starvation/data_processed/2023-09-13-02_output/NRRD_shearcorrect/2023-09-13-02_t0428_ch2.nrrd/data1/prj_starvation/data_processed/2023-09-13-02_output/NRRD_shearcorrect/2023-09-13-02_t0943_ch2.nrrd/data1/prj_starvation/data_processed/2023-09-13-02_output/NRRD_shearcorrect/2023-09-13-02_t0964_ch2.nrrd/data1/prj_starvation/data_processed/2023-09-13-02_output/NRRD_shearcorrect/2023-09-13-02_t0953_ch2.nrrd/data1/prj_starvation/data_processed/2023-09-13-02_output/NRRD_shearcorrect/2023-09-13-02_t0883_ch2.nrrd/data1/prj_starvation/data_processed/2023-09-13-02_output/NRRD_shearcorrect/2023-09-13-02_t0736_ch2.nrrd/data1/prj_starvation/data_processed/2023-09-13-02_output/NRRD_shearcorrect/2023-09-13-02_t0882_ch2.nrrd/data1/prj_starvation/data_processed/2023-09-13-02_output/NRRD_shearcorrect/2023-09-13-02_t0949_ch2.nrrd/data1/prj_starvation/data_processed/2023-09-13-02_output/NRRD_shearcorrect/2023-09-13-02_t0864_ch2.nrrd/data1/prj_starvation/data_processed/2023-09-13-02_output/NRRD_shearcorrect/2023-09-13-02_t0923_ch2.nrrd/data1/prj_starvation/data_processed/2023-09-13-02_output/NRRD_shearcorrect/2023-09-13-02_t0961_ch2.nrrd/data1/prj_starvation/data_processed/2023-09-13-02_output/NRRD_shearcorrect/2023-09-13-02_t0886_ch2.nrrd/data1/prj_starvation/data_processed/2023-09-13-02_output/NRRD_shearcorrect/2023-09-13-02_t0873_ch2.nrrd/data1/prj_starvation/data_processed/2023-09-13-02_output/NRRD_shearcorrect/2023-09-13-02_t0844_ch2.nrrd/data1/prj_starvation/data_processed/2023-09-13-02_output/NRRD_shearcorrect/2023-09-13-02_t0863_ch2.nrrd/data1/prj_starvation/data_processed/2023-09-13-02_output/NRRD_shearcorrect/2023-09-13-02_t0940_ch2.nrrd/data1/prj_starvation/data_processed/2023-09-13-02_output/NRRD_shearcorrect/2023-09-13-02_t0325_ch2.nrrd/data1/prj_starvation/data_processed/2023-09-13-02_output/NRRD_shearcorrect/2023-09-13-02_t0320_ch2.nrrd/data1/prj_starvation/data_processed/2023-09-13-02_output/NRRD_shearcorrect/2023-09-13-02_t0911_ch2.nrrd/data1/prj_starvation/data_processed/2023-09-13-02_output/NRRD_shearcorrect/2023-09-13-02_t0324_ch2.nrrd/data1/prj_starvation/data_processed/2023-09-13-02_output/NRRD_shearcorrect/2023-09-13-02_t0938_ch2.nrrd/data1/prj_starvation/data_processed/2023-09-13-02_output/NRRD_shearcorrect/2023-09-13-02_t0920_ch2.nrrd/data1/prj_starvation/data_processed/2023-09-13-02_output/NRRD_shearcorrect/2023-09-13-02_t0837_ch2.nrrd/data1/prj_starvation/data_processed/2023-09-13-02_output/NRRD_shearcorrect/2023-09-13-02_t0486_ch2.nrrd/data1/prj_starvation/data_processed/2023-09-13-02_output/NRRD_shearcorrect/2023-09-13-02_t0334_ch2.nrrd/data1/prj_starvation/data_processed/2023-09-13-02_output/NRRD_shearcorrect/2023-09-13-02_t0314_ch2.nrrd/data1/prj_starvation/data_processed/2023-09-13-02_output/NRRD_shearcorrect/2023-09-13-02_t0947_ch2.nrrd/data1/prj_starvation/data_processed/2023-09-13-02_output/NRRD_shearcorrect/2023-09-13-02_t0288_ch2.nrrd/data1/prj_starvation/data_processed/2023-09-13-02_output/NRRD_shearcorrect/2023-09-13-02_t0321_ch2.nrrd/data1/prj_starvation/data_processed/2023-09-13-02_output/NRRD_shearcorrect/2023-09-13-02_t0945_ch2.nrrd/data1/prj_starvation/data_processed/2023-09-19-01_output/NRRD_shearcorrect/2023-09-19-01_t1299_ch2.nrrd/data1/prj_starvation/data_processed/2023-09-19-01_output/NRRD_shearcorrect/2023-09-19-01_t0658_ch2.nrrd/data1/prj_starvation/data_processed/2023-09-19-01_output/NRRD_shearcorrect/2023-09-19-01_t0660_ch2.nrrd/data1/prj_starvation/data_processed/2023-09-19-01_output/NRRD_shearcorrect/2023-09-19-01_t0659_ch2.nrrd/data1/prj_starvation/data_processed/2023-09-19-01_output/NRRD_shearcorrect/2023-09-19-01_t0661_ch2.nrrd/data1/prj_starvation/data_processed/2023-09-19-01_output/NRRD_shearcorrect/2023-09-19-01_t0800_ch2.nrrd/data1/prj_starvation/data_processed/2023-09-19-01_output/NRRD_shearcorrect/2023-09-19-01_t1300_ch2.nrrd/data1/prj_starvation/data_processed/2023-09-29-01_output/NRRD_shearcorrect/2023-09-29-01_t1103_ch2.nrrd/data1/prj_starvation/data_processed/2023-09-29-01_output/NRRD_shearcorrect/2023-09-29-01_t0501_ch2.nrrd/data1/prj_starvation/data_processed/2023-09-29-01_output/NRRD_shearcorrect/2023-09-29-01_t0500_ch2.nrrd/data1/prj_starvation/data_processed/2023-09-29-01_output/NRRD_shearcorrect/2023-09-29-01_t1409_ch2.nrrd/data1/prj_starvation/data_processed/2023-09-29-01_output/NRRD_shearcorrect/2023-09-29-01_t0759_ch2.nrrd/data1/prj_starvation/data_processed/2023-09-29-01_output/NRRD_shearcorrect/2023-09-29-01_t1100_ch2.nrrd/data1/prj_starvation/data_processed/2023-09-29-01_output/NRRD_shearcorrect/2023-09-29-01_t0368_ch2.nrrd/data1/prj_starvation/data_processed/2023-09-29-01_output/NRRD_shearcorrect/2023-09-29-01_t1102_ch2.nrrd/data1/prj_starvation/data_processed/2023-08-01-01_output/NRRD_shearcorrect/2023-08-01-01_t1295_ch2.nrrd/data1/prj_starvation/data_processed/2023-08-01-01_output/NRRD_shearcorrect/2023-08-01-01_t1324_ch2.nrrd/data1/prj_starvation/data_processed/2023-08-01-01_output/NRRD_shearcorrect/2023-08-01-01_t1354_ch2.nrrd/data1/prj_starvation/data_processed/2023-08-01-01_output/NRRD_shearcorrect/2023-08-01-01_t0171_ch2.nrrd/data1/prj_starvation/data_processed/2023-08-01-01_output/NRRD_shearcorrect/2023-08-01-01_t1326_ch2.nrrd/data1/prj_starvation/data_processed/2023-08-01-01_output/NRRD_shearcorrect/2023-08-01-01_t1359_ch2.nrrd/data1/prj_starvation/data_processed/2023-08-01-01_output/NRRD_shearcorrect/2023-08-01-01_t1341_ch2.nrrd/data1/prj_starvation/data_processed/2023-08-01-01_output/NRRD_shearcorrect/2023-08-01-01_t0168_ch2.nrrd/data1/prj_starvation/data_processed/2023-08-01-01_output/NRRD_shearcorrect/2023-08-01-01_t1340_ch2.nrrd/data1/prj_starvation/data_processed/2023-08-01-01_output/NRRD_shearcorrect/2023-08-01-01_t1321_ch2.nrrd/data1/prj_starvation/data_processed/2023-08-01-01_output/NRRD_shearcorrect/2023-08-01-01_t0172_ch2.nrrd/data1/prj_starvation/data_processed/2023-08-01-01_output/NRRD_shearcorrect/2023-08-01-01_t1342_ch2.nrrd/data1/prj_starvation/data_processed/2023-09-27-14_output/NRRD_shearcorrect/2023-09-27-14_t0278_ch2.nrrd/data1/prj_starvation/data_processed/2023-09-27-14_output/NRRD_shearcorrect/2023-09-27-14_t1286_ch2.nrrd/data1/prj_starvation/data_processed/2023-09-27-14_output/NRRD_shearcorrect/2023-09-27-14_t0276_ch2.nrrd/data1/prj_starvation/data_processed/2023-09-27-14_output/NRRD_shearcorrect/2023-09-27-14_t0894_ch2.nrrd/data1/prj_starvation/data_processed/2023-09-27-14_output/NRRD_shearcorrect/2023-09-27-14_t0277_ch2.nrrd/data1/prj_starvation/data_processed/2023-09-27-14_output/NRRD_shearcorrect/2023-09-27-14_t0897_ch2.nrrd/data1/prj_starvation/data_processed/2023-09-27-14_output/NRRD_shearcorrect/2023-09-27-14_t0896_ch2.nrrd/data1/prj_starvation/data_processed/2023-09-27-14_output/NRRD_shearcorrect/2023-09-27-14_t0891_ch2.nrrd/data1/prj_starvation/data_processed/2023-09-27-14_output/NRRD_shearcorrect/2023-09-27-14_t0893_ch2.nrrd/data1/prj_starvation/data_processed/2023-09-27-14_output/NRRD_shearcorrect/2023-09-27-14_t0892_ch2.nrrd/data1/prj_starvation/data_processed/2023-09-27-14_output/NRRD_shearcorrect/2023-09-27-14_t0895_ch2.nrrd/data1/prj_starvation/data_processed/2023-07-24-20_output/NRRD_shearcorrect/2023-07-24-20_t0142_ch2.nrrd/data1/prj_starvation/data_processed/2023-07-24-20_output/NRRD_shearcorrect/2023-07-24-20_t0960_ch2.nrrd/data1/prj_starvation/data_processed/2023-07-24-20_output/NRRD_shearcorrect/2023-07-24-20_t0570_ch2.nrrd/data1/prj_starvation/data_processed/2023-07-24-20_output/NRRD_shearcorrect/2023-07-24-20_t0143_ch2.nrrd/data1/prj_starvation/data_processed/2023-07-24-20_output/NRRD_shearcorrect/2023-07-24-20_t0375_ch2.nrrd/data1/prj_starvation/data_processed/2023-07-24-20_output/NRRD_shearcorrect/2023-07-24-20_t0961_ch2.nrrd/data1/prj_starvation/data_processed/2023-07-24-20_output/NRRD_shearcorrect/2023-07-24-20_t0501_ch2.nrrd/data1/prj_starvation/data_processed/2023-07-24-20_output/NRRD_shearcorrect/2023-07-24-20_t0144_ch2.nrrd/data1/prj_starvation/data_processed/2023-07-24-20_output/NRRD_shearcorrect/2023-07-24-20_t0569_ch2.nrrd/data1/prj_starvation/data_processed/2023-07-24-20_output/NRRD_shearcorrect/2023-07-24-20_t0884_ch2.nrrd/data1/prj_starvation/data_processed/2023-07-24-20_output/NRRD_shearcorrect/2023-07-24-20_t0886_ch2.nrrd/data1/prj_starvation/data_processed/2023-07-24-20_output/NRRD_shearcorrect/2023-07-24-20_t0145_ch2.nrrd/data1/prj_starvation/data_processed/2023-07-24-20_output/NRRD_shearcorrect/2023-07-24-20_t0499_ch2.nrrd/data1/prj_starvation/data_processed/2023-07-24-20_output/NRRD_shearcorrect/2023-07-24-20_t0571_ch2.nrrd/data1/prj_starvation/data_processed/2023-07-24-20_output/NRRD_shearcorrect/2023-07-24-20_t0146_ch2.nrrd/data1/prj_starvation/data_processed/2023-07-24-20_output/NRRD_shearcorrect/2023-07-24-20_t0147_ch2.nrrd/data1/prj_starvation/data_processed/2023-07-24-20_output/NRRD_shearcorrect/2023-07-24-20_t0489_ch2.nrrd"
     ]
    }
   ],
   "source": [
    "using Random\n",
    "Random.seed!(42)\n",
    "\n",
    "imgs_label = []\n",
    "imgs_raw = []\n",
    "max_len_per_dataset = 64 ### only take a few frames from each animal\n",
    "\n",
    "dataset_len_dist = Dict()\n",
    "contrast = 1.5\n",
    "# savedir = \"/data1/shared/head_detector_0124/head_detector_0124/head_pos_figs_hard\"\n",
    "savedir = \"/store1/candy/prj_unet2d/data/head_pos_figs_hard\"\n",
    "hard_count = 0 ### how many manually labelled images went into the all_data.h5\n",
    "\n",
    "for dataset in collect(keys(manual_labels))   # per animal\n",
    "    dataset_root = dataset_paths[dataset]\n",
    "    all_hard_tp = collect(keys(manual_labels[dataset]))\n",
    "    n_samples = min(max_len_per_dataset, length(all_hard_tp))\n",
    "    sample_hard_tp = shuffle(all_hard_tp)[1:n_samples]\n",
    "    count = 0\n",
    "    for t in sample_hard_tp\n",
    "        path_file = joinpath(dataset_root, \"NRRD_shearcorrect\", param_paths[dataset][\"get_basename\"](t,2)*\".nrrd\")\n",
    "        # print(path_file)\n",
    "        if !isfile(path_file)\n",
    "            continue\n",
    "        end\n",
    "        img_raw = read_img(NRRD(path_file))\n",
    "        img_raw = img_raw[1:322,1:210,:]       \n",
    "        img_raw = maxprj(img_raw,dims=3)\n",
    "        img_label = zeros(Bool, size(img_raw))\n",
    "        \n",
    "        # img_raw = resample_img(img_raw, [2,2])\n",
    "        # img_roi = zeros(Int32, size(img_raw))\n",
    "        try\n",
    "            hp = uncrop_single_point(dataset, param_paths, data_dicts, manual_labels, t) ### uncrop the manual head_pos\n",
    "            # print(hp)\n",
    "            img_label[[x for x in CartesianIndices(size(img_label)) if euclidean_dist(Tuple(x),Tuple(hp)) < 25]] .= 1\n",
    "            # img_label[hp[1], hp[2]] .= 1\n",
    "            # img_label = resample_img(img_label, [2,2]) ### downsample by a factor of 2\n",
    "        catch e\n",
    "            continue\n",
    "        end\n",
    "        push!(imgs_label, img_label)\n",
    "        push!(imgs_raw, img_raw)\n",
    "\n",
    "        img_max = percentile(reshape(img_raw, (prod(size(img_raw)),)), 100-contrast)\n",
    "        img_min = percentile(reshape(img_raw, (prod(size(img_raw)),)), contrast)\n",
    "        img_rgb = RGB.(max.(0,min.(1,(img_raw .- img_min) ./ (img_max - img_min))), img_label, 0)\n",
    "        save(joinpath(savedir, \"$(dataset)-$(t).png\"), img_rgb)\n",
    "        count += 1\n",
    "    end\n",
    "    dataset_len_dist[dataset] = count\n",
    "    hard_count += count\n",
    "end"
   ]
  },
  {
   "cell_type": "code",
   "execution_count": 123,
   "id": "d474fc23-3b81-40e5-b6ec-33b6fccae9ec",
   "metadata": {},
   "outputs": [
    {
     "data": {
      "text/plain": [
       "Dict{Any, Any} with 7 entries:\n",
       "  \"2023-07-25-01\" => 5\n",
       "  \"2023-09-13-02\" => 64\n",
       "  \"2023-09-19-01\" => 7\n",
       "  \"2023-09-29-01\" => 7\n",
       "  \"2023-08-01-01\" => 12\n",
       "  \"2023-09-27-14\" => 8\n",
       "  \"2023-07-24-20\" => 17"
      ]
     },
     "execution_count": 123,
     "metadata": {},
     "output_type": "execute_result"
    }
   ],
   "source": [
    "dataset_len_dist"
   ]
  },
  {
   "cell_type": "code",
   "execution_count": 124,
   "id": "0c6f802b-3d75-4d36-8bf5-3e46bcf7dc4e",
   "metadata": {},
   "outputs": [
    {
     "data": {
      "text/plain": [
       "120"
      ]
     },
     "execution_count": 124,
     "metadata": {},
     "output_type": "execute_result"
    }
   ],
   "source": [
    "hard_count"
   ]
  },
  {
   "cell_type": "markdown",
   "id": "d8d548f3-eb8d-4778-ac0b-199cbf9c699a",
   "metadata": {},
   "source": [
    "### Sample easy cases from data_dicts at the successfully registered time points"
   ]
  },
  {
   "cell_type": "code",
   "execution_count": 125,
   "id": "8af0b403",
   "metadata": {
    "scrolled": true
   },
   "outputs": [],
   "source": [
    "using Random\n",
    "Random.seed!(42)\n",
    "contrast = 1.5\n",
    "# savedir = \"/data1/shared/head_detector_0124/head_detector_0124/head_pos_figs_easy\"\n",
    "savedir = \"/store1/candy/prj_unet2d/data/head_pos_figs_easy\"\n",
    "easy_count = 0 ### how many automatically labelled images went into the all_data.h5\n",
    "max_per_animal = 32\n",
    "\n",
    "for dataset in keys(data_dicts) # per animal\n",
    "    if dataset in [\"2023-09-29-01\", \"2023-07-25-01\"] ### these two datasets are not used for easy cases at all\n",
    "        continue\n",
    "    end\n",
    "    dataset_root = dataset_paths[dataset]\n",
    "    \n",
    "    ### sample easy cases from the time points of known high registration quality\n",
    "    ta = data_dicts[dataset][\"traces_array_quality\"]\n",
    "    valid_timepts = shuffle([t for t in 1:size(ta,2) if sum(ta[:,t] .> 0) > 0.9 * length(ta[:,t])])\n",
    "    \n",
    "    ### if t is already included in the hard cases, don't double count\n",
    "    if haskey(dataset_len_dist, dataset)\n",
    "        t_hard = collect(keys(manual_labels[dataset]))\n",
    "        valid_timepts = setdiff(valid_timepts, t_hard)\n",
    "        max_len_per_dataset = minimum([max_per_animal - dataset_len_dist[dataset], 0]) ### take very few from this animal since a lot of frames were already in the hard cases\n",
    "    else\n",
    "        max_len_per_dataset = copy(max_per_animal) ### only take a few frames from each animal that did not have manual head pos labels\n",
    "    end\n",
    "    \n",
    "    count = 0\n",
    "    n_samples = min(max_len_per_dataset, length(valid_timepts))\n",
    "    for i = 1:n_samples\n",
    "        t = valid_timepts[i]\n",
    "        img_crop = nothing\n",
    "        img_raw = nothing\n",
    "        try\n",
    "            path_ = joinpath(dataset_root, \"NRRD_cropped\", param_paths[dataset][\"get_basename\"](t,2)*\".nrrd\")\n",
    "            img_crop = read_img(NRRD(path_))\n",
    "        catch e\n",
    "            continue\n",
    "        end\n",
    "        try\n",
    "            path_ = joinpath(dataset_root, \"NRRD_shearcorrect\", param_paths[dataset][\"get_basename\"](t,2)*\".nrrd\")\n",
    "            img_raw = read_img(NRRD(path_))\n",
    "        catch e\n",
    "            path_ = joinpath(dataset_root, \"NRRD\", param_paths[dataset][\"get_basename\"](t,2)*\".nrrd\")\n",
    "            img_raw = read_img(NRRD(path_))\n",
    "        end\n",
    "        img_raw = img_raw[1:322,1:210,:]\n",
    "        img_roi = zeros(Bool, size(img_crop))\n",
    "        head_pt = nothing\n",
    "        try\n",
    "            hp = data_dicts[dataset][\"head_pos\"][t]\n",
    "            img_roi[hp[1],hp[2],1] = 1\n",
    "            img_label = maxprj(uncrop_img_roi(img_roi, data_dicts[dataset][\"dict_param_crop_rot\"][t], size(img_raw)),dims=3)\n",
    "            head_pt = findall(img_label .== 1)[1]\n",
    "        catch e\n",
    "            # println(\"error happened: $hp $e\\n\")\n",
    "            continue\n",
    "        end\n",
    "        img_raw = maxprj(img_raw,dims=3)\n",
    "        img_label = zeros(Bool, size(img_raw))\n",
    "        img_label[[x for x in CartesianIndices(size(img_label)) if euclidean_dist(Tuple(x),Tuple(head_pt)) < 25]] .= 1\n",
    "        # img_raw = resample_img(img_raw, [2,2])\n",
    "        # img_label = resample_img(img_label, [2,2], dtype=\"label\")\n",
    "        push!(imgs_label, img_label)\n",
    "        push!(imgs_raw, img_raw)\n",
    "\n",
    "        img_max = percentile(reshape(img_raw, (prod(size(img_raw)),)), 100-contrast)\n",
    "        img_min = percentile(reshape(img_raw, (prod(size(img_raw)),)), contrast)\n",
    "        img_rgb = RGB.(max.(0,min.(1,(img_raw .- img_min) ./ (img_max - img_min))), img_label, 0)\n",
    "        save(joinpath(savedir, \"$(dataset)-$(t).png\"), img_rgb)\n",
    "        # print(\"$(count): $(dataset) - $(t) \\n\")\n",
    "        count += 1\n",
    "    end\n",
    "    if haskey(dataset_len_dist, dataset)\n",
    "        dataset_len_dist[dataset] += count\n",
    "    else\n",
    "        dataset_len_dist[dataset] = count\n",
    "    end\n",
    "    easy_count += count\n",
    "end"
   ]
  },
  {
   "cell_type": "code",
   "execution_count": 126,
   "id": "029fe7c3-11cc-4c7b-be33-6382c224ff96",
   "metadata": {},
   "outputs": [
    {
     "data": {
      "text/plain": [
       "3379"
      ]
     },
     "execution_count": 126,
     "metadata": {},
     "output_type": "execute_result"
    }
   ],
   "source": [
    "easy_count"
   ]
  },
  {
   "cell_type": "code",
   "execution_count": 127,
   "id": "c70f9787-1e50-4012-85e3-97198cee05db",
   "metadata": {},
   "outputs": [
    {
     "data": {
      "text/plain": [
       "Dict{Any, Any} with 168 entries:\n",
       "  \"2024-04-15-03\" => 29\n",
       "  \"2023-08-23-02\" => 0\n",
       "  \"2023-08-23-23\" => 0\n",
       "  \"2023-09-27-01\" => 29\n",
       "  \"2023-06-24-28\" => 0\n",
       "  \"2024-05-02-13\" => 0\n",
       "  \"2022-07-12-13\" => 29\n",
       "  \"2022-07-26-38\" => 31\n",
       "  \"2023-07-14-08\" => 30\n",
       "  \"2023-10-06-07\" => 29\n",
       "  \"2022-06-14-07\" => 30\n",
       "  \"2023-06-05-01\" => 28\n",
       "  \"2022-07-27-31\" => 29\n",
       "  \"2023-09-19-01\" => 7\n",
       "  \"2023-07-07-18\" => 0\n",
       "  \"2023-07-28-04\" => 0\n",
       "  \"2023-08-22-08\" => 0\n",
       "  \"2023-06-23-08\" => 29\n",
       "  \"2023-05-04-01\" => 29\n",
       "  \"2023-07-25-11\" => 29\n",
       "  \"2023-01-10-07\" => 31\n",
       "  \"2023-08-02-01\" => 30\n",
       "  \"2023-10-03-02\" => 0\n",
       "  \"2023-06-29-01\" => 30\n",
       "  \"2023-05-26-08\" => 26\n",
       "  ⋮               => ⋮"
      ]
     },
     "execution_count": 127,
     "metadata": {},
     "output_type": "execute_result"
    }
   ],
   "source": [
    "dataset_len_dist"
   ]
  },
  {
   "cell_type": "code",
   "execution_count": 128,
   "id": "9916d756",
   "metadata": {},
   "outputs": [
    {
     "data": {
      "text/plain": [
       "3499"
      ]
     },
     "execution_count": 128,
     "metadata": {},
     "output_type": "execute_result"
    }
   ],
   "source": [
    "sum(values(dataset_len_dist))"
   ]
  },
  {
   "cell_type": "code",
   "execution_count": 129,
   "id": "5f5266ab",
   "metadata": {},
   "outputs": [],
   "source": [
    "### write into h5\n",
    "path_new_h5 = \"/store1/candy/prj_unet2d/data/preCropNet.h5\"\n",
    "\n",
    "h5open(path_new_h5, \"w\") do f\n",
    "    for i=1:length(imgs_label)\n",
    "        d = \"$(i)\"\n",
    "        create_group(f, d)\n",
    "        f[d][\"img\"] = UInt16.(imgs_raw[i])   #UNet2D.standardize(Float32.(imgs_raw[i])) #### change!!\n",
    "        f[d][\"label\"] = imgs_label[i]\n",
    "    end\n",
    "end"
   ]
  }
 ],
 "metadata": {
  "@webio": {
   "lastCommId": "37573b8b8969491eb3bd3a3e7c78c2ae",
   "lastKernelId": "3e87cef0-a1a2-4273-a773-ef964265b7a1"
  },
  "kernelspec": {
   "display_name": "Julia 1.9.2",
   "language": "julia",
   "name": "julia-1.9"
  },
  "language_info": {
   "file_extension": ".jl",
   "mimetype": "application/julia",
   "name": "julia",
   "version": "1.9.2"
  }
 },
 "nbformat": 4,
 "nbformat_minor": 5
}
